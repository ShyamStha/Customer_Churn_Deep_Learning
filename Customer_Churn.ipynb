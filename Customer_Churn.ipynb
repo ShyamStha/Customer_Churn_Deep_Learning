{
 "cells": [
  {
   "cell_type": "markdown",
   "metadata": {},
   "source": [
    "# Cutomer Churn detector using Deep Learning"
   ]
  },
  {
   "cell_type": "markdown",
   "metadata": {},
   "source": [
    "* Importing the important libraries"
   ]
  },
  {
   "cell_type": "code",
   "execution_count": 1,
   "metadata": {},
   "outputs": [],
   "source": [
    "import pandas as pd\n",
    "import numpy as np\n",
    "import matplotlib.pyplot as plt\n",
    "import seaborn as sns"
   ]
  },
  {
   "cell_type": "code",
   "execution_count": 2,
   "metadata": {},
   "outputs": [],
   "source": [
    "df = pd.read_csv('churn/Churn_Modelling.csv')"
   ]
  },
  {
   "cell_type": "code",
   "execution_count": 3,
   "metadata": {},
   "outputs": [
    {
     "data": {
      "text/html": [
       "<div>\n",
       "<style scoped>\n",
       "    .dataframe tbody tr th:only-of-type {\n",
       "        vertical-align: middle;\n",
       "    }\n",
       "\n",
       "    .dataframe tbody tr th {\n",
       "        vertical-align: top;\n",
       "    }\n",
       "\n",
       "    .dataframe thead th {\n",
       "        text-align: right;\n",
       "    }\n",
       "</style>\n",
       "<table border=\"1\" class=\"dataframe\">\n",
       "  <thead>\n",
       "    <tr style=\"text-align: right;\">\n",
       "      <th></th>\n",
       "      <th>RowNumber</th>\n",
       "      <th>CustomerId</th>\n",
       "      <th>Surname</th>\n",
       "      <th>CreditScore</th>\n",
       "      <th>Geography</th>\n",
       "      <th>Gender</th>\n",
       "      <th>Age</th>\n",
       "      <th>Tenure</th>\n",
       "      <th>Balance</th>\n",
       "      <th>NumOfProducts</th>\n",
       "      <th>HasCrCard</th>\n",
       "      <th>IsActiveMember</th>\n",
       "      <th>EstimatedSalary</th>\n",
       "      <th>Exited</th>\n",
       "    </tr>\n",
       "  </thead>\n",
       "  <tbody>\n",
       "    <tr>\n",
       "      <th>0</th>\n",
       "      <td>1</td>\n",
       "      <td>15634602</td>\n",
       "      <td>Hargrave</td>\n",
       "      <td>619</td>\n",
       "      <td>France</td>\n",
       "      <td>Female</td>\n",
       "      <td>42</td>\n",
       "      <td>2</td>\n",
       "      <td>0.00</td>\n",
       "      <td>1</td>\n",
       "      <td>1</td>\n",
       "      <td>1</td>\n",
       "      <td>101348.88</td>\n",
       "      <td>1</td>\n",
       "    </tr>\n",
       "    <tr>\n",
       "      <th>1</th>\n",
       "      <td>2</td>\n",
       "      <td>15647311</td>\n",
       "      <td>Hill</td>\n",
       "      <td>608</td>\n",
       "      <td>Spain</td>\n",
       "      <td>Female</td>\n",
       "      <td>41</td>\n",
       "      <td>1</td>\n",
       "      <td>83807.86</td>\n",
       "      <td>1</td>\n",
       "      <td>0</td>\n",
       "      <td>1</td>\n",
       "      <td>112542.58</td>\n",
       "      <td>0</td>\n",
       "    </tr>\n",
       "    <tr>\n",
       "      <th>2</th>\n",
       "      <td>3</td>\n",
       "      <td>15619304</td>\n",
       "      <td>Onio</td>\n",
       "      <td>502</td>\n",
       "      <td>France</td>\n",
       "      <td>Female</td>\n",
       "      <td>42</td>\n",
       "      <td>8</td>\n",
       "      <td>159660.80</td>\n",
       "      <td>3</td>\n",
       "      <td>1</td>\n",
       "      <td>0</td>\n",
       "      <td>113931.57</td>\n",
       "      <td>1</td>\n",
       "    </tr>\n",
       "    <tr>\n",
       "      <th>3</th>\n",
       "      <td>4</td>\n",
       "      <td>15701354</td>\n",
       "      <td>Boni</td>\n",
       "      <td>699</td>\n",
       "      <td>France</td>\n",
       "      <td>Female</td>\n",
       "      <td>39</td>\n",
       "      <td>1</td>\n",
       "      <td>0.00</td>\n",
       "      <td>2</td>\n",
       "      <td>0</td>\n",
       "      <td>0</td>\n",
       "      <td>93826.63</td>\n",
       "      <td>0</td>\n",
       "    </tr>\n",
       "    <tr>\n",
       "      <th>4</th>\n",
       "      <td>5</td>\n",
       "      <td>15737888</td>\n",
       "      <td>Mitchell</td>\n",
       "      <td>850</td>\n",
       "      <td>Spain</td>\n",
       "      <td>Female</td>\n",
       "      <td>43</td>\n",
       "      <td>2</td>\n",
       "      <td>125510.82</td>\n",
       "      <td>1</td>\n",
       "      <td>1</td>\n",
       "      <td>1</td>\n",
       "      <td>79084.10</td>\n",
       "      <td>0</td>\n",
       "    </tr>\n",
       "  </tbody>\n",
       "</table>\n",
       "</div>"
      ],
      "text/plain": [
       "   RowNumber  CustomerId   Surname  CreditScore Geography  Gender  Age  \\\n",
       "0          1    15634602  Hargrave          619    France  Female   42   \n",
       "1          2    15647311      Hill          608     Spain  Female   41   \n",
       "2          3    15619304      Onio          502    France  Female   42   \n",
       "3          4    15701354      Boni          699    France  Female   39   \n",
       "4          5    15737888  Mitchell          850     Spain  Female   43   \n",
       "\n",
       "   Tenure    Balance  NumOfProducts  HasCrCard  IsActiveMember  \\\n",
       "0       2       0.00              1          1               1   \n",
       "1       1   83807.86              1          0               1   \n",
       "2       8  159660.80              3          1               0   \n",
       "3       1       0.00              2          0               0   \n",
       "4       2  125510.82              1          1               1   \n",
       "\n",
       "   EstimatedSalary  Exited  \n",
       "0        101348.88       1  \n",
       "1        112542.58       0  \n",
       "2        113931.57       1  \n",
       "3         93826.63       0  \n",
       "4         79084.10       0  "
      ]
     },
     "execution_count": 3,
     "metadata": {},
     "output_type": "execute_result"
    }
   ],
   "source": [
    "#Reading the first five data\n",
    "df.head()"
   ]
  },
  {
   "cell_type": "code",
   "execution_count": 4,
   "metadata": {},
   "outputs": [
    {
     "data": {
      "text/html": [
       "<div>\n",
       "<style scoped>\n",
       "    .dataframe tbody tr th:only-of-type {\n",
       "        vertical-align: middle;\n",
       "    }\n",
       "\n",
       "    .dataframe tbody tr th {\n",
       "        vertical-align: top;\n",
       "    }\n",
       "\n",
       "    .dataframe thead th {\n",
       "        text-align: right;\n",
       "    }\n",
       "</style>\n",
       "<table border=\"1\" class=\"dataframe\">\n",
       "  <thead>\n",
       "    <tr style=\"text-align: right;\">\n",
       "      <th></th>\n",
       "      <th>RowNumber</th>\n",
       "      <th>CustomerId</th>\n",
       "      <th>Surname</th>\n",
       "      <th>CreditScore</th>\n",
       "      <th>Geography</th>\n",
       "      <th>Gender</th>\n",
       "      <th>Age</th>\n",
       "      <th>Tenure</th>\n",
       "      <th>Balance</th>\n",
       "      <th>NumOfProducts</th>\n",
       "      <th>HasCrCard</th>\n",
       "      <th>IsActiveMember</th>\n",
       "      <th>EstimatedSalary</th>\n",
       "      <th>Exited</th>\n",
       "    </tr>\n",
       "  </thead>\n",
       "  <tbody>\n",
       "    <tr>\n",
       "      <th>9995</th>\n",
       "      <td>9996</td>\n",
       "      <td>15606229</td>\n",
       "      <td>Obijiaku</td>\n",
       "      <td>771</td>\n",
       "      <td>France</td>\n",
       "      <td>Male</td>\n",
       "      <td>39</td>\n",
       "      <td>5</td>\n",
       "      <td>0.00</td>\n",
       "      <td>2</td>\n",
       "      <td>1</td>\n",
       "      <td>0</td>\n",
       "      <td>96270.64</td>\n",
       "      <td>0</td>\n",
       "    </tr>\n",
       "    <tr>\n",
       "      <th>9996</th>\n",
       "      <td>9997</td>\n",
       "      <td>15569892</td>\n",
       "      <td>Johnstone</td>\n",
       "      <td>516</td>\n",
       "      <td>France</td>\n",
       "      <td>Male</td>\n",
       "      <td>35</td>\n",
       "      <td>10</td>\n",
       "      <td>57369.61</td>\n",
       "      <td>1</td>\n",
       "      <td>1</td>\n",
       "      <td>1</td>\n",
       "      <td>101699.77</td>\n",
       "      <td>0</td>\n",
       "    </tr>\n",
       "    <tr>\n",
       "      <th>9997</th>\n",
       "      <td>9998</td>\n",
       "      <td>15584532</td>\n",
       "      <td>Liu</td>\n",
       "      <td>709</td>\n",
       "      <td>France</td>\n",
       "      <td>Female</td>\n",
       "      <td>36</td>\n",
       "      <td>7</td>\n",
       "      <td>0.00</td>\n",
       "      <td>1</td>\n",
       "      <td>0</td>\n",
       "      <td>1</td>\n",
       "      <td>42085.58</td>\n",
       "      <td>1</td>\n",
       "    </tr>\n",
       "    <tr>\n",
       "      <th>9998</th>\n",
       "      <td>9999</td>\n",
       "      <td>15682355</td>\n",
       "      <td>Sabbatini</td>\n",
       "      <td>772</td>\n",
       "      <td>Germany</td>\n",
       "      <td>Male</td>\n",
       "      <td>42</td>\n",
       "      <td>3</td>\n",
       "      <td>75075.31</td>\n",
       "      <td>2</td>\n",
       "      <td>1</td>\n",
       "      <td>0</td>\n",
       "      <td>92888.52</td>\n",
       "      <td>1</td>\n",
       "    </tr>\n",
       "    <tr>\n",
       "      <th>9999</th>\n",
       "      <td>10000</td>\n",
       "      <td>15628319</td>\n",
       "      <td>Walker</td>\n",
       "      <td>792</td>\n",
       "      <td>France</td>\n",
       "      <td>Female</td>\n",
       "      <td>28</td>\n",
       "      <td>4</td>\n",
       "      <td>130142.79</td>\n",
       "      <td>1</td>\n",
       "      <td>1</td>\n",
       "      <td>0</td>\n",
       "      <td>38190.78</td>\n",
       "      <td>0</td>\n",
       "    </tr>\n",
       "  </tbody>\n",
       "</table>\n",
       "</div>"
      ],
      "text/plain": [
       "      RowNumber  CustomerId    Surname  CreditScore Geography  Gender  Age  \\\n",
       "9995       9996    15606229   Obijiaku          771    France    Male   39   \n",
       "9996       9997    15569892  Johnstone          516    France    Male   35   \n",
       "9997       9998    15584532        Liu          709    France  Female   36   \n",
       "9998       9999    15682355  Sabbatini          772   Germany    Male   42   \n",
       "9999      10000    15628319     Walker          792    France  Female   28   \n",
       "\n",
       "      Tenure    Balance  NumOfProducts  HasCrCard  IsActiveMember  \\\n",
       "9995       5       0.00              2          1               0   \n",
       "9996      10   57369.61              1          1               1   \n",
       "9997       7       0.00              1          0               1   \n",
       "9998       3   75075.31              2          1               0   \n",
       "9999       4  130142.79              1          1               0   \n",
       "\n",
       "      EstimatedSalary  Exited  \n",
       "9995         96270.64       0  \n",
       "9996        101699.77       0  \n",
       "9997         42085.58       1  \n",
       "9998         92888.52       1  \n",
       "9999         38190.78       0  "
      ]
     },
     "execution_count": 4,
     "metadata": {},
     "output_type": "execute_result"
    }
   ],
   "source": [
    "df.tail()"
   ]
  },
  {
   "cell_type": "code",
   "execution_count": 5,
   "metadata": {},
   "outputs": [
    {
     "data": {
      "text/plain": [
       "(10000, 14)"
      ]
     },
     "execution_count": 5,
     "metadata": {},
     "output_type": "execute_result"
    }
   ],
   "source": [
    "df.shape"
   ]
  },
  {
   "cell_type": "markdown",
   "metadata": {},
   "source": [
    "# Some Exploratory Data Analysis"
   ]
  },
  {
   "cell_type": "code",
   "execution_count": 6,
   "metadata": {},
   "outputs": [
    {
     "data": {
      "image/png": "[encoded data removed]",
      "text/plain": [
       "<Figure size 432x288 with 1 Axes>"
      ]
     },
     "metadata": {
      "needs_background": "light"
     },
     "output_type": "display_data"
    }
   ],
   "source": [
    "sns.countplot(x=\"IsActiveMember\",data=df);"
   ]
  },
  {
   "cell_type": "markdown",
   "metadata": {},
   "source": [
    "* We can cleary see that number of number of active member is almost 5000 whereas non-active members are below 5000"
   ]
  },
  {
   "cell_type": "code",
   "execution_count": 7,
   "metadata": {},
   "outputs": [
    {
     "data": {
      "text/html": [
       "<div>\n",
       "<style scoped>\n",
       "    .dataframe tbody tr th:only-of-type {\n",
       "        vertical-align: middle;\n",
       "    }\n",
       "\n",
       "    .dataframe tbody tr th {\n",
       "        vertical-align: top;\n",
       "    }\n",
       "\n",
       "    .dataframe thead th {\n",
       "        text-align: right;\n",
       "    }\n",
       "</style>\n",
       "<table border=\"1\" class=\"dataframe\">\n",
       "  <thead>\n",
       "    <tr style=\"text-align: right;\">\n",
       "      <th>Exited</th>\n",
       "      <th>0</th>\n",
       "      <th>1</th>\n",
       "    </tr>\n",
       "    <tr>\n",
       "      <th>HasCrCard</th>\n",
       "      <th></th>\n",
       "      <th></th>\n",
       "    </tr>\n",
       "  </thead>\n",
       "  <tbody>\n",
       "    <tr>\n",
       "      <th>0</th>\n",
       "      <td>2332</td>\n",
       "      <td>613</td>\n",
       "    </tr>\n",
       "    <tr>\n",
       "      <th>1</th>\n",
       "      <td>5631</td>\n",
       "      <td>1424</td>\n",
       "    </tr>\n",
       "  </tbody>\n",
       "</table>\n",
       "</div>"
      ],
      "text/plain": [
       "Exited        0     1\n",
       "HasCrCard            \n",
       "0          2332   613\n",
       "1          5631  1424"
      ]
     },
     "execution_count": 7,
     "metadata": {},
     "output_type": "execute_result"
    }
   ],
   "source": [
    "pd.crosstab(df['HasCrCard'],df['Exited'])"
   ]
  },
  {
   "cell_type": "code",
   "execution_count": 8,
   "metadata": {},
   "outputs": [
    {
     "data": {
      "image/png": "[encoded data removed]",
      "text/plain": [
       "<Figure size 432x288 with 1 Axes>"
      ]
     },
     "metadata": {
      "needs_background": "light"
     },
     "output_type": "display_data"
    }
   ],
   "source": [
    "df['Age'].plot.hist();"
   ]
  },
  {
   "cell_type": "markdown",
   "metadata": {},
   "source": [
    "# Age attribute are slightly right distributed so we can see some skewness here"
   ]
  },
  {
   "cell_type": "code",
   "execution_count": 9,
   "metadata": {},
   "outputs": [
    {
     "data": {
      "image/png": "[encoded data removed]",
      "text/plain": [
       "<Figure size 432x288 with 1 Axes>"
      ]
     },
     "metadata": {
      "needs_background": "light"
     },
     "output_type": "display_data"
    }
   ],
   "source": [
    "sns.countplot(x=\"Gender\",hue=\"IsActiveMember\",data=df);"
   ]
  },
  {
   "cell_type": "markdown",
   "metadata": {},
   "source": [
    "## Here, for non-active member, both the male and female have same number of count, however, for the active group we can see that Male are more in active than female"
   ]
  },
  {
   "cell_type": "code",
   "execution_count": 10,
   "metadata": {},
   "outputs": [
    {
     "data": {
      "image/png": "[encoded data removed]",
      "text/plain": [
       "<Figure size 720x432 with 1 Axes>"
      ]
     },
     "metadata": {
      "needs_background": "light"
     },
     "output_type": "display_data"
    }
   ],
   "source": [
    "pd.crosstab(df['HasCrCard'],df['Exited']).plot(kind=\"bar\",color=['teal','orange'],figsize=(10,6));\n",
    "plt.title(\"Person with credit card vs Churn\");"
   ]
  },
  {
   "cell_type": "code",
   "execution_count": 11,
   "metadata": {},
   "outputs": [
    {
     "data": {
      "image/png": "[encoded data removed]",
      "text/plain": [
       "<Figure size 432x288 with 1 Axes>"
      ]
     },
     "metadata": {
      "needs_background": "light"
     },
     "output_type": "display_data"
    }
   ],
   "source": [
    "sns.countplot(x=\"Exited\",hue=\"Geography\",data=df);"
   ]
  },
  {
   "cell_type": "markdown",
   "metadata": {},
   "source": [
    "* Our data has total 10000 total rows and total 14 columns"
   ]
  },
  {
   "cell_type": "code",
   "execution_count": 12,
   "metadata": {},
   "outputs": [],
   "source": [
    "# Seperating the data between features and target where X is our feature and y is our target\n",
    "X = df.iloc[:,3:13]\n",
    "y = df.iloc[:,13]"
   ]
  },
  {
   "cell_type": "code",
   "execution_count": 13,
   "metadata": {},
   "outputs": [
    {
     "data": {
      "text/html": [
       "<div>\n",
       "<style scoped>\n",
       "    .dataframe tbody tr th:only-of-type {\n",
       "        vertical-align: middle;\n",
       "    }\n",
       "\n",
       "    .dataframe tbody tr th {\n",
       "        vertical-align: top;\n",
       "    }\n",
       "\n",
       "    .dataframe thead th {\n",
       "        text-align: right;\n",
       "    }\n",
       "</style>\n",
       "<table border=\"1\" class=\"dataframe\">\n",
       "  <thead>\n",
       "    <tr style=\"text-align: right;\">\n",
       "      <th></th>\n",
       "      <th>CreditScore</th>\n",
       "      <th>Geography</th>\n",
       "      <th>Gender</th>\n",
       "      <th>Age</th>\n",
       "      <th>Tenure</th>\n",
       "      <th>Balance</th>\n",
       "      <th>NumOfProducts</th>\n",
       "      <th>HasCrCard</th>\n",
       "      <th>IsActiveMember</th>\n",
       "      <th>EstimatedSalary</th>\n",
       "    </tr>\n",
       "  </thead>\n",
       "  <tbody>\n",
       "    <tr>\n",
       "      <th>0</th>\n",
       "      <td>619</td>\n",
       "      <td>France</td>\n",
       "      <td>Female</td>\n",
       "      <td>42</td>\n",
       "      <td>2</td>\n",
       "      <td>0.00</td>\n",
       "      <td>1</td>\n",
       "      <td>1</td>\n",
       "      <td>1</td>\n",
       "      <td>101348.88</td>\n",
       "    </tr>\n",
       "    <tr>\n",
       "      <th>1</th>\n",
       "      <td>608</td>\n",
       "      <td>Spain</td>\n",
       "      <td>Female</td>\n",
       "      <td>41</td>\n",
       "      <td>1</td>\n",
       "      <td>83807.86</td>\n",
       "      <td>1</td>\n",
       "      <td>0</td>\n",
       "      <td>1</td>\n",
       "      <td>112542.58</td>\n",
       "    </tr>\n",
       "    <tr>\n",
       "      <th>2</th>\n",
       "      <td>502</td>\n",
       "      <td>France</td>\n",
       "      <td>Female</td>\n",
       "      <td>42</td>\n",
       "      <td>8</td>\n",
       "      <td>159660.80</td>\n",
       "      <td>3</td>\n",
       "      <td>1</td>\n",
       "      <td>0</td>\n",
       "      <td>113931.57</td>\n",
       "    </tr>\n",
       "    <tr>\n",
       "      <th>3</th>\n",
       "      <td>699</td>\n",
       "      <td>France</td>\n",
       "      <td>Female</td>\n",
       "      <td>39</td>\n",
       "      <td>1</td>\n",
       "      <td>0.00</td>\n",
       "      <td>2</td>\n",
       "      <td>0</td>\n",
       "      <td>0</td>\n",
       "      <td>93826.63</td>\n",
       "    </tr>\n",
       "    <tr>\n",
       "      <th>4</th>\n",
       "      <td>850</td>\n",
       "      <td>Spain</td>\n",
       "      <td>Female</td>\n",
       "      <td>43</td>\n",
       "      <td>2</td>\n",
       "      <td>125510.82</td>\n",
       "      <td>1</td>\n",
       "      <td>1</td>\n",
       "      <td>1</td>\n",
       "      <td>79084.10</td>\n",
       "    </tr>\n",
       "  </tbody>\n",
       "</table>\n",
       "</div>"
      ],
      "text/plain": [
       "   CreditScore Geography  Gender  Age  Tenure    Balance  NumOfProducts  \\\n",
       "0          619    France  Female   42       2       0.00              1   \n",
       "1          608     Spain  Female   41       1   83807.86              1   \n",
       "2          502    France  Female   42       8  159660.80              3   \n",
       "3          699    France  Female   39       1       0.00              2   \n",
       "4          850     Spain  Female   43       2  125510.82              1   \n",
       "\n",
       "   HasCrCard  IsActiveMember  EstimatedSalary  \n",
       "0          1               1        101348.88  \n",
       "1          0               1        112542.58  \n",
       "2          1               0        113931.57  \n",
       "3          0               0         93826.63  \n",
       "4          1               1         79084.10  "
      ]
     },
     "execution_count": 13,
     "metadata": {},
     "output_type": "execute_result"
    }
   ],
   "source": [
    "X.head()"
   ]
  },
  {
   "cell_type": "code",
   "execution_count": 14,
   "metadata": {},
   "outputs": [
    {
     "data": {
      "text/plain": [
       "0    1\n",
       "1    0\n",
       "2    1\n",
       "3    0\n",
       "4    0\n",
       "Name: Exited, dtype: int64"
      ]
     },
     "execution_count": 14,
     "metadata": {},
     "output_type": "execute_result"
    }
   ],
   "source": [
    "y.head()"
   ]
  },
  {
   "cell_type": "markdown",
   "metadata": {},
   "source": [
    "# Let's check how many of our columns represent the string value so that we can convert them using dummy variable"
   ]
  },
  {
   "cell_type": "code",
   "execution_count": 15,
   "metadata": {},
   "outputs": [
    {
     "name": "stdout",
     "output_type": "stream",
     "text": [
      "Geography\n",
      "Gender\n"
     ]
    }
   ],
   "source": [
    "for label,content in X.items():\n",
    "    if pd.api.types.is_string_dtype(content):\n",
    "        print(label)"
   ]
  },
  {
   "cell_type": "code",
   "execution_count": 16,
   "metadata": {},
   "outputs": [],
   "source": [
    "geography = pd.get_dummies(X['Geography'],drop_first=True)"
   ]
  },
  {
   "cell_type": "code",
   "execution_count": 17,
   "metadata": {},
   "outputs": [],
   "source": [
    "gender = pd.get_dummies(X['Gender'],drop_first=True)"
   ]
  },
  {
   "cell_type": "markdown",
   "metadata": {},
   "source": [
    "## We will concate our encoded string value"
   ]
  },
  {
   "cell_type": "code",
   "execution_count": 18,
   "metadata": {},
   "outputs": [],
   "source": [
    "X = pd.concat([X,geography,gender],axis=1)"
   ]
  },
  {
   "cell_type": "markdown",
   "metadata": {},
   "source": [
    "## Since we concated geography and gender we don not need Geography and Gender column as it creates redundancy in the dataset which is a problem for machine learning and deep learning "
   ]
  },
  {
   "cell_type": "code",
   "execution_count": 19,
   "metadata": {},
   "outputs": [],
   "source": [
    "X = X.drop(labels=['Geography','Gender'],axis=1)"
   ]
  },
  {
   "cell_type": "code",
   "execution_count": 20,
   "metadata": {},
   "outputs": [
    {
     "data": {
      "text/html": [
       "<div>\n",
       "<style scoped>\n",
       "    .dataframe tbody tr th:only-of-type {\n",
       "        vertical-align: middle;\n",
       "    }\n",
       "\n",
       "    .dataframe tbody tr th {\n",
       "        vertical-align: top;\n",
       "    }\n",
       "\n",
       "    .dataframe thead th {\n",
       "        text-align: right;\n",
       "    }\n",
       "</style>\n",
       "<table border=\"1\" class=\"dataframe\">\n",
       "  <thead>\n",
       "    <tr style=\"text-align: right;\">\n",
       "      <th></th>\n",
       "      <th>CreditScore</th>\n",
       "      <th>Age</th>\n",
       "      <th>Tenure</th>\n",
       "      <th>Balance</th>\n",
       "      <th>NumOfProducts</th>\n",
       "      <th>HasCrCard</th>\n",
       "      <th>IsActiveMember</th>\n",
       "      <th>EstimatedSalary</th>\n",
       "      <th>Germany</th>\n",
       "      <th>Spain</th>\n",
       "      <th>Male</th>\n",
       "    </tr>\n",
       "  </thead>\n",
       "  <tbody>\n",
       "    <tr>\n",
       "      <th>0</th>\n",
       "      <td>619</td>\n",
       "      <td>42</td>\n",
       "      <td>2</td>\n",
       "      <td>0.00</td>\n",
       "      <td>1</td>\n",
       "      <td>1</td>\n",
       "      <td>1</td>\n",
       "      <td>101348.88</td>\n",
       "      <td>0</td>\n",
       "      <td>0</td>\n",
       "      <td>0</td>\n",
       "    </tr>\n",
       "    <tr>\n",
       "      <th>1</th>\n",
       "      <td>608</td>\n",
       "      <td>41</td>\n",
       "      <td>1</td>\n",
       "      <td>83807.86</td>\n",
       "      <td>1</td>\n",
       "      <td>0</td>\n",
       "      <td>1</td>\n",
       "      <td>112542.58</td>\n",
       "      <td>0</td>\n",
       "      <td>1</td>\n",
       "      <td>0</td>\n",
       "    </tr>\n",
       "    <tr>\n",
       "      <th>2</th>\n",
       "      <td>502</td>\n",
       "      <td>42</td>\n",
       "      <td>8</td>\n",
       "      <td>159660.80</td>\n",
       "      <td>3</td>\n",
       "      <td>1</td>\n",
       "      <td>0</td>\n",
       "      <td>113931.57</td>\n",
       "      <td>0</td>\n",
       "      <td>0</td>\n",
       "      <td>0</td>\n",
       "    </tr>\n",
       "    <tr>\n",
       "      <th>3</th>\n",
       "      <td>699</td>\n",
       "      <td>39</td>\n",
       "      <td>1</td>\n",
       "      <td>0.00</td>\n",
       "      <td>2</td>\n",
       "      <td>0</td>\n",
       "      <td>0</td>\n",
       "      <td>93826.63</td>\n",
       "      <td>0</td>\n",
       "      <td>0</td>\n",
       "      <td>0</td>\n",
       "    </tr>\n",
       "    <tr>\n",
       "      <th>4</th>\n",
       "      <td>850</td>\n",
       "      <td>43</td>\n",
       "      <td>2</td>\n",
       "      <td>125510.82</td>\n",
       "      <td>1</td>\n",
       "      <td>1</td>\n",
       "      <td>1</td>\n",
       "      <td>79084.10</td>\n",
       "      <td>0</td>\n",
       "      <td>1</td>\n",
       "      <td>0</td>\n",
       "    </tr>\n",
       "  </tbody>\n",
       "</table>\n",
       "</div>"
      ],
      "text/plain": [
       "   CreditScore  Age  Tenure    Balance  NumOfProducts  HasCrCard  \\\n",
       "0          619   42       2       0.00              1          1   \n",
       "1          608   41       1   83807.86              1          0   \n",
       "2          502   42       8  159660.80              3          1   \n",
       "3          699   39       1       0.00              2          0   \n",
       "4          850   43       2  125510.82              1          1   \n",
       "\n",
       "   IsActiveMember  EstimatedSalary  Germany  Spain  Male  \n",
       "0               1        101348.88        0      0     0  \n",
       "1               1        112542.58        0      1     0  \n",
       "2               0        113931.57        0      0     0  \n",
       "3               0         93826.63        0      0     0  \n",
       "4               1         79084.10        0      1     0  "
      ]
     },
     "execution_count": 20,
     "metadata": {},
     "output_type": "execute_result"
    }
   ],
   "source": [
    "X.head()"
   ]
  },
  {
   "cell_type": "markdown",
   "metadata": {},
   "source": [
    "## Splitting the data inot training and test set"
   ]
  },
  {
   "cell_type": "code",
   "execution_count": 21,
   "metadata": {},
   "outputs": [],
   "source": [
    "from sklearn.model_selection import train_test_split\n",
    "X_train,X_test,y_train,y_test = train_test_split(X,y,test_size=0.2,random_state=42)"
   ]
  },
  {
   "cell_type": "code",
   "execution_count": 22,
   "metadata": {},
   "outputs": [
    {
     "data": {
      "text/html": [
       "<div>\n",
       "<style scoped>\n",
       "    .dataframe tbody tr th:only-of-type {\n",
       "        vertical-align: middle;\n",
       "    }\n",
       "\n",
       "    .dataframe tbody tr th {\n",
       "        vertical-align: top;\n",
       "    }\n",
       "\n",
       "    .dataframe thead th {\n",
       "        text-align: right;\n",
       "    }\n",
       "</style>\n",
       "<table border=\"1\" class=\"dataframe\">\n",
       "  <thead>\n",
       "    <tr style=\"text-align: right;\">\n",
       "      <th></th>\n",
       "      <th>CreditScore</th>\n",
       "      <th>Age</th>\n",
       "      <th>Tenure</th>\n",
       "      <th>Balance</th>\n",
       "      <th>NumOfProducts</th>\n",
       "      <th>HasCrCard</th>\n",
       "      <th>IsActiveMember</th>\n",
       "      <th>EstimatedSalary</th>\n",
       "      <th>Germany</th>\n",
       "      <th>Spain</th>\n",
       "      <th>Male</th>\n",
       "    </tr>\n",
       "  </thead>\n",
       "  <tbody>\n",
       "    <tr>\n",
       "      <th>0</th>\n",
       "      <td>619</td>\n",
       "      <td>42</td>\n",
       "      <td>2</td>\n",
       "      <td>0.00</td>\n",
       "      <td>1</td>\n",
       "      <td>1</td>\n",
       "      <td>1</td>\n",
       "      <td>101348.88</td>\n",
       "      <td>0</td>\n",
       "      <td>0</td>\n",
       "      <td>0</td>\n",
       "    </tr>\n",
       "    <tr>\n",
       "      <th>1</th>\n",
       "      <td>608</td>\n",
       "      <td>41</td>\n",
       "      <td>1</td>\n",
       "      <td>83807.86</td>\n",
       "      <td>1</td>\n",
       "      <td>0</td>\n",
       "      <td>1</td>\n",
       "      <td>112542.58</td>\n",
       "      <td>0</td>\n",
       "      <td>1</td>\n",
       "      <td>0</td>\n",
       "    </tr>\n",
       "    <tr>\n",
       "      <th>2</th>\n",
       "      <td>502</td>\n",
       "      <td>42</td>\n",
       "      <td>8</td>\n",
       "      <td>159660.80</td>\n",
       "      <td>3</td>\n",
       "      <td>1</td>\n",
       "      <td>0</td>\n",
       "      <td>113931.57</td>\n",
       "      <td>0</td>\n",
       "      <td>0</td>\n",
       "      <td>0</td>\n",
       "    </tr>\n",
       "    <tr>\n",
       "      <th>3</th>\n",
       "      <td>699</td>\n",
       "      <td>39</td>\n",
       "      <td>1</td>\n",
       "      <td>0.00</td>\n",
       "      <td>2</td>\n",
       "      <td>0</td>\n",
       "      <td>0</td>\n",
       "      <td>93826.63</td>\n",
       "      <td>0</td>\n",
       "      <td>0</td>\n",
       "      <td>0</td>\n",
       "    </tr>\n",
       "    <tr>\n",
       "      <th>4</th>\n",
       "      <td>850</td>\n",
       "      <td>43</td>\n",
       "      <td>2</td>\n",
       "      <td>125510.82</td>\n",
       "      <td>1</td>\n",
       "      <td>1</td>\n",
       "      <td>1</td>\n",
       "      <td>79084.10</td>\n",
       "      <td>0</td>\n",
       "      <td>1</td>\n",
       "      <td>0</td>\n",
       "    </tr>\n",
       "  </tbody>\n",
       "</table>\n",
       "</div>"
      ],
      "text/plain": [
       "   CreditScore  Age  Tenure    Balance  NumOfProducts  HasCrCard  \\\n",
       "0          619   42       2       0.00              1          1   \n",
       "1          608   41       1   83807.86              1          0   \n",
       "2          502   42       8  159660.80              3          1   \n",
       "3          699   39       1       0.00              2          0   \n",
       "4          850   43       2  125510.82              1          1   \n",
       "\n",
       "   IsActiveMember  EstimatedSalary  Germany  Spain  Male  \n",
       "0               1        101348.88        0      0     0  \n",
       "1               1        112542.58        0      1     0  \n",
       "2               0        113931.57        0      0     0  \n",
       "3               0         93826.63        0      0     0  \n",
       "4               1         79084.10        0      1     0  "
      ]
     },
     "execution_count": 22,
     "metadata": {},
     "output_type": "execute_result"
    }
   ],
   "source": [
    "X.head()"
   ]
  },
  {
   "cell_type": "markdown",
   "metadata": {},
   "source": [
    "# As we can see that there are diiferent attributes which have different magnitude of value, let's scale down our data into common magnitude"
   ]
  },
  {
   "cell_type": "code",
   "execution_count": 23,
   "metadata": {},
   "outputs": [],
   "source": [
    "from sklearn.preprocessing import StandardScaler"
   ]
  },
  {
   "cell_type": "code",
   "execution_count": 24,
   "metadata": {},
   "outputs": [],
   "source": [
    "sc = StandardScaler()\n",
    "X_train = sc.fit_transform(X_train)"
   ]
  },
  {
   "cell_type": "code",
   "execution_count": 25,
   "metadata": {},
   "outputs": [],
   "source": [
    "X_test = sc.transform(X_test)"
   ]
  },
  {
   "cell_type": "markdown",
   "metadata": {},
   "source": [
    "# Now comes the most exciting part, that is we are going to train our model using ANN(Artificial Neural Network), for that we will be using keras"
   ]
  },
  {
   "cell_type": "code",
   "execution_count": 26,
   "metadata": {},
   "outputs": [],
   "source": [
    "#Let's make start making ANN\n",
    "import keras"
   ]
  },
  {
   "cell_type": "code",
   "execution_count": 27,
   "metadata": {},
   "outputs": [],
   "source": [
    "# from keras.models import Sequential"
   ]
  },
  {
   "cell_type": "code",
   "execution_count": 28,
   "metadata": {},
   "outputs": [],
   "source": [
    "# from keras.layers import Dense"
   ]
  },
  {
   "cell_type": "code",
   "execution_count": 29,
   "metadata": {},
   "outputs": [],
   "source": [
    "# from keras.layers import LeakyReLU,PReLU"
   ]
  },
  {
   "cell_type": "markdown",
   "metadata": {},
   "source": [
    "# Let's import tensorflow, one of the most popular deep learning library which helps in mathematical calculation"
   ]
  },
  {
   "cell_type": "code",
   "execution_count": 30,
   "metadata": {},
   "outputs": [],
   "source": [
    "from keras.layers import Dropout\n",
    "import tensorflow as tf"
   ]
  },
  {
   "cell_type": "markdown",
   "metadata": {},
   "source": [
    "* Since neural network work in step by step i.e. it first performs forward propagation and then it performs backward propagation also called one epoch, so we consider our model as sequential"
   ]
  },
  {
   "cell_type": "code",
   "execution_count": 31,
   "metadata": {},
   "outputs": [],
   "source": [
    "#Initializing the ANN\n",
    "classifier = keras.models.Sequential()"
   ]
  },
  {
   "cell_type": "code",
   "execution_count": 32,
   "metadata": {},
   "outputs": [],
   "source": [
    "# Adding the input layer and the first hidden layer\n",
    "classifier.add(tf.keras.layers.Dense(10,kernel_initializer=\"he_normal\",input_dim=11,activation='relu'))\n",
    "#Adding dropout\n",
    "classifier.add(Dropout(0.3))\n",
    "# Adding the second hidden layer\n",
    "classifier.add(tf.keras.layers.Dense(20,kernel_initializer=\"he_normal\", activation='relu'))\n",
    "classifier.add(Dropout(0.4))\n",
    "# Adding the third hidden layer\n",
    "classifier.add(tf.keras.layers.Dense(50,kernel_initializer=\"he_normal\", activation='relu'))\n",
    "classifier.add(Dropout(0.2))\n",
    "#Adding the ouput layer\n",
    "classifier.add(tf.keras.layers.Dense(1,kernel_initializer=\"glorot_uniform\", activation='sigmoid'))\n"
   ]
  },
  {
   "cell_type": "code",
   "execution_count": 33,
   "metadata": {},
   "outputs": [
    {
     "name": "stdout",
     "output_type": "stream",
     "text": [
      "Model: \"sequential\"\n",
      "_________________________________________________________________\n",
      "Layer (type)                 Output Shape              Param #   \n",
      "=================================================================\n",
      "dense (Dense)                (None, 10)                120       \n",
      "_________________________________________________________________\n",
      "dropout (Dropout)            (None, 10)                0         \n",
      "_________________________________________________________________\n",
      "dense_1 (Dense)              (None, 20)                220       \n",
      "_________________________________________________________________\n",
      "dropout_1 (Dropout)          (None, 20)                0         \n",
      "_________________________________________________________________\n",
      "dense_2 (Dense)              (None, 50)                1050      \n",
      "_________________________________________________________________\n",
      "dropout_2 (Dropout)          (None, 50)                0         \n",
      "_________________________________________________________________\n",
      "dense_3 (Dense)              (None, 1)                 51        \n",
      "=================================================================\n",
      "Total params: 1,441\n",
      "Trainable params: 1,441\n",
      "Non-trainable params: 0\n",
      "_________________________________________________________________\n"
     ]
    }
   ],
   "source": [
    "classifier.summary()\n"
   ]
  },
  {
   "cell_type": "code",
   "execution_count": 34,
   "metadata": {},
   "outputs": [],
   "source": [
    "#Compiling the ANN to the Training Set\n",
    "classifier.compile(optimizer=\"adam\",loss=\"binary_crossentropy\",metrics=['accuracy'])"
   ]
  },
  {
   "cell_type": "code",
   "execution_count": 35,
   "metadata": {},
   "outputs": [
    {
     "name": "stdout",
     "output_type": "stream",
     "text": [
      "Epoch 1/100\n",
      "536/536 [==============================] - 1s 2ms/step - loss: 0.6580 - accuracy: 0.7333 - val_loss: 0.5045 - val_accuracy: 0.7910\n",
      "Epoch 2/100\n",
      "536/536 [==============================] - 1s 1ms/step - loss: 0.5337 - accuracy: 0.7832 - val_loss: 0.4936 - val_accuracy: 0.7910\n",
      "Epoch 3/100\n",
      "536/536 [==============================] - 1s 1ms/step - loss: 0.5162 - accuracy: 0.7899 - val_loss: 0.4847 - val_accuracy: 0.7910\n",
      "Epoch 4/100\n",
      "536/536 [==============================] - 1s 1ms/step - loss: 0.4994 - accuracy: 0.7957 - val_loss: 0.4802 - val_accuracy: 0.7910\n",
      "Epoch 5/100\n",
      "536/536 [==============================] - 1s 1ms/step - loss: 0.4879 - accuracy: 0.7949 - val_loss: 0.4706 - val_accuracy: 0.7910\n",
      "Epoch 6/100\n",
      "536/536 [==============================] - 1s 1ms/step - loss: 0.4768 - accuracy: 0.7975 - val_loss: 0.4578 - val_accuracy: 0.7921\n",
      "Epoch 7/100\n",
      "536/536 [==============================] - 1s 1ms/step - loss: 0.4640 - accuracy: 0.7974 - val_loss: 0.4471 - val_accuracy: 0.7944\n",
      "Epoch 8/100\n",
      "536/536 [==============================] - 1s 1ms/step - loss: 0.4542 - accuracy: 0.8035 - val_loss: 0.4403 - val_accuracy: 0.7948\n",
      "Epoch 9/100\n",
      "536/536 [==============================] - 1s 1ms/step - loss: 0.4505 - accuracy: 0.8065 - val_loss: 0.4367 - val_accuracy: 0.7974\n",
      "Epoch 10/100\n",
      "536/536 [==============================] - 1s 1ms/step - loss: 0.4418 - accuracy: 0.8087 - val_loss: 0.4347 - val_accuracy: 0.7978\n",
      "Epoch 11/100\n",
      "536/536 [==============================] - 1s 1ms/step - loss: 0.4398 - accuracy: 0.8112 - val_loss: 0.4321 - val_accuracy: 0.8016\n",
      "Epoch 12/100\n",
      "536/536 [==============================] - 1s 1ms/step - loss: 0.4308 - accuracy: 0.8130 - val_loss: 0.4268 - val_accuracy: 0.8061\n",
      "Epoch 13/100\n",
      "536/536 [==============================] - 1s 1ms/step - loss: 0.4366 - accuracy: 0.8102 - val_loss: 0.4286 - val_accuracy: 0.8050\n",
      "Epoch 14/100\n",
      "536/536 [==============================] - 1s 1ms/step - loss: 0.4314 - accuracy: 0.8140 - val_loss: 0.4302 - val_accuracy: 0.8069\n",
      "Epoch 15/100\n",
      "536/536 [==============================] - 1s 1ms/step - loss: 0.4238 - accuracy: 0.8182 - val_loss: 0.4263 - val_accuracy: 0.8076\n",
      "Epoch 16/100\n",
      "536/536 [==============================] - 1s 1ms/step - loss: 0.4270 - accuracy: 0.8194 - val_loss: 0.4189 - val_accuracy: 0.8145\n",
      "Epoch 17/100\n",
      "536/536 [==============================] - 1s 1ms/step - loss: 0.4219 - accuracy: 0.8214 - val_loss: 0.4137 - val_accuracy: 0.8167\n",
      "Epoch 18/100\n",
      "536/536 [==============================] - 1s 1ms/step - loss: 0.4203 - accuracy: 0.8182 - val_loss: 0.4204 - val_accuracy: 0.8031\n",
      "Epoch 19/100\n",
      "536/536 [==============================] - 1s 1ms/step - loss: 0.4103 - accuracy: 0.8222 - val_loss: 0.4151 - val_accuracy: 0.8220\n",
      "Epoch 20/100\n",
      "536/536 [==============================] - 1s 1ms/step - loss: 0.4174 - accuracy: 0.8242 - val_loss: 0.4173 - val_accuracy: 0.8080\n",
      "Epoch 21/100\n",
      "536/536 [==============================] - 1s 1ms/step - loss: 0.4062 - accuracy: 0.8289 - val_loss: 0.4091 - val_accuracy: 0.8137\n",
      "Epoch 22/100\n",
      "536/536 [==============================] - 1s 1ms/step - loss: 0.4024 - accuracy: 0.8309 - val_loss: 0.4041 - val_accuracy: 0.8175\n",
      "Epoch 23/100\n",
      "536/536 [==============================] - 1s 1ms/step - loss: 0.4031 - accuracy: 0.8349 - val_loss: 0.4009 - val_accuracy: 0.8137\n",
      "Epoch 24/100\n",
      "536/536 [==============================] - 1s 1ms/step - loss: 0.4106 - accuracy: 0.8242 - val_loss: 0.4051 - val_accuracy: 0.8092\n",
      "Epoch 25/100\n",
      "536/536 [==============================] - 1s 1ms/step - loss: 0.4002 - accuracy: 0.8309 - val_loss: 0.4018 - val_accuracy: 0.8111\n",
      "Epoch 26/100\n",
      "536/536 [==============================] - 1s 1ms/step - loss: 0.3956 - accuracy: 0.8336 - val_loss: 0.3973 - val_accuracy: 0.8156\n",
      "Epoch 27/100\n",
      "536/536 [==============================] - 1s 1ms/step - loss: 0.3984 - accuracy: 0.8308 - val_loss: 0.3997 - val_accuracy: 0.8137\n",
      "Epoch 28/100\n",
      "536/536 [==============================] - 1s 1ms/step - loss: 0.3906 - accuracy: 0.8350 - val_loss: 0.3894 - val_accuracy: 0.8239\n",
      "Epoch 29/100\n",
      "536/536 [==============================] - 1s 1ms/step - loss: 0.3923 - accuracy: 0.8332 - val_loss: 0.3896 - val_accuracy: 0.8258\n",
      "Epoch 30/100\n",
      "536/536 [==============================] - 1s 1ms/step - loss: 0.3829 - accuracy: 0.8380 - val_loss: 0.3873 - val_accuracy: 0.8251\n",
      "Epoch 31/100\n",
      "536/536 [==============================] - 1s 1ms/step - loss: 0.3852 - accuracy: 0.8380 - val_loss: 0.3885 - val_accuracy: 0.8190\n",
      "Epoch 32/100\n",
      "536/536 [==============================] - 1s 1ms/step - loss: 0.3844 - accuracy: 0.8414 - val_loss: 0.3901 - val_accuracy: 0.8220\n",
      "Epoch 33/100\n",
      "536/536 [==============================] - 1s 1ms/step - loss: 0.3834 - accuracy: 0.8362 - val_loss: 0.3853 - val_accuracy: 0.8262\n",
      "Epoch 34/100\n",
      "536/536 [==============================] - 1s 1ms/step - loss: 0.3770 - accuracy: 0.8434 - val_loss: 0.3806 - val_accuracy: 0.8330\n",
      "Epoch 35/100\n",
      "536/536 [==============================] - 1s 1ms/step - loss: 0.3822 - accuracy: 0.8442 - val_loss: 0.3803 - val_accuracy: 0.8326\n",
      "Epoch 36/100\n",
      "536/536 [==============================] - 1s 1ms/step - loss: 0.3783 - accuracy: 0.8395 - val_loss: 0.3850 - val_accuracy: 0.8213\n",
      "Epoch 37/100\n",
      "536/536 [==============================] - 1s 1ms/step - loss: 0.3758 - accuracy: 0.8401 - val_loss: 0.3811 - val_accuracy: 0.8254\n",
      "Epoch 38/100\n",
      "536/536 [==============================] - 1s 1ms/step - loss: 0.3748 - accuracy: 0.8453 - val_loss: 0.3855 - val_accuracy: 0.8251\n",
      "Epoch 39/100\n",
      "536/536 [==============================] - 1s 1ms/step - loss: 0.3701 - accuracy: 0.8451 - val_loss: 0.3856 - val_accuracy: 0.8228\n",
      "Epoch 40/100\n",
      "536/536 [==============================] - 1s 1ms/step - loss: 0.3778 - accuracy: 0.8442 - val_loss: 0.3841 - val_accuracy: 0.8201\n",
      "Epoch 41/100\n",
      "536/536 [==============================] - 1s 1ms/step - loss: 0.3727 - accuracy: 0.8483 - val_loss: 0.3849 - val_accuracy: 0.8171\n",
      "Epoch 42/100\n",
      "536/536 [==============================] - 1s 1ms/step - loss: 0.3693 - accuracy: 0.8470 - val_loss: 0.3791 - val_accuracy: 0.8281\n",
      "Epoch 43/100\n",
      "536/536 [==============================] - 1s 1ms/step - loss: 0.3694 - accuracy: 0.8468 - val_loss: 0.3812 - val_accuracy: 0.8258\n",
      "Epoch 44/100\n",
      "536/536 [==============================] - 1s 1ms/step - loss: 0.3739 - accuracy: 0.8457 - val_loss: 0.3816 - val_accuracy: 0.8254\n",
      "Epoch 45/100\n",
      "536/536 [==============================] - 1s 1ms/step - loss: 0.3730 - accuracy: 0.8455 - val_loss: 0.3868 - val_accuracy: 0.8209\n",
      "Epoch 46/100\n",
      "536/536 [==============================] - 1s 1ms/step - loss: 0.3657 - accuracy: 0.8477 - val_loss: 0.3773 - val_accuracy: 0.8368\n",
      "Epoch 47/100\n",
      "536/536 [==============================] - 1s 1ms/step - loss: 0.3661 - accuracy: 0.8462 - val_loss: 0.3818 - val_accuracy: 0.8258\n",
      "Epoch 48/100\n",
      "536/536 [==============================] - 1s 1ms/step - loss: 0.3700 - accuracy: 0.8466 - val_loss: 0.3823 - val_accuracy: 0.8232\n",
      "Epoch 49/100\n",
      "536/536 [==============================] - 1s 1ms/step - loss: 0.3677 - accuracy: 0.8502 - val_loss: 0.3799 - val_accuracy: 0.8277\n",
      "Epoch 50/100\n",
      "536/536 [==============================] - 1s 2ms/step - loss: 0.3694 - accuracy: 0.8485 - val_loss: 0.3834 - val_accuracy: 0.8209\n",
      "Epoch 51/100\n",
      "536/536 [==============================] - 1s 1ms/step - loss: 0.3723 - accuracy: 0.8468 - val_loss: 0.3881 - val_accuracy: 0.8129\n",
      "Epoch 52/100\n",
      "536/536 [==============================] - 1s 1ms/step - loss: 0.3632 - accuracy: 0.8496 - val_loss: 0.3829 - val_accuracy: 0.8243\n",
      "Epoch 53/100\n",
      "536/536 [==============================] - 1s 1ms/step - loss: 0.3688 - accuracy: 0.8485 - val_loss: 0.3827 - val_accuracy: 0.8224\n",
      "Epoch 54/100\n",
      "536/536 [==============================] - 1s 1ms/step - loss: 0.3680 - accuracy: 0.8502 - val_loss: 0.3826 - val_accuracy: 0.8217\n",
      "Epoch 55/100\n",
      "536/536 [==============================] - 1s 1ms/step - loss: 0.3667 - accuracy: 0.8511 - val_loss: 0.3834 - val_accuracy: 0.8277\n",
      "Epoch 56/100\n",
      "536/536 [==============================] - 1s 1ms/step - loss: 0.3655 - accuracy: 0.8511 - val_loss: 0.3854 - val_accuracy: 0.8213\n",
      "Epoch 57/100\n",
      "536/536 [==============================] - 1s 1ms/step - loss: 0.3642 - accuracy: 0.8518 - val_loss: 0.3801 - val_accuracy: 0.8247\n"
     ]
    },
    {
     "name": "stdout",
     "output_type": "stream",
     "text": [
      "Epoch 58/100\n",
      "536/536 [==============================] - 1s 1ms/step - loss: 0.3635 - accuracy: 0.8517 - val_loss: 0.3819 - val_accuracy: 0.8270\n",
      "Epoch 59/100\n",
      "536/536 [==============================] - 1s 1ms/step - loss: 0.3603 - accuracy: 0.8522 - val_loss: 0.3815 - val_accuracy: 0.8224\n",
      "Epoch 60/100\n",
      "536/536 [==============================] - 1s 2ms/step - loss: 0.3628 - accuracy: 0.8548 - val_loss: 0.3782 - val_accuracy: 0.8311\n",
      "Epoch 61/100\n",
      "536/536 [==============================] - 1s 1ms/step - loss: 0.3606 - accuracy: 0.8561 - val_loss: 0.3802 - val_accuracy: 0.8289\n",
      "Epoch 62/100\n",
      "536/536 [==============================] - 1s 1ms/step - loss: 0.3641 - accuracy: 0.8509 - val_loss: 0.3868 - val_accuracy: 0.8126\n",
      "Epoch 63/100\n",
      "536/536 [==============================] - 1s 1ms/step - loss: 0.3632 - accuracy: 0.8457 - val_loss: 0.3784 - val_accuracy: 0.8247\n",
      "Epoch 64/100\n",
      "536/536 [==============================] - 1s 1ms/step - loss: 0.3620 - accuracy: 0.8520 - val_loss: 0.3724 - val_accuracy: 0.8387\n",
      "Epoch 65/100\n",
      "536/536 [==============================] - 1s 1ms/step - loss: 0.3630 - accuracy: 0.8485 - val_loss: 0.3723 - val_accuracy: 0.8440\n",
      "Epoch 66/100\n",
      "536/536 [==============================] - 1s 1ms/step - loss: 0.3614 - accuracy: 0.8539 - val_loss: 0.3765 - val_accuracy: 0.8307\n",
      "Epoch 67/100\n",
      "536/536 [==============================] - 1s 1ms/step - loss: 0.3591 - accuracy: 0.8522 - val_loss: 0.3746 - val_accuracy: 0.8376\n",
      "Epoch 68/100\n",
      "536/536 [==============================] - 1s 1ms/step - loss: 0.3622 - accuracy: 0.8498 - val_loss: 0.3780 - val_accuracy: 0.8296\n",
      "Epoch 69/100\n",
      "536/536 [==============================] - 1s 1ms/step - loss: 0.3624 - accuracy: 0.8548 - val_loss: 0.3778 - val_accuracy: 0.8330\n",
      "Epoch 70/100\n",
      "536/536 [==============================] - 1s 1ms/step - loss: 0.3558 - accuracy: 0.8548 - val_loss: 0.3786 - val_accuracy: 0.8277\n",
      "Epoch 71/100\n",
      "536/536 [==============================] - 1s 1ms/step - loss: 0.3665 - accuracy: 0.8522 - val_loss: 0.3829 - val_accuracy: 0.8243\n",
      "Epoch 72/100\n",
      "536/536 [==============================] - 1s 1ms/step - loss: 0.3598 - accuracy: 0.8503 - val_loss: 0.3748 - val_accuracy: 0.8311\n",
      "Epoch 73/100\n",
      "536/536 [==============================] - 1s 1ms/step - loss: 0.3557 - accuracy: 0.8543 - val_loss: 0.3779 - val_accuracy: 0.8277\n",
      "Epoch 74/100\n",
      "536/536 [==============================] - 1s 1ms/step - loss: 0.3602 - accuracy: 0.8503 - val_loss: 0.3741 - val_accuracy: 0.8307\n",
      "Epoch 75/100\n",
      "536/536 [==============================] - 1s 1ms/step - loss: 0.3625 - accuracy: 0.8563 - val_loss: 0.3771 - val_accuracy: 0.8342\n",
      "Epoch 76/100\n",
      "536/536 [==============================] - 1s 1ms/step - loss: 0.3607 - accuracy: 0.8526 - val_loss: 0.3806 - val_accuracy: 0.8270\n",
      "Epoch 77/100\n",
      "536/536 [==============================] - 1s 1ms/step - loss: 0.3508 - accuracy: 0.8559 - val_loss: 0.3700 - val_accuracy: 0.8402\n",
      "Epoch 78/100\n",
      "536/536 [==============================] - 1s 1ms/step - loss: 0.3564 - accuracy: 0.8552 - val_loss: 0.3697 - val_accuracy: 0.8417\n",
      "Epoch 79/100\n",
      "536/536 [==============================] - 1s 1ms/step - loss: 0.3550 - accuracy: 0.8571 - val_loss: 0.3844 - val_accuracy: 0.8190\n",
      "Epoch 80/100\n",
      "536/536 [==============================] - 1s 1ms/step - loss: 0.3576 - accuracy: 0.8522 - val_loss: 0.3817 - val_accuracy: 0.8258\n",
      "Epoch 81/100\n",
      "536/536 [==============================] - 1s 1ms/step - loss: 0.3579 - accuracy: 0.8545 - val_loss: 0.3720 - val_accuracy: 0.8379\n",
      "Epoch 82/100\n",
      "536/536 [==============================] - 1s 1ms/step - loss: 0.3529 - accuracy: 0.8578 - val_loss: 0.3738 - val_accuracy: 0.8398\n",
      "Epoch 83/100\n",
      "536/536 [==============================] - 1s 1ms/step - loss: 0.3542 - accuracy: 0.8533 - val_loss: 0.3697 - val_accuracy: 0.8406\n",
      "Epoch 84/100\n",
      "536/536 [==============================] - 1s 1ms/step - loss: 0.3592 - accuracy: 0.8539 - val_loss: 0.3791 - val_accuracy: 0.8311\n",
      "Epoch 85/100\n",
      "536/536 [==============================] - 1s 1ms/step - loss: 0.3637 - accuracy: 0.8481 - val_loss: 0.3708 - val_accuracy: 0.8402\n",
      "Epoch 86/100\n",
      "536/536 [==============================] - 1s 1ms/step - loss: 0.3579 - accuracy: 0.8552 - val_loss: 0.3773 - val_accuracy: 0.8254\n",
      "Epoch 87/100\n",
      "536/536 [==============================] - 1s 1ms/step - loss: 0.3603 - accuracy: 0.8550 - val_loss: 0.3782 - val_accuracy: 0.8273\n",
      "Epoch 88/100\n",
      "536/536 [==============================] - 1s 1ms/step - loss: 0.3557 - accuracy: 0.8550 - val_loss: 0.3797 - val_accuracy: 0.8300\n",
      "Epoch 89/100\n",
      "536/536 [==============================] - 1s 1ms/step - loss: 0.3563 - accuracy: 0.8578 - val_loss: 0.3795 - val_accuracy: 0.8281\n",
      "Epoch 90/100\n",
      "536/536 [==============================] - 1s 1ms/step - loss: 0.3574 - accuracy: 0.8535 - val_loss: 0.3772 - val_accuracy: 0.8289\n",
      "Epoch 91/100\n",
      "536/536 [==============================] - 1s 1ms/step - loss: 0.3585 - accuracy: 0.8558 - val_loss: 0.3739 - val_accuracy: 0.8323\n",
      "Epoch 92/100\n",
      "536/536 [==============================] - 1s 1ms/step - loss: 0.3539 - accuracy: 0.8546 - val_loss: 0.3779 - val_accuracy: 0.8262\n",
      "Epoch 93/100\n",
      "536/536 [==============================] - 1s 1ms/step - loss: 0.3624 - accuracy: 0.8531 - val_loss: 0.3819 - val_accuracy: 0.8270\n",
      "Epoch 94/100\n",
      "536/536 [==============================] - 1s 1ms/step - loss: 0.3497 - accuracy: 0.8533 - val_loss: 0.3680 - val_accuracy: 0.8429\n",
      "Epoch 95/100\n",
      "536/536 [==============================] - 1s 1ms/step - loss: 0.3584 - accuracy: 0.8526 - val_loss: 0.3768 - val_accuracy: 0.8285\n",
      "Epoch 96/100\n",
      "536/536 [==============================] - 1s 1ms/step - loss: 0.3542 - accuracy: 0.8533 - val_loss: 0.3728 - val_accuracy: 0.8372\n",
      "Epoch 97/100\n",
      "536/536 [==============================] - 1s 1ms/step - loss: 0.3492 - accuracy: 0.8589 - val_loss: 0.3759 - val_accuracy: 0.8289\n",
      "Epoch 98/100\n",
      "536/536 [==============================] - 1s 1ms/step - loss: 0.3502 - accuracy: 0.8567 - val_loss: 0.3726 - val_accuracy: 0.8440\n",
      "Epoch 99/100\n",
      "536/536 [==============================] - 1s 1ms/step - loss: 0.3575 - accuracy: 0.8526 - val_loss: 0.3796 - val_accuracy: 0.8307\n",
      "Epoch 100/100\n",
      "536/536 [==============================] - 1s 1ms/step - loss: 0.3529 - accuracy: 0.8608 - val_loss: 0.3694 - val_accuracy: 0.8421\n"
     ]
    }
   ],
   "source": [
    "history = classifier.fit(X_train,y_train,validation_split=0.33,batch_size=10,epochs=100)"
   ]
  },
  {
   "cell_type": "code",
   "execution_count": 36,
   "metadata": {},
   "outputs": [],
   "source": [
    "y_predict = classifier.predict(X_test)"
   ]
  },
  {
   "cell_type": "code",
   "execution_count": 37,
   "metadata": {},
   "outputs": [],
   "source": [
    "y_predict = (y_predict>0.5)"
   ]
  },
  {
   "cell_type": "code",
   "execution_count": 38,
   "metadata": {},
   "outputs": [
    {
     "data": {
      "text/plain": [
       "array([[False],\n",
       "       [False],\n",
       "       [False],\n",
       "       ...,\n",
       "       [ True],\n",
       "       [False],\n",
       "       [False]])"
      ]
     },
     "execution_count": 38,
     "metadata": {},
     "output_type": "execute_result"
    }
   ],
   "source": [
    "y_predict"
   ]
  },
  {
   "cell_type": "code",
   "execution_count": 39,
   "metadata": {},
   "outputs": [
    {
     "data": {
      "text/plain": [
       "array([[1581,   26],\n",
       "       [ 271,  122]], dtype=int64)"
      ]
     },
     "execution_count": 39,
     "metadata": {},
     "output_type": "execute_result"
    }
   ],
   "source": [
    "from sklearn.metrics import confusion_matrix,accuracy_score\n",
    "confusion_matrix(y_test,y_predict)"
   ]
  },
  {
   "cell_type": "code",
   "execution_count": 40,
   "metadata": {},
   "outputs": [],
   "source": [
    "score = accuracy_score(y_predict,y_test)"
   ]
  },
  {
   "cell_type": "code",
   "execution_count": 41,
   "metadata": {},
   "outputs": [
    {
     "data": {
      "text/plain": [
       "0.8515"
      ]
     },
     "execution_count": 41,
     "metadata": {},
     "output_type": "execute_result"
    }
   ],
   "source": [
    "score"
   ]
  },
  {
   "cell_type": "code",
   "execution_count": 42,
   "metadata": {},
   "outputs": [],
   "source": [
    "import seaborn as sns"
   ]
  },
  {
   "cell_type": "code",
   "execution_count": 43,
   "metadata": {},
   "outputs": [
    {
     "data": {
      "image/png": "[encoded data removed]",
      "text/plain": [
       "<Figure size 432x288 with 2 Axes>"
      ]
     },
     "metadata": {
      "needs_background": "light"
     },
     "output_type": "display_data"
    }
   ],
   "source": [
    "sns.heatmap(confusion_matrix(y_test,y_predict),annot=True,fmt='d');"
   ]
  },
  {
   "cell_type": "code",
   "execution_count": 44,
   "metadata": {},
   "outputs": [],
   "source": [
    "#Summarize history for accuray"
   ]
  },
  {
   "cell_type": "code",
   "execution_count": 45,
   "metadata": {},
   "outputs": [
    {
     "data": {
      "text/plain": [
       "{'loss': [0.6579983830451965,\n",
       "  0.533667266368866,\n",
       "  0.5161811709403992,\n",
       "  0.4994211494922638,\n",
       "  0.4879224896430969,\n",
       "  0.4768391251564026,\n",
       "  0.4639812707901001,\n",
       "  0.45422255992889404,\n",
       "  0.45051175355911255,\n",
       "  0.44178545475006104,\n",
       "  0.4397967755794525,\n",
       "  0.43084993958473206,\n",
       "  0.43658971786499023,\n",
       "  0.43137025833129883,\n",
       "  0.42377522587776184,\n",
       "  0.4270116090774536,\n",
       "  0.42194420099258423,\n",
       "  0.42030254006385803,\n",
       "  0.41031110286712646,\n",
       "  0.4174312651157379,\n",
       "  0.40623223781585693,\n",
       "  0.4024302661418915,\n",
       "  0.4030500650405884,\n",
       "  0.41057172417640686,\n",
       "  0.4002065360546112,\n",
       "  0.395583838224411,\n",
       "  0.3984488546848297,\n",
       "  0.39064672589302063,\n",
       "  0.3922742009162903,\n",
       "  0.38294315338134766,\n",
       "  0.38517841696739197,\n",
       "  0.38435059785842896,\n",
       "  0.38336992263793945,\n",
       "  0.37702393531799316,\n",
       "  0.3822256326675415,\n",
       "  0.3783135712146759,\n",
       "  0.37576326727867126,\n",
       "  0.37480202317237854,\n",
       "  0.3701414167881012,\n",
       "  0.37783941626548767,\n",
       "  0.37271079421043396,\n",
       "  0.36925649642944336,\n",
       "  0.36944329738616943,\n",
       "  0.3739176392555237,\n",
       "  0.37298715114593506,\n",
       "  0.3656798303127289,\n",
       "  0.3661110997200012,\n",
       "  0.3699501156806946,\n",
       "  0.36773261427879333,\n",
       "  0.36937451362609863,\n",
       "  0.3723407983779907,\n",
       "  0.36322295665740967,\n",
       "  0.3688308894634247,\n",
       "  0.36804649233818054,\n",
       "  0.36674565076828003,\n",
       "  0.3655466139316559,\n",
       "  0.36421167850494385,\n",
       "  0.36346694827079773,\n",
       "  0.3602955937385559,\n",
       "  0.3628489673137665,\n",
       "  0.3606000244617462,\n",
       "  0.3640630543231964,\n",
       "  0.3632161319255829,\n",
       "  0.36195141077041626,\n",
       "  0.36297985911369324,\n",
       "  0.3613930940628052,\n",
       "  0.3590744733810425,\n",
       "  0.3621842861175537,\n",
       "  0.36242201924324036,\n",
       "  0.3558497130870819,\n",
       "  0.36650383472442627,\n",
       "  0.3597652316093445,\n",
       "  0.35570061206817627,\n",
       "  0.36015379428863525,\n",
       "  0.3625198006629944,\n",
       "  0.3606853783130646,\n",
       "  0.35082489252090454,\n",
       "  0.3564397394657135,\n",
       "  0.3549516201019287,\n",
       "  0.357573002576828,\n",
       "  0.3578663468360901,\n",
       "  0.3529450595378876,\n",
       "  0.3541809320449829,\n",
       "  0.3592281937599182,\n",
       "  0.36366263031959534,\n",
       "  0.3578766882419586,\n",
       "  0.36030319333076477,\n",
       "  0.3556564748287201,\n",
       "  0.3562687337398529,\n",
       "  0.3574356138706207,\n",
       "  0.3584693670272827,\n",
       "  0.3538857400417328,\n",
       "  0.362446129322052,\n",
       "  0.3496761918067932,\n",
       "  0.3584437072277069,\n",
       "  0.3542003631591797,\n",
       "  0.3492477536201477,\n",
       "  0.3502413034439087,\n",
       "  0.35746464133262634,\n",
       "  0.35289400815963745],\n",
       " 'accuracy': [0.7333457469940186,\n",
       "  0.7831684947013855,\n",
       "  0.7898861765861511,\n",
       "  0.7956708073616028,\n",
       "  0.7949244379997253,\n",
       "  0.7975368499755859,\n",
       "  0.7973502278327942,\n",
       "  0.8035081028938293,\n",
       "  0.8064937591552734,\n",
       "  0.8087329864501953,\n",
       "  0.8111587762832642,\n",
       "  0.8130248188972473,\n",
       "  0.810225784778595,\n",
       "  0.8139578104019165,\n",
       "  0.8182497024536133,\n",
       "  0.8193692564964294,\n",
       "  0.8214219212532043,\n",
       "  0.8182497024536133,\n",
       "  0.8221682906150818,\n",
       "  0.8242209553718567,\n",
       "  0.8288859724998474,\n",
       "  0.8309386372566223,\n",
       "  0.8348572254180908,\n",
       "  0.8242209553718567,\n",
       "  0.8309386372566223,\n",
       "  0.8335510492324829,\n",
       "  0.8307520151138306,\n",
       "  0.8350438475608826,\n",
       "  0.8331778049468994,\n",
       "  0.8380295038223267,\n",
       "  0.8380295038223267,\n",
       "  0.8413883447647095,\n",
       "  0.8361634612083435,\n",
       "  0.8434409499168396,\n",
       "  0.844187319278717,\n",
       "  0.8395223021507263,\n",
       "  0.8400821089744568,\n",
       "  0.845306932926178,\n",
       "  0.845120370388031,\n",
       "  0.844187319278717,\n",
       "  0.8482925891876221,\n",
       "  0.8469863533973694,\n",
       "  0.8467997908592224,\n",
       "  0.8456801772117615,\n",
       "  0.8454935550689697,\n",
       "  0.8477327823638916,\n",
       "  0.8462399840354919,\n",
       "  0.8466131687164307,\n",
       "  0.8501586318016052,\n",
       "  0.8484792113304138,\n",
       "  0.8467997908592224,\n",
       "  0.8495988249778748,\n",
       "  0.8484792113304138,\n",
       "  0.8501586318016052,\n",
       "  0.8510916233062744,\n",
       "  0.8510916233062744,\n",
       "  0.8518380522727966,\n",
       "  0.8516514301300049,\n",
       "  0.8522112369537354,\n",
       "  0.854823648929596,\n",
       "  0.8561298847198486,\n",
       "  0.8509050011634827,\n",
       "  0.8456801772117615,\n",
       "  0.8520246148109436,\n",
       "  0.8484792113304138,\n",
       "  0.8538906574249268,\n",
       "  0.8522112369537354,\n",
       "  0.8497853875160217,\n",
       "  0.854823648929596,\n",
       "  0.854823648929596,\n",
       "  0.8522112369537354,\n",
       "  0.8503451943397522,\n",
       "  0.8542638421058655,\n",
       "  0.8503451943397522,\n",
       "  0.8563164472579956,\n",
       "  0.8525844216346741,\n",
       "  0.8559432625770569,\n",
       "  0.8551968932151794,\n",
       "  0.8570628762245178,\n",
       "  0.8522112369537354,\n",
       "  0.8544504642486572,\n",
       "  0.85780930519104,\n",
       "  0.8533308506011963,\n",
       "  0.8538906574249268,\n",
       "  0.8481059670448303,\n",
       "  0.8551968932151794,\n",
       "  0.8550102710723877,\n",
       "  0.8550102710723877,\n",
       "  0.85780930519104,\n",
       "  0.853517472743988,\n",
       "  0.8557567000389099,\n",
       "  0.854637086391449,\n",
       "  0.8531442284584045,\n",
       "  0.8533308506011963,\n",
       "  0.8525844216346741,\n",
       "  0.8533308506011963,\n",
       "  0.858928918838501,\n",
       "  0.8566896915435791,\n",
       "  0.8525844216346741,\n",
       "  0.8607949018478394],\n",
       " 'val_loss': [0.5045416355133057,\n",
       "  0.4936353266239166,\n",
       "  0.4846624433994293,\n",
       "  0.4802108705043793,\n",
       "  0.47058355808258057,\n",
       "  0.45782986283302307,\n",
       "  0.44713088870048523,\n",
       "  0.44025084376335144,\n",
       "  0.4367395341396332,\n",
       "  0.43472135066986084,\n",
       "  0.43209803104400635,\n",
       "  0.4267900884151459,\n",
       "  0.42860981822013855,\n",
       "  0.4302183985710144,\n",
       "  0.42628949880599976,\n",
       "  0.4189222455024719,\n",
       "  0.4137263894081116,\n",
       "  0.42037028074264526,\n",
       "  0.41511231660842896,\n",
       "  0.4173203110694885,\n",
       "  0.40912383794784546,\n",
       "  0.4041265845298767,\n",
       "  0.40090838074684143,\n",
       "  0.4050934612751007,\n",
       "  0.40181443095207214,\n",
       "  0.3972594738006592,\n",
       "  0.39967450499534607,\n",
       "  0.3894272744655609,\n",
       "  0.3895638883113861,\n",
       "  0.3873358368873596,\n",
       "  0.38845568895339966,\n",
       "  0.39007923007011414,\n",
       "  0.3852503299713135,\n",
       "  0.3805834949016571,\n",
       "  0.3803390860557556,\n",
       "  0.38497689366340637,\n",
       "  0.38113367557525635,\n",
       "  0.38554853200912476,\n",
       "  0.38559994101524353,\n",
       "  0.38413864374160767,\n",
       "  0.38489800691604614,\n",
       "  0.37908151745796204,\n",
       "  0.3812214136123657,\n",
       "  0.38159701228141785,\n",
       "  0.3868008852005005,\n",
       "  0.37726861238479614,\n",
       "  0.38179811835289,\n",
       "  0.3823280930519104,\n",
       "  0.3798883259296417,\n",
       "  0.3833859860897064,\n",
       "  0.38807806372642517,\n",
       "  0.3829246759414673,\n",
       "  0.3827263116836548,\n",
       "  0.3826100826263428,\n",
       "  0.3833756744861603,\n",
       "  0.3853840231895447,\n",
       "  0.3801382780075073,\n",
       "  0.38186442852020264,\n",
       "  0.3814921975135803,\n",
       "  0.37820032238960266,\n",
       "  0.3802197277545929,\n",
       "  0.3868259787559509,\n",
       "  0.3783838748931885,\n",
       "  0.3723725974559784,\n",
       "  0.3722998797893524,\n",
       "  0.37652313709259033,\n",
       "  0.3746119737625122,\n",
       "  0.37803155183792114,\n",
       "  0.37779533863067627,\n",
       "  0.3786265552043915,\n",
       "  0.3828589618206024,\n",
       "  0.3748455047607422,\n",
       "  0.3779493272304535,\n",
       "  0.37413424253463745,\n",
       "  0.3770933449268341,\n",
       "  0.38060861825942993,\n",
       "  0.36999887228012085,\n",
       "  0.36967918276786804,\n",
       "  0.3843620717525482,\n",
       "  0.38168612122535706,\n",
       "  0.3719847798347473,\n",
       "  0.3738374710083008,\n",
       "  0.36971795558929443,\n",
       "  0.3791274428367615,\n",
       "  0.37079736590385437,\n",
       "  0.37728241086006165,\n",
       "  0.3781507611274719,\n",
       "  0.3797295093536377,\n",
       "  0.3794698119163513,\n",
       "  0.3772395849227905,\n",
       "  0.3739061653614044,\n",
       "  0.3778940737247467,\n",
       "  0.38186997175216675,\n",
       "  0.36796143651008606,\n",
       "  0.37681421637535095,\n",
       "  0.37284496426582336,\n",
       "  0.37588584423065186,\n",
       "  0.37264418601989746,\n",
       "  0.37956321239471436,\n",
       "  0.36942169070243835],\n",
       " 'val_accuracy': [0.7909882664680481,\n",
       "  0.7909882664680481,\n",
       "  0.7909882664680481,\n",
       "  0.7909882664680481,\n",
       "  0.7909882664680481,\n",
       "  0.7921242117881775,\n",
       "  0.7943960428237915,\n",
       "  0.7947747111320496,\n",
       "  0.7974252104759216,\n",
       "  0.7978038787841797,\n",
       "  0.8015903234481812,\n",
       "  0.806134045124054,\n",
       "  0.8049980998039246,\n",
       "  0.8068913221359253,\n",
       "  0.8076485991477966,\n",
       "  0.8144642114639282,\n",
       "  0.816736102104187,\n",
       "  0.8031048774719238,\n",
       "  0.8220371007919312,\n",
       "  0.8080272674560547,\n",
       "  0.8137069344520569,\n",
       "  0.8174933791160583,\n",
       "  0.8137069344520569,\n",
       "  0.8091632127761841,\n",
       "  0.8110564351081848,\n",
       "  0.8156001567840576,\n",
       "  0.8137069344520569,\n",
       "  0.8239303231239319,\n",
       "  0.8258235454559326,\n",
       "  0.8250662684440613,\n",
       "  0.819007933139801,\n",
       "  0.8220371007919312,\n",
       "  0.8262022137641907,\n",
       "  0.8330178260803223,\n",
       "  0.8326391577720642,\n",
       "  0.8212798237800598,\n",
       "  0.8254449367523193,\n",
       "  0.8250662684440613,\n",
       "  0.8227943778038025,\n",
       "  0.8201438784599304,\n",
       "  0.8171147108078003,\n",
       "  0.8280954360961914,\n",
       "  0.8258235454559326,\n",
       "  0.8254449367523193,\n",
       "  0.8209011554718018,\n",
       "  0.836804211139679,\n",
       "  0.8258235454559326,\n",
       "  0.8231730461120605,\n",
       "  0.8277167677879333,\n",
       "  0.8209011554718018,\n",
       "  0.8129496574401855,\n",
       "  0.8243089914321899,\n",
       "  0.8224157691001892,\n",
       "  0.8216584920883179,\n",
       "  0.8277167677879333,\n",
       "  0.8212798237800598,\n",
       "  0.8246876001358032,\n",
       "  0.826959490776062,\n",
       "  0.8224157691001892,\n",
       "  0.8311246037483215,\n",
       "  0.8288527131080627,\n",
       "  0.8125709891319275,\n",
       "  0.8246876001358032,\n",
       "  0.8386974334716797,\n",
       "  0.8439984917640686,\n",
       "  0.8307459354400635,\n",
       "  0.8375615477561951,\n",
       "  0.8296099901199341,\n",
       "  0.8330178260803223,\n",
       "  0.8277167677879333,\n",
       "  0.8243089914321899,\n",
       "  0.8311246037483215,\n",
       "  0.8277167677879333,\n",
       "  0.8307459354400635,\n",
       "  0.8341537117958069,\n",
       "  0.826959490776062,\n",
       "  0.8402120471000671,\n",
       "  0.8417266011238098,\n",
       "  0.819007933139801,\n",
       "  0.8258235454559326,\n",
       "  0.8379401564598083,\n",
       "  0.8398333787918091,\n",
       "  0.8405906558036804,\n",
       "  0.8311246037483215,\n",
       "  0.8402120471000671,\n",
       "  0.8254449367523193,\n",
       "  0.8273381590843201,\n",
       "  0.8299886584281921,\n",
       "  0.8280954360961914,\n",
       "  0.8288527131080627,\n",
       "  0.8322604894638062,\n",
       "  0.8262022137641907,\n",
       "  0.826959490776062,\n",
       "  0.8428625464439392,\n",
       "  0.8284740447998047,\n",
       "  0.837182879447937,\n",
       "  0.8288527131080627,\n",
       "  0.8439984917640686,\n",
       "  0.8307459354400635,\n",
       "  0.8421052694320679]}"
      ]
     },
     "execution_count": 45,
     "metadata": {},
     "output_type": "execute_result"
    }
   ],
   "source": [
    "history.history"
   ]
  },
  {
   "cell_type": "code",
   "execution_count": 46,
   "metadata": {},
   "outputs": [
    {
     "data": {
      "text/html": [
       "<div>\n",
       "<style scoped>\n",
       "    .dataframe tbody tr th:only-of-type {\n",
       "        vertical-align: middle;\n",
       "    }\n",
       "\n",
       "    .dataframe tbody tr th {\n",
       "        vertical-align: top;\n",
       "    }\n",
       "\n",
       "    .dataframe thead th {\n",
       "        text-align: right;\n",
       "    }\n",
       "</style>\n",
       "<table border=\"1\" class=\"dataframe\">\n",
       "  <thead>\n",
       "    <tr style=\"text-align: right;\">\n",
       "      <th></th>\n",
       "      <th>loss</th>\n",
       "      <th>accuracy</th>\n",
       "      <th>val_loss</th>\n",
       "      <th>val_accuracy</th>\n",
       "    </tr>\n",
       "  </thead>\n",
       "  <tbody>\n",
       "    <tr>\n",
       "      <th>0</th>\n",
       "      <td>0.657998</td>\n",
       "      <td>0.733346</td>\n",
       "      <td>0.504542</td>\n",
       "      <td>0.790988</td>\n",
       "    </tr>\n",
       "    <tr>\n",
       "      <th>1</th>\n",
       "      <td>0.533667</td>\n",
       "      <td>0.783168</td>\n",
       "      <td>0.493635</td>\n",
       "      <td>0.790988</td>\n",
       "    </tr>\n",
       "    <tr>\n",
       "      <th>2</th>\n",
       "      <td>0.516181</td>\n",
       "      <td>0.789886</td>\n",
       "      <td>0.484662</td>\n",
       "      <td>0.790988</td>\n",
       "    </tr>\n",
       "    <tr>\n",
       "      <th>3</th>\n",
       "      <td>0.499421</td>\n",
       "      <td>0.795671</td>\n",
       "      <td>0.480211</td>\n",
       "      <td>0.790988</td>\n",
       "    </tr>\n",
       "    <tr>\n",
       "      <th>4</th>\n",
       "      <td>0.487922</td>\n",
       "      <td>0.794924</td>\n",
       "      <td>0.470584</td>\n",
       "      <td>0.790988</td>\n",
       "    </tr>\n",
       "    <tr>\n",
       "      <th>...</th>\n",
       "      <td>...</td>\n",
       "      <td>...</td>\n",
       "      <td>...</td>\n",
       "      <td>...</td>\n",
       "    </tr>\n",
       "    <tr>\n",
       "      <th>95</th>\n",
       "      <td>0.354200</td>\n",
       "      <td>0.853331</td>\n",
       "      <td>0.372845</td>\n",
       "      <td>0.837183</td>\n",
       "    </tr>\n",
       "    <tr>\n",
       "      <th>96</th>\n",
       "      <td>0.349248</td>\n",
       "      <td>0.858929</td>\n",
       "      <td>0.375886</td>\n",
       "      <td>0.828853</td>\n",
       "    </tr>\n",
       "    <tr>\n",
       "      <th>97</th>\n",
       "      <td>0.350241</td>\n",
       "      <td>0.856690</td>\n",
       "      <td>0.372644</td>\n",
       "      <td>0.843998</td>\n",
       "    </tr>\n",
       "    <tr>\n",
       "      <th>98</th>\n",
       "      <td>0.357465</td>\n",
       "      <td>0.852584</td>\n",
       "      <td>0.379563</td>\n",
       "      <td>0.830746</td>\n",
       "    </tr>\n",
       "    <tr>\n",
       "      <th>99</th>\n",
       "      <td>0.352894</td>\n",
       "      <td>0.860795</td>\n",
       "      <td>0.369422</td>\n",
       "      <td>0.842105</td>\n",
       "    </tr>\n",
       "  </tbody>\n",
       "</table>\n",
       "<p>100 rows × 4 columns</p>\n",
       "</div>"
      ],
      "text/plain": [
       "        loss  accuracy  val_loss  val_accuracy\n",
       "0   0.657998  0.733346  0.504542      0.790988\n",
       "1   0.533667  0.783168  0.493635      0.790988\n",
       "2   0.516181  0.789886  0.484662      0.790988\n",
       "3   0.499421  0.795671  0.480211      0.790988\n",
       "4   0.487922  0.794924  0.470584      0.790988\n",
       "..       ...       ...       ...           ...\n",
       "95  0.354200  0.853331  0.372845      0.837183\n",
       "96  0.349248  0.858929  0.375886      0.828853\n",
       "97  0.350241  0.856690  0.372644      0.843998\n",
       "98  0.357465  0.852584  0.379563      0.830746\n",
       "99  0.352894  0.860795  0.369422      0.842105\n",
       "\n",
       "[100 rows x 4 columns]"
      ]
     },
     "execution_count": 46,
     "metadata": {},
     "output_type": "execute_result"
    }
   ],
   "source": [
    "pd.DataFrame(history.history)"
   ]
  },
  {
   "cell_type": "code",
   "execution_count": 47,
   "metadata": {},
   "outputs": [
    {
     "data": {
      "image/png": "[encoded data removed]",
      "text/plain": [
       "<Figure size 432x288 with 1 Axes>"
      ]
     },
     "metadata": {
      "needs_background": "light"
     },
     "output_type": "display_data"
    }
   ],
   "source": [
    "plt.plot(history.history['accuracy'])\n",
    "plt.plot(history.history['val_accuracy'])\n",
    "plt.title('model_accuracy')\n",
    "plt.ylabel('accuracy')\n",
    "plt.xlabel('epoch')\n",
    "plt.legend(['train','test'],loc=\"upper left\");"
   ]
  },
  {
   "cell_type": "code",
   "execution_count": 48,
   "metadata": {},
   "outputs": [
    {
     "data": {
      "image/png": "[encoded data removed]",
      "text/plain": [
       "<Figure size 432x288 with 1 Axes>"
      ]
     },
     "metadata": {
      "needs_background": "light"
     },
     "output_type": "display_data"
    }
   ],
   "source": [
    "#Summarize history for loss\n",
    "plt.plot(history.history['loss'])\n",
    "plt.plot(history.history['val_loss'])\n",
    "plt.title('model_loss')\n",
    "plt.ylabel('loss')\n",
    "plt.xlabel('epoch')\n",
    "plt.legend(['train','test'],loc=\"upper left\");\n"
   ]
  },
  {
   "cell_type": "code",
   "execution_count": 49,
   "metadata": {},
   "outputs": [],
   "source": [
    "from tensorflow import keras\n",
    "from tensorflow.keras import layers\n",
    "from kerastuner.tuners import RandomSearch"
   ]
  },
  {
   "cell_type": "code",
   "execution_count": 50,
   "metadata": {},
   "outputs": [],
   "source": [
    "def build_model(hp):\n",
    "    model = keras.Sequential()\n",
    "    for i in range(hp.Int('num_layers', 2, 20)):\n",
    "        model.add(layers.Dense(units=hp.Int('units_' + str(i),\n",
    "                                            min_value=32,\n",
    "                                            max_value=512,\n",
    "                                            step=32),\n",
    "                               activation='relu'))\n",
    "    model.add(layers.Dense(1, activation='sigmoid'))\n",
    "    model.compile(\n",
    "        optimizer=keras.optimizers.Adam(\n",
    "            hp.Choice('learning_rate', [1e-2, 1e-3, 1e-4])),\n",
    "        loss='binary_crossentropy',\n",
    "        metrics=['accuracy'])\n",
    "    return model"
   ]
  },
  {
   "cell_type": "code",
   "execution_count": 54,
   "metadata": {},
   "outputs": [],
   "source": [
    "tuner = RandomSearch(\n",
    "    build_model,\n",
    "    objective='val_accuracy',\n",
    "    max_trials=5,\n",
    "    executions_per_trial=3,\n",
    "    directory='dir',\n",
    "    project_name='Santosh Directory')"
   ]
  },
  {
   "cell_type": "code",
   "execution_count": 55,
   "metadata": {},
   "outputs": [
    {
     "data": {
      "text/html": [
       "<span style=\"color:#4527A0\"><h1 style=\"font-size:18px\">Search space summary</h1></span>"
      ],
      "text/plain": [
       "<IPython.core.display.HTML object>"
      ]
     },
     "metadata": {},
     "output_type": "display_data"
    },
    {
     "data": {
      "text/html": [
       "<span style=\"color:cyan\"> |-Default search space size: 4</span>"
      ],
      "text/plain": [
       "<IPython.core.display.HTML object>"
      ]
     },
     "metadata": {},
     "output_type": "display_data"
    },
    {
     "data": {
      "text/html": [
       "<span style=\"color:#7E57C2\"><h2 style=\"font-size:16px\">num_layers (Int)</h2></span>"
      ],
      "text/plain": [
       "<IPython.core.display.HTML object>"
      ]
     },
     "metadata": {},
     "output_type": "display_data"
    },
    {
     "data": {
      "text/html": [
       "<span style=\"color:cyan\"> |-default: None</span>"
      ],
      "text/plain": [
       "<IPython.core.display.HTML object>"
      ]
     },
     "metadata": {},
     "output_type": "display_data"
    },
    {
     "data": {
      "text/html": [
       "<span style=\"color:blue\"> |-max_value: 20</span>"
      ],
      "text/plain": [
       "<IPython.core.display.HTML object>"
      ]
     },
     "metadata": {},
     "output_type": "display_data"
    },
    {
     "data": {
      "text/html": [
       "<span style=\"color:cyan\"> |-min_value: 2</span>"
      ],
      "text/plain": [
       "<IPython.core.display.HTML object>"
      ]
     },
     "metadata": {},
     "output_type": "display_data"
    },
    {
     "data": {
      "text/html": [
       "<span style=\"color:blue\"> |-sampling: None</span>"
      ],
      "text/plain": [
       "<IPython.core.display.HTML object>"
      ]
     },
     "metadata": {},
     "output_type": "display_data"
    },
    {
     "data": {
      "text/html": [
       "<span style=\"color:cyan\"> |-step: 1</span>"
      ],
      "text/plain": [
       "<IPython.core.display.HTML object>"
      ]
     },
     "metadata": {},
     "output_type": "display_data"
    },
    {
     "data": {
      "text/html": [
       "<span style=\"color:#7E57C2\"><h2 style=\"font-size:16px\">units_0 (Int)</h2></span>"
      ],
      "text/plain": [
       "<IPython.core.display.HTML object>"
      ]
     },
     "metadata": {},
     "output_type": "display_data"
    },
    {
     "data": {
      "text/html": [
       "<span style=\"color:cyan\"> |-default: None</span>"
      ],
      "text/plain": [
       "<IPython.core.display.HTML object>"
      ]
     },
     "metadata": {},
     "output_type": "display_data"
    },
    {
     "data": {
      "text/html": [
       "<span style=\"color:blue\"> |-max_value: 512</span>"
      ],
      "text/plain": [
       "<IPython.core.display.HTML object>"
      ]
     },
     "metadata": {},
     "output_type": "display_data"
    },
    {
     "data": {
      "text/html": [
       "<span style=\"color:cyan\"> |-min_value: 32</span>"
      ],
      "text/plain": [
       "<IPython.core.display.HTML object>"
      ]
     },
     "metadata": {},
     "output_type": "display_data"
    },
    {
     "data": {
      "text/html": [
       "<span style=\"color:blue\"> |-sampling: None</span>"
      ],
      "text/plain": [
       "<IPython.core.display.HTML object>"
      ]
     },
     "metadata": {},
     "output_type": "display_data"
    },
    {
     "data": {
      "text/html": [
       "<span style=\"color:cyan\"> |-step: 32</span>"
      ],
      "text/plain": [
       "<IPython.core.display.HTML object>"
      ]
     },
     "metadata": {},
     "output_type": "display_data"
    },
    {
     "data": {
      "text/html": [
       "<span style=\"color:#7E57C2\"><h2 style=\"font-size:16px\">units_1 (Int)</h2></span>"
      ],
      "text/plain": [
       "<IPython.core.display.HTML object>"
      ]
     },
     "metadata": {},
     "output_type": "display_data"
    },
    {
     "data": {
      "text/html": [
       "<span style=\"color:cyan\"> |-default: None</span>"
      ],
      "text/plain": [
       "<IPython.core.display.HTML object>"
      ]
     },
     "metadata": {},
     "output_type": "display_data"
    },
    {
     "data": {
      "text/html": [
       "<span style=\"color:blue\"> |-max_value: 512</span>"
      ],
      "text/plain": [
       "<IPython.core.display.HTML object>"
      ]
     },
     "metadata": {},
     "output_type": "display_data"
    },
    {
     "data": {
      "text/html": [
       "<span style=\"color:cyan\"> |-min_value: 32</span>"
      ],
      "text/plain": [
       "<IPython.core.display.HTML object>"
      ]
     },
     "metadata": {},
     "output_type": "display_data"
    },
    {
     "data": {
      "text/html": [
       "<span style=\"color:blue\"> |-sampling: None</span>"
      ],
      "text/plain": [
       "<IPython.core.display.HTML object>"
      ]
     },
     "metadata": {},
     "output_type": "display_data"
    },
    {
     "data": {
      "text/html": [
       "<span style=\"color:cyan\"> |-step: 32</span>"
      ],
      "text/plain": [
       "<IPython.core.display.HTML object>"
      ]
     },
     "metadata": {},
     "output_type": "display_data"
    },
    {
     "data": {
      "text/html": [
       "<span style=\"color:#7E57C2\"><h2 style=\"font-size:16px\">learning_rate (Choice)</h2></span>"
      ],
      "text/plain": [
       "<IPython.core.display.HTML object>"
      ]
     },
     "metadata": {},
     "output_type": "display_data"
    },
    {
     "data": {
      "text/html": [
       "<span style=\"color:cyan\"> |-default: 0.01</span>"
      ],
      "text/plain": [
       "<IPython.core.display.HTML object>"
      ]
     },
     "metadata": {},
     "output_type": "display_data"
    },
    {
     "data": {
      "text/html": [
       "<span style=\"color:blue\"> |-ordered: True</span>"
      ],
      "text/plain": [
       "<IPython.core.display.HTML object>"
      ]
     },
     "metadata": {},
     "output_type": "display_data"
    },
    {
     "data": {
      "text/html": [
       "<span style=\"color:cyan\"> |-values: [0.01, 0.001, 0.0001]</span>"
      ],
      "text/plain": [
       "<IPython.core.display.HTML object>"
      ]
     },
     "metadata": {},
     "output_type": "display_data"
    }
   ],
   "source": [
    "tuner.search_space_summary()"
   ]
  },
  {
   "cell_type": "code",
   "execution_count": 56,
   "metadata": {
    "scrolled": true
   },
   "outputs": [
    {
     "name": "stdout",
     "output_type": "stream",
     "text": [
      "Epoch 1/5\n",
      "250/250 [==============================] - ETA: 0s - loss: 0.6929 - accuracy: 0.68 - ETA: 0s - loss: 0.5754 - accuracy: 0.81 - ETA: 0s - loss: 0.5399 - accuracy: 0.79 - ETA: 0s - loss: 0.5099 - accuracy: 0.79 - ETA: 0s - loss: 0.4977 - accuracy: 0.79 - ETA: 0s - loss: 0.4816 - accuracy: 0.79 - ETA: 0s - loss: 0.4768 - accuracy: 0.79 - ETA: 0s - loss: 0.4709 - accuracy: 0.79 - ETA: 0s - loss: 0.4712 - accuracy: 0.79 - ETA: 0s - loss: 0.4630 - accuracy: 0.80 - ETA: 0s - loss: 0.4547 - accuracy: 0.80 - ETA: 0s - loss: 0.4443 - accuracy: 0.81 - 1s 5ms/step - loss: 0.4430 - accuracy: 0.8120 - val_loss: 0.3877 - val_accuracy: 0.8340\n",
      "Epoch 2/5\n",
      "250/250 [==============================] - ETA: 0s - loss: 0.4066 - accuracy: 0.81 - ETA: 0s - loss: 0.3987 - accuracy: 0.82 - ETA: 0s - loss: 0.3809 - accuracy: 0.84 - ETA: 0s - loss: 0.3876 - accuracy: 0.83 - ETA: 0s - loss: 0.3756 - accuracy: 0.84 - ETA: 0s - loss: 0.3764 - accuracy: 0.84 - ETA: 0s - loss: 0.3618 - accuracy: 0.85 - ETA: 0s - loss: 0.3671 - accuracy: 0.84 - ETA: 0s - loss: 0.3664 - accuracy: 0.84 - ETA: 0s - loss: 0.3644 - accuracy: 0.85 - ETA: 0s - loss: 0.3685 - accuracy: 0.85 - ETA: 0s - loss: 0.3666 - accuracy: 0.85 - ETA: 0s - loss: 0.3683 - accuracy: 0.85 - ETA: 0s - loss: 0.3662 - accuracy: 0.85 - ETA: 0s - loss: 0.3642 - accuracy: 0.85 - ETA: 0s - loss: 0.3629 - accuracy: 0.85 - 1s 4ms/step - loss: 0.3635 - accuracy: 0.8515 - val_loss: 0.3512 - val_accuracy: 0.8605\n",
      "Epoch 3/5\n",
      "250/250 [==============================] - ETA: 0s - loss: 0.2888 - accuracy: 0.87 - ETA: 0s - loss: 0.3172 - accuracy: 0.86 - ETA: 0s - loss: 0.3342 - accuracy: 0.85 - ETA: 0s - loss: 0.3427 - accuracy: 0.85 - ETA: 0s - loss: 0.3466 - accuracy: 0.85 - ETA: 0s - loss: 0.3337 - accuracy: 0.86 - ETA: 0s - loss: 0.3372 - accuracy: 0.86 - ETA: 0s - loss: 0.3366 - accuracy: 0.86 - ETA: 0s - loss: 0.3361 - accuracy: 0.86 - ETA: 0s - loss: 0.3363 - accuracy: 0.86 - ETA: 0s - loss: 0.3408 - accuracy: 0.85 - ETA: 0s - loss: 0.3430 - accuracy: 0.85 - ETA: 0s - loss: 0.3460 - accuracy: 0.85 - 1s 3ms/step - loss: 0.3481 - accuracy: 0.8568 - val_loss: 0.3484 - val_accuracy: 0.8570\n",
      "Epoch 4/5\n",
      "250/250 [==============================] - ETA: 0s - loss: 0.3118 - accuracy: 0.90 - ETA: 0s - loss: 0.3253 - accuracy: 0.87 - ETA: 0s - loss: 0.3359 - accuracy: 0.86 - ETA: 0s - loss: 0.3421 - accuracy: 0.86 - ETA: 0s - loss: 0.3458 - accuracy: 0.86 - ETA: 0s - loss: 0.3427 - accuracy: 0.86 - ETA: 0s - loss: 0.3384 - accuracy: 0.86 - ETA: 0s - loss: 0.3339 - accuracy: 0.86 - ETA: 0s - loss: 0.3361 - accuracy: 0.86 - ETA: 0s - loss: 0.3381 - accuracy: 0.86 - ETA: 0s - loss: 0.3356 - accuracy: 0.86 - ETA: 0s - loss: 0.3383 - accuracy: 0.86 - 1s 3ms/step - loss: 0.3395 - accuracy: 0.8631 - val_loss: 0.3541 - val_accuracy: 0.8575\n",
      "Epoch 5/5\n",
      "250/250 [==============================] - ETA: 0s - loss: 0.2715 - accuracy: 0.96 - ETA: 0s - loss: 0.3453 - accuracy: 0.86 - ETA: 0s - loss: 0.3376 - accuracy: 0.86 - ETA: 0s - loss: 0.3366 - accuracy: 0.86 - ETA: 0s - loss: 0.3274 - accuracy: 0.86 - ETA: 0s - loss: 0.3314 - accuracy: 0.86 - ETA: 0s - loss: 0.3319 - accuracy: 0.86 - ETA: 0s - loss: 0.3310 - accuracy: 0.86 - ETA: 0s - loss: 0.3304 - accuracy: 0.86 - ETA: 0s - loss: 0.3329 - accuracy: 0.86 - ETA: 0s - loss: 0.3340 - accuracy: 0.86 - 1s 2ms/step - loss: 0.3353 - accuracy: 0.8658 - val_loss: 0.3470 - val_accuracy: 0.8565\n",
      "Epoch 1/5\n",
      "250/250 [==============================] - ETA: 0s - loss: 0.6930 - accuracy: 0.81 - ETA: 0s - loss: 0.6171 - accuracy: 0.79 - ETA: 0s - loss: 0.5620 - accuracy: 0.79 - ETA: 0s - loss: 0.5247 - accuracy: 0.79 - ETA: 0s - loss: 0.5140 - accuracy: 0.78 - ETA: 0s - loss: 0.4962 - accuracy: 0.78 - ETA: 0s - loss: 0.4917 - accuracy: 0.78 - ETA: 0s - loss: 0.4818 - accuracy: 0.78 - ETA: 0s - loss: 0.4706 - accuracy: 0.79 - ETA: 0s - loss: 0.4665 - accuracy: 0.79 - ETA: 0s - loss: 0.4613 - accuracy: 0.79 - ETA: 0s - loss: 0.4534 - accuracy: 0.80 - ETA: 0s - loss: 0.4460 - accuracy: 0.80 - ETA: 0s - loss: 0.4392 - accuracy: 0.80 - 1s 5ms/step - loss: 0.4391 - accuracy: 0.8094 - val_loss: 0.3604 - val_accuracy: 0.8555\n",
      "Epoch 2/5\n",
      "250/250 [==============================] - ETA: 0s - loss: 0.3537 - accuracy: 0.84 - ETA: 0s - loss: 0.3342 - accuracy: 0.86 - ETA: 0s - loss: 0.3676 - accuracy: 0.85 - ETA: 0s - loss: 0.3699 - accuracy: 0.85 - ETA: 0s - loss: 0.3770 - accuracy: 0.85 - ETA: 0s - loss: 0.3793 - accuracy: 0.85 - ETA: 0s - loss: 0.3790 - accuracy: 0.84 - ETA: 0s - loss: 0.3751 - accuracy: 0.84 - ETA: 0s - loss: 0.3685 - accuracy: 0.85 - ETA: 0s - loss: 0.3699 - accuracy: 0.85 - ETA: 0s - loss: 0.3705 - accuracy: 0.84 - ETA: 0s - loss: 0.3718 - accuracy: 0.84 - ETA: 0s - loss: 0.3714 - accuracy: 0.84 - ETA: 0s - loss: 0.3696 - accuracy: 0.84 - ETA: 0s - loss: 0.3685 - accuracy: 0.84 - 1s 3ms/step - loss: 0.3685 - accuracy: 0.8497 - val_loss: 0.3512 - val_accuracy: 0.8550\n",
      "Epoch 3/5\n",
      "250/250 [==============================] - ETA: 0s - loss: 0.3183 - accuracy: 0.90 - ETA: 0s - loss: 0.3505 - accuracy: 0.86 - ETA: 0s - loss: 0.3617 - accuracy: 0.85 - ETA: 0s - loss: 0.3626 - accuracy: 0.85 - ETA: 0s - loss: 0.3588 - accuracy: 0.85 - ETA: 0s - loss: 0.3568 - accuracy: 0.85 - ETA: 0s - loss: 0.3558 - accuracy: 0.85 - ETA: 0s - loss: 0.3571 - accuracy: 0.85 - ETA: 0s - loss: 0.3579 - accuracy: 0.85 - ETA: 0s - loss: 0.3545 - accuracy: 0.85 - ETA: 0s - loss: 0.3496 - accuracy: 0.85 - ETA: 0s - loss: 0.3514 - accuracy: 0.85 - ETA: 0s - loss: 0.3520 - accuracy: 0.85 - 1s 3ms/step - loss: 0.3518 - accuracy: 0.8566 - val_loss: 0.3560 - val_accuracy: 0.8525\n",
      "Epoch 4/5\n",
      "250/250 [==============================] - ETA: 0s - loss: 0.2127 - accuracy: 0.96 - ETA: 0s - loss: 0.3558 - accuracy: 0.85 - ETA: 0s - loss: 0.3502 - accuracy: 0.84 - ETA: 0s - loss: 0.3516 - accuracy: 0.84 - ETA: 0s - loss: 0.3486 - accuracy: 0.85 - ETA: 0s - loss: 0.3435 - accuracy: 0.85 - ETA: 0s - loss: 0.3433 - accuracy: 0.85 - ETA: 0s - loss: 0.3414 - accuracy: 0.85 - ETA: 0s - loss: 0.3428 - accuracy: 0.85 - ETA: 0s - loss: 0.3441 - accuracy: 0.85 - ETA: 0s - loss: 0.3442 - accuracy: 0.85 - ETA: 0s - loss: 0.3433 - accuracy: 0.85 - ETA: 0s - loss: 0.3423 - accuracy: 0.85 - ETA: 0s - loss: 0.3458 - accuracy: 0.85 - ETA: 0s - loss: 0.3461 - accuracy: 0.85 - ETA: 0s - loss: 0.3455 - accuracy: 0.85 - 1s 4ms/step - loss: 0.3459 - accuracy: 0.8584 - val_loss: 0.3549 - val_accuracy: 0.8570\n",
      "Epoch 5/5\n",
      "250/250 [==============================] - ETA: 0s - loss: 0.5141 - accuracy: 0.71 - ETA: 0s - loss: 0.3540 - accuracy: 0.85 - ETA: 0s - loss: 0.3366 - accuracy: 0.85 - ETA: 0s - loss: 0.3386 - accuracy: 0.85 - ETA: 0s - loss: 0.3383 - accuracy: 0.85 - ETA: 0s - loss: 0.3399 - accuracy: 0.85 - ETA: 0s - loss: 0.3347 - accuracy: 0.85 - ETA: 0s - loss: 0.3337 - accuracy: 0.86 - ETA: 0s - loss: 0.3324 - accuracy: 0.86 - ETA: 0s - loss: 0.3331 - accuracy: 0.86 - ETA: 0s - loss: 0.3339 - accuracy: 0.86 - ETA: 0s - loss: 0.3372 - accuracy: 0.86 - ETA: 0s - loss: 0.3351 - accuracy: 0.86 - ETA: 0s - loss: 0.3363 - accuracy: 0.86 - ETA: 0s - loss: 0.3379 - accuracy: 0.86 - ETA: 0s - loss: 0.3406 - accuracy: 0.86 - 1s 4ms/step - loss: 0.3387 - accuracy: 0.8633 - val_loss: 0.3620 - val_accuracy: 0.8485\n",
      "Epoch 1/5\n",
      "250/250 [==============================] - ETA: 0s - loss: 0.6930 - accuracy: 0.59 - ETA: 0s - loss: 0.6265 - accuracy: 0.76 - ETA: 0s - loss: 0.5594 - accuracy: 0.78 - ETA: 0s - loss: 0.5344 - accuracy: 0.78 - ETA: 0s - loss: 0.5120 - accuracy: 0.78 - ETA: 0s - loss: 0.4982 - accuracy: 0.78 - ETA: 0s - loss: 0.4873 - accuracy: 0.79 - ETA: 0s - loss: 0.4800 - accuracy: 0.79 - ETA: 0s - loss: 0.4747 - accuracy: 0.78 - ETA: 0s - loss: 0.4701 - accuracy: 0.78 - ETA: 0s - loss: 0.4646 - accuracy: 0.79 - ETA: 0s - loss: 0.4565 - accuracy: 0.79 - ETA: 0s - loss: 0.4519 - accuracy: 0.80 - ETA: 0s - loss: 0.4459 - accuracy: 0.80 - ETA: 0s - loss: 0.4401 - accuracy: 0.80 - 1s 5ms/step - loss: 0.4400 - accuracy: 0.8098 - val_loss: 0.3684 - val_accuracy: 0.8415\n",
      "Epoch 2/5\n"
     ]
    },
    {
     "name": "stdout",
     "output_type": "stream",
     "text": [
      "250/250 [==============================] - ETA: 0s - loss: 0.4058 - accuracy: 0.81 - ETA: 0s - loss: 0.3546 - accuracy: 0.86 - ETA: 0s - loss: 0.3677 - accuracy: 0.84 - ETA: 0s - loss: 0.3702 - accuracy: 0.84 - ETA: 0s - loss: 0.3608 - accuracy: 0.85 - ETA: 0s - loss: 0.3633 - accuracy: 0.85 - ETA: 0s - loss: 0.3667 - accuracy: 0.85 - ETA: 0s - loss: 0.3619 - accuracy: 0.85 - ETA: 0s - loss: 0.3655 - accuracy: 0.85 - ETA: 0s - loss: 0.3646 - accuracy: 0.85 - ETA: 0s - loss: 0.3663 - accuracy: 0.84 - ETA: 0s - loss: 0.3638 - accuracy: 0.85 - 1s 3ms/step - loss: 0.3650 - accuracy: 0.8499 - val_loss: 0.3594 - val_accuracy: 0.8540\n",
      "Epoch 3/5\n",
      "250/250 [==============================] - ETA: 0s - loss: 0.4859 - accuracy: 0.78 - ETA: 0s - loss: 0.3430 - accuracy: 0.84 - ETA: 0s - loss: 0.3600 - accuracy: 0.84 - ETA: 0s - loss: 0.3502 - accuracy: 0.84 - ETA: 0s - loss: 0.3423 - accuracy: 0.85 - ETA: 0s - loss: 0.3545 - accuracy: 0.85 - ETA: 0s - loss: 0.3491 - accuracy: 0.85 - ETA: 0s - loss: 0.3525 - accuracy: 0.85 - ETA: 0s - loss: 0.3524 - accuracy: 0.85 - ETA: 0s - loss: 0.3541 - accuracy: 0.85 - ETA: 0s - loss: 0.3569 - accuracy: 0.85 - ETA: 0s - loss: 0.3559 - accuracy: 0.85 - 1s 3ms/step - loss: 0.3550 - accuracy: 0.8561 - val_loss: 0.3512 - val_accuracy: 0.8570\n",
      "Epoch 4/5\n",
      "250/250 [==============================] - ETA: 0s - loss: 0.3256 - accuracy: 0.87 - ETA: 0s - loss: 0.2949 - accuracy: 0.87 - ETA: 0s - loss: 0.3259 - accuracy: 0.86 - ETA: 0s - loss: 0.3323 - accuracy: 0.86 - ETA: 0s - loss: 0.3261 - accuracy: 0.87 - ETA: 0s - loss: 0.3287 - accuracy: 0.87 - ETA: 0s - loss: 0.3361 - accuracy: 0.86 - ETA: 0s - loss: 0.3369 - accuracy: 0.86 - ETA: 0s - loss: 0.3408 - accuracy: 0.86 - ETA: 0s - loss: 0.3388 - accuracy: 0.86 - ETA: 0s - loss: 0.3416 - accuracy: 0.86 - ETA: 0s - loss: 0.3437 - accuracy: 0.85 - 1s 3ms/step - loss: 0.3432 - accuracy: 0.8591 - val_loss: 0.3471 - val_accuracy: 0.8600\n",
      "Epoch 5/5\n",
      "250/250 [==============================] - ETA: 0s - loss: 0.3737 - accuracy: 0.84 - ETA: 0s - loss: 0.3393 - accuracy: 0.85 - ETA: 0s - loss: 0.3395 - accuracy: 0.85 - ETA: 0s - loss: 0.3470 - accuracy: 0.85 - ETA: 0s - loss: 0.3282 - accuracy: 0.86 - ETA: 0s - loss: 0.3304 - accuracy: 0.86 - ETA: 0s - loss: 0.3371 - accuracy: 0.86 - ETA: 0s - loss: 0.3338 - accuracy: 0.86 - ETA: 0s - loss: 0.3348 - accuracy: 0.86 - ETA: 0s - loss: 0.3382 - accuracy: 0.86 - ETA: 0s - loss: 0.3379 - accuracy: 0.86 - 1s 3ms/step - loss: 0.3369 - accuracy: 0.8631 - val_loss: 0.3443 - val_accuracy: 0.8635\n"
     ]
    },
    {
     "data": {
      "text/html": [
       "<span style=\"color:#4527A0\"><h1 style=\"font-size:18px\">Trial complete</h1></span>"
      ],
      "text/plain": [
       "<IPython.core.display.HTML object>"
      ]
     },
     "metadata": {},
     "output_type": "display_data"
    },
    {
     "data": {
      "text/html": [
       "<span style=\"color:#4527A0\"><h1 style=\"font-size:18px\">Trial summary</h1></span>"
      ],
      "text/plain": [
       "<IPython.core.display.HTML object>"
      ]
     },
     "metadata": {},
     "output_type": "display_data"
    },
    {
     "data": {
      "text/html": [
       "<span style=\"color:cyan\"> |-Trial ID: a8e82f1c061414a07d8ef1710cd592d6</span>"
      ],
      "text/plain": [
       "<IPython.core.display.HTML object>"
      ]
     },
     "metadata": {},
     "output_type": "display_data"
    },
    {
     "data": {
      "text/html": [
       "<span style=\"color:cyan\"> |-Score: 0.8603333234786987</span>"
      ],
      "text/plain": [
       "<IPython.core.display.HTML object>"
      ]
     },
     "metadata": {},
     "output_type": "display_data"
    },
    {
     "data": {
      "text/html": [
       "<span style=\"color:cyan\"> |-Best step: 0</span>"
      ],
      "text/plain": [
       "<IPython.core.display.HTML object>"
      ]
     },
     "metadata": {},
     "output_type": "display_data"
    },
    {
     "data": {
      "text/html": [
       "<span style=\"color:#7E57C2\"><h2 style=\"font-size:16px\">Hyperparameters:</h2></span>"
      ],
      "text/plain": [
       "<IPython.core.display.HTML object>"
      ]
     },
     "metadata": {},
     "output_type": "display_data"
    },
    {
     "data": {
      "text/html": [
       "<span style=\"color:cyan\"> |-learning_rate: 0.001</span>"
      ],
      "text/plain": [
       "<IPython.core.display.HTML object>"
      ]
     },
     "metadata": {},
     "output_type": "display_data"
    },
    {
     "data": {
      "text/html": [
       "<span style=\"color:blue\"> |-num_layers: 15</span>"
      ],
      "text/plain": [
       "<IPython.core.display.HTML object>"
      ]
     },
     "metadata": {},
     "output_type": "display_data"
    },
    {
     "data": {
      "text/html": [
       "<span style=\"color:cyan\"> |-units_0: 64</span>"
      ],
      "text/plain": [
       "<IPython.core.display.HTML object>"
      ]
     },
     "metadata": {},
     "output_type": "display_data"
    },
    {
     "data": {
      "text/html": [
       "<span style=\"color:blue\"> |-units_1: 416</span>"
      ],
      "text/plain": [
       "<IPython.core.display.HTML object>"
      ]
     },
     "metadata": {},
     "output_type": "display_data"
    },
    {
     "data": {
      "text/html": [
       "<span style=\"color:cyan\"> |-units_10: 32</span>"
      ],
      "text/plain": [
       "<IPython.core.display.HTML object>"
      ]
     },
     "metadata": {},
     "output_type": "display_data"
    },
    {
     "data": {
      "text/html": [
       "<span style=\"color:blue\"> |-units_11: 32</span>"
      ],
      "text/plain": [
       "<IPython.core.display.HTML object>"
      ]
     },
     "metadata": {},
     "output_type": "display_data"
    },
    {
     "data": {
      "text/html": [
       "<span style=\"color:cyan\"> |-units_12: 32</span>"
      ],
      "text/plain": [
       "<IPython.core.display.HTML object>"
      ]
     },
     "metadata": {},
     "output_type": "display_data"
    },
    {
     "data": {
      "text/html": [
       "<span style=\"color:blue\"> |-units_13: 32</span>"
      ],
      "text/plain": [
       "<IPython.core.display.HTML object>"
      ]
     },
     "metadata": {},
     "output_type": "display_data"
    },
    {
     "data": {
      "text/html": [
       "<span style=\"color:cyan\"> |-units_14: 32</span>"
      ],
      "text/plain": [
       "<IPython.core.display.HTML object>"
      ]
     },
     "metadata": {},
     "output_type": "display_data"
    },
    {
     "data": {
      "text/html": [
       "<span style=\"color:blue\"> |-units_2: 32</span>"
      ],
      "text/plain": [
       "<IPython.core.display.HTML object>"
      ]
     },
     "metadata": {},
     "output_type": "display_data"
    },
    {
     "data": {
      "text/html": [
       "<span style=\"color:cyan\"> |-units_3: 32</span>"
      ],
      "text/plain": [
       "<IPython.core.display.HTML object>"
      ]
     },
     "metadata": {},
     "output_type": "display_data"
    },
    {
     "data": {
      "text/html": [
       "<span style=\"color:blue\"> |-units_4: 32</span>"
      ],
      "text/plain": [
       "<IPython.core.display.HTML object>"
      ]
     },
     "metadata": {},
     "output_type": "display_data"
    },
    {
     "data": {
      "text/html": [
       "<span style=\"color:cyan\"> |-units_5: 32</span>"
      ],
      "text/plain": [
       "<IPython.core.display.HTML object>"
      ]
     },
     "metadata": {},
     "output_type": "display_data"
    },
    {
     "data": {
      "text/html": [
       "<span style=\"color:blue\"> |-units_6: 32</span>"
      ],
      "text/plain": [
       "<IPython.core.display.HTML object>"
      ]
     },
     "metadata": {},
     "output_type": "display_data"
    },
    {
     "data": {
      "text/html": [
       "<span style=\"color:cyan\"> |-units_7: 32</span>"
      ],
      "text/plain": [
       "<IPython.core.display.HTML object>"
      ]
     },
     "metadata": {},
     "output_type": "display_data"
    },
    {
     "data": {
      "text/html": [
       "<span style=\"color:blue\"> |-units_8: 32</span>"
      ],
      "text/plain": [
       "<IPython.core.display.HTML object>"
      ]
     },
     "metadata": {},
     "output_type": "display_data"
    },
    {
     "data": {
      "text/html": [
       "<span style=\"color:cyan\"> |-units_9: 32</span>"
      ],
      "text/plain": [
       "<IPython.core.display.HTML object>"
      ]
     },
     "metadata": {},
     "output_type": "display_data"
    },
    {
     "name": "stdout",
     "output_type": "stream",
     "text": [
      "Epoch 1/5\n",
      "250/250 [==============================] - ETA: 0s - loss: 0.6962 - accuracy: 0.21 - ETA: 1s - loss: 0.6201 - accuracy: 0.75 - ETA: 1s - loss: 0.5647 - accuracy: 0.77 - ETA: 1s - loss: 0.5552 - accuracy: 0.77 - ETA: 1s - loss: 0.5508 - accuracy: 0.76 - ETA: 1s - loss: 0.5315 - accuracy: 0.77 - ETA: 1s - loss: 0.5130 - accuracy: 0.77 - ETA: 1s - loss: 0.5073 - accuracy: 0.77 - ETA: 0s - loss: 0.4963 - accuracy: 0.77 - ETA: 0s - loss: 0.4945 - accuracy: 0.78 - ETA: 0s - loss: 0.4884 - accuracy: 0.78 - ETA: 0s - loss: 0.4853 - accuracy: 0.78 - ETA: 0s - loss: 0.4750 - accuracy: 0.78 - ETA: 0s - loss: 0.4666 - accuracy: 0.79 - ETA: 0s - loss: 0.4645 - accuracy: 0.79 - ETA: 0s - loss: 0.4610 - accuracy: 0.79 - ETA: 0s - loss: 0.4617 - accuracy: 0.79 - ETA: 0s - loss: 0.4593 - accuracy: 0.79 - ETA: 0s - loss: 0.4572 - accuracy: 0.79 - ETA: 0s - loss: 0.4571 - accuracy: 0.79 - ETA: 0s - loss: 0.4550 - accuracy: 0.79 - ETA: 0s - loss: 0.4526 - accuracy: 0.79 - ETA: 0s - loss: 0.4538 - accuracy: 0.79 - ETA: 0s - loss: 0.4534 - accuracy: 0.79 - ETA: 0s - loss: 0.4521 - accuracy: 0.79 - ETA: 0s - loss: 0.4513 - accuracy: 0.79 - ETA: 0s - loss: 0.4522 - accuracy: 0.79 - 2s 7ms/step - loss: 0.4523 - accuracy: 0.7955 - val_loss: 0.3924 - val_accuracy: 0.8080\n",
      "Epoch 2/5\n",
      "250/250 [==============================] - ETA: 0s - loss: 0.5676 - accuracy: 0.65 - ETA: 1s - loss: 0.4721 - accuracy: 0.78 - ETA: 1s - loss: 0.4483 - accuracy: 0.79 - ETA: 1s - loss: 0.4512 - accuracy: 0.78 - ETA: 1s - loss: 0.4398 - accuracy: 0.79 - ETA: 1s - loss: 0.4429 - accuracy: 0.78 - ETA: 1s - loss: 0.4287 - accuracy: 0.78 - ETA: 1s - loss: 0.4150 - accuracy: 0.79 - ETA: 0s - loss: 0.4131 - accuracy: 0.79 - ETA: 0s - loss: 0.4258 - accuracy: 0.80 - ETA: 0s - loss: 0.4236 - accuracy: 0.80 - ETA: 0s - loss: 0.4305 - accuracy: 0.80 - ETA: 0s - loss: 0.4288 - accuracy: 0.80 - ETA: 0s - loss: 0.4279 - accuracy: 0.80 - ETA: 0s - loss: 0.4291 - accuracy: 0.80 - ETA: 0s - loss: 0.4298 - accuracy: 0.80 - ETA: 0s - loss: 0.4310 - accuracy: 0.80 - ETA: 0s - loss: 0.4294 - accuracy: 0.80 - ETA: 0s - loss: 0.4491 - accuracy: 0.80 - ETA: 0s - loss: 0.4489 - accuracy: 0.80 - ETA: 0s - loss: 0.4475 - accuracy: 0.80 - ETA: 0s - loss: 0.4458 - accuracy: 0.80 - ETA: 0s - loss: 0.4424 - accuracy: 0.80 - ETA: 0s - loss: 0.4407 - accuracy: 0.80 - ETA: 0s - loss: 0.4470 - accuracy: 0.80 - ETA: 0s - loss: 0.4479 - accuracy: 0.80 - ETA: 0s - loss: 0.4492 - accuracy: 0.80 - ETA: 0s - loss: 0.4478 - accuracy: 0.80 - 2s 7ms/step - loss: 0.4466 - accuracy: 0.8062 - val_loss: 0.4761 - val_accuracy: 0.8240\n",
      "Epoch 3/5\n",
      "250/250 [==============================] - ETA: 0s - loss: 0.6668 - accuracy: 0.81 - ETA: 1s - loss: 0.4681 - accuracy: 0.82 - ETA: 1s - loss: 0.4518 - accuracy: 0.82 - ETA: 1s - loss: 0.4524 - accuracy: 0.80 - ETA: 1s - loss: 0.4376 - accuracy: 0.79 - ETA: 1s - loss: 0.4315 - accuracy: 0.79 - ETA: 1s - loss: 0.4284 - accuracy: 0.79 - ETA: 1s - loss: 0.4319 - accuracy: 0.79 - ETA: 0s - loss: 0.4272 - accuracy: 0.80 - ETA: 0s - loss: 0.4341 - accuracy: 0.79 - ETA: 0s - loss: 0.4315 - accuracy: 0.79 - ETA: 0s - loss: 0.4246 - accuracy: 0.79 - ETA: 0s - loss: 0.4201 - accuracy: 0.80 - ETA: 0s - loss: 0.4160 - accuracy: 0.80 - ETA: 0s - loss: 0.4146 - accuracy: 0.80 - ETA: 0s - loss: 0.4145 - accuracy: 0.80 - ETA: 0s - loss: 0.4121 - accuracy: 0.80 - ETA: 0s - loss: 0.4074 - accuracy: 0.81 - ETA: 0s - loss: 0.4144 - accuracy: 0.81 - ETA: 0s - loss: 0.4193 - accuracy: 0.80 - ETA: 0s - loss: 0.4166 - accuracy: 0.81 - ETA: 0s - loss: 0.4155 - accuracy: 0.81 - ETA: 0s - loss: 0.4139 - accuracy: 0.81 - ETA: 0s - loss: 0.4148 - accuracy: 0.81 - ETA: 0s - loss: 0.4140 - accuracy: 0.81 - ETA: 0s - loss: 0.4146 - accuracy: 0.81 - 1s 6ms/step - loss: 0.4138 - accuracy: 0.8130 - val_loss: 0.5927 - val_accuracy: 0.8210\n",
      "Epoch 4/5\n",
      "250/250 [==============================] - ETA: 0s - loss: 1.1664 - accuracy: 0.87 - ETA: 1s - loss: 0.4584 - accuracy: 0.84 - ETA: 1s - loss: 0.4253 - accuracy: 0.83 - ETA: 1s - loss: 0.4182 - accuracy: 0.83 - ETA: 1s - loss: 0.4730 - accuracy: 0.82 - ETA: 1s - loss: 0.4744 - accuracy: 0.82 - ETA: 1s - loss: 0.4681 - accuracy: 0.81 - ETA: 1s - loss: 0.4630 - accuracy: 0.81 - ETA: 1s - loss: 0.4609 - accuracy: 0.81 - ETA: 1s - loss: 0.4577 - accuracy: 0.80 - ETA: 0s - loss: 0.4620 - accuracy: 0.80 - ETA: 0s - loss: 0.4611 - accuracy: 0.80 - ETA: 0s - loss: 0.4543 - accuracy: 0.80 - ETA: 0s - loss: 0.4505 - accuracy: 0.81 - ETA: 0s - loss: 0.4461 - accuracy: 0.81 - ETA: 0s - loss: 0.4435 - accuracy: 0.81 - ETA: 0s - loss: 0.4430 - accuracy: 0.81 - ETA: 0s - loss: 0.4436 - accuracy: 0.80 - ETA: 0s - loss: 0.4442 - accuracy: 0.80 - ETA: 0s - loss: 0.4460 - accuracy: 0.81 - ETA: 0s - loss: 0.4438 - accuracy: 0.81 - ETA: 0s - loss: 0.4426 - accuracy: 0.81 - ETA: 0s - loss: 0.4419 - accuracy: 0.81 - ETA: 0s - loss: 0.4397 - accuracy: 0.81 - ETA: 0s - loss: 0.4366 - accuracy: 0.81 - ETA: 0s - loss: 0.4395 - accuracy: 0.81 - ETA: 0s - loss: 0.4379 - accuracy: 0.81 - 2s 7ms/step - loss: 0.4368 - accuracy: 0.8156 - val_loss: 0.3938 - val_accuracy: 0.8360\n",
      "Epoch 5/5\n",
      "250/250 [==============================] - ETA: 0s - loss: 0.2890 - accuracy: 0.90 - ETA: 1s - loss: 0.3455 - accuracy: 0.87 - ETA: 1s - loss: 0.3642 - accuracy: 0.85 - ETA: 1s - loss: 0.3733 - accuracy: 0.85 - ETA: 1s - loss: 0.3761 - accuracy: 0.84 - ETA: 1s - loss: 0.3660 - accuracy: 0.85 - ETA: 1s - loss: 0.3773 - accuracy: 0.84 - ETA: 1s - loss: 0.3802 - accuracy: 0.84 - ETA: 0s - loss: 0.3862 - accuracy: 0.83 - ETA: 0s - loss: 0.3885 - accuracy: 0.84 - ETA: 0s - loss: 0.3948 - accuracy: 0.84 - ETA: 0s - loss: 0.3917 - accuracy: 0.84 - ETA: 0s - loss: 0.4027 - accuracy: 0.84 - ETA: 0s - loss: 0.4063 - accuracy: 0.83 - ETA: 0s - loss: 0.4139 - accuracy: 0.83 - ETA: 0s - loss: 0.4184 - accuracy: 0.83 - ETA: 0s - loss: 0.4204 - accuracy: 0.83 - ETA: 0s - loss: 0.4226 - accuracy: 0.82 - ETA: 0s - loss: 0.4240 - accuracy: 0.82 - ETA: 0s - loss: 0.4253 - accuracy: 0.82 - ETA: 0s - loss: 0.4256 - accuracy: 0.82 - ETA: 0s - loss: 0.4263 - accuracy: 0.82 - ETA: 0s - loss: 0.4247 - accuracy: 0.82 - ETA: 0s - loss: 0.4236 - accuracy: 0.82 - ETA: 0s - loss: 0.4210 - accuracy: 0.82 - ETA: 0s - loss: 0.4204 - accuracy: 0.82 - 2s 6ms/step - loss: 0.4278 - accuracy: 0.8296 - val_loss: 0.3904 - val_accuracy: 0.8395\n",
      "Epoch 1/5\n",
      "250/250 [==============================] - ETA: 0s - loss: 0.6962 - accuracy: 0.31 - ETA: 1s - loss: 0.8469 - accuracy: 0.69 - ETA: 1s - loss: 0.6654 - accuracy: 0.76 - ETA: 1s - loss: 0.6350 - accuracy: 0.76 - ETA: 1s - loss: 0.5892 - accuracy: 0.78 - ETA: 1s - loss: 0.5577 - accuracy: 0.78 - ETA: 1s - loss: 0.5380 - accuracy: 0.78 - ETA: 0s - loss: 0.5372 - accuracy: 0.79 - ETA: 0s - loss: 0.5322 - accuracy: 0.79 - ETA: 0s - loss: 0.5220 - accuracy: 0.79 - ETA: 0s - loss: 0.5066 - accuracy: 0.79 - ETA: 0s - loss: 0.5120 - accuracy: 0.79 - ETA: 0s - loss: 0.5152 - accuracy: 0.79 - ETA: 0s - loss: 0.5144 - accuracy: 0.79 - ETA: 0s - loss: 0.5127 - accuracy: 0.79 - ETA: 0s - loss: 0.5105 - accuracy: 0.79 - ETA: 0s - loss: 0.5052 - accuracy: 0.79 - ETA: 0s - loss: 0.4996 - accuracy: 0.79 - ETA: 0s - loss: 0.4998 - accuracy: 0.79 - ETA: 0s - loss: 0.4987 - accuracy: 0.79 - ETA: 0s - loss: 0.4943 - accuracy: 0.79 - ETA: 0s - loss: 0.4893 - accuracy: 0.79 - ETA: 0s - loss: 0.4868 - accuracy: 0.79 - ETA: 0s - loss: 0.4867 - accuracy: 0.79 - ETA: 0s - loss: 0.4855 - accuracy: 0.79 - ETA: 0s - loss: 0.4834 - accuracy: 0.79 - ETA: 0s - loss: 0.4829 - accuracy: 0.79 - 2s 7ms/step - loss: 0.4827 - accuracy: 0.7972 - val_loss: 0.4289 - val_accuracy: 0.8345\n",
      "Epoch 2/5\n"
     ]
    },
    {
     "name": "stdout",
     "output_type": "stream",
     "text": [
      "250/250 [==============================] - ETA: 0s - loss: 0.3272 - accuracy: 0.96 - ETA: 1s - loss: 0.3456 - accuracy: 0.87 - ETA: 1s - loss: 0.3880 - accuracy: 0.84 - ETA: 1s - loss: 0.4001 - accuracy: 0.82 - ETA: 1s - loss: 0.3971 - accuracy: 0.82 - ETA: 1s - loss: 0.3999 - accuracy: 0.82 - ETA: 1s - loss: 0.4019 - accuracy: 0.82 - ETA: 1s - loss: 0.4010 - accuracy: 0.82 - ETA: 0s - loss: 0.3929 - accuracy: 0.82 - ETA: 0s - loss: 0.3887 - accuracy: 0.83 - ETA: 0s - loss: 0.3894 - accuracy: 0.82 - ETA: 0s - loss: 0.3935 - accuracy: 0.82 - ETA: 0s - loss: 0.3934 - accuracy: 0.82 - ETA: 0s - loss: 0.3978 - accuracy: 0.82 - ETA: 0s - loss: 0.4018 - accuracy: 0.82 - ETA: 0s - loss: 0.3990 - accuracy: 0.82 - ETA: 0s - loss: 0.3991 - accuracy: 0.82 - ETA: 0s - loss: 0.3977 - accuracy: 0.83 - ETA: 0s - loss: 0.3966 - accuracy: 0.83 - ETA: 0s - loss: 0.3948 - accuracy: 0.83 - ETA: 0s - loss: 0.3985 - accuracy: 0.83 - ETA: 0s - loss: 0.4001 - accuracy: 0.83 - ETA: 0s - loss: 0.4029 - accuracy: 0.83 - ETA: 0s - loss: 0.4058 - accuracy: 0.83 - ETA: 0s - loss: 0.4037 - accuracy: 0.83 - ETA: 0s - loss: 0.4045 - accuracy: 0.83 - ETA: 0s - loss: 0.4047 - accuracy: 0.83 - 2s 6ms/step - loss: 0.4042 - accuracy: 0.8346 - val_loss: 0.4315 - val_accuracy: 0.8295\n",
      "Epoch 3/5\n",
      "250/250 [==============================] - ETA: 0s - loss: 1.1049 - accuracy: 0.65 - ETA: 1s - loss: 0.4690 - accuracy: 0.81 - ETA: 1s - loss: 0.4210 - accuracy: 0.83 - ETA: 1s - loss: 0.4187 - accuracy: 0.82 - ETA: 1s - loss: 0.4134 - accuracy: 0.83 - ETA: 1s - loss: 0.4179 - accuracy: 0.83 - ETA: 0s - loss: 0.4239 - accuracy: 0.82 - ETA: 0s - loss: 0.4181 - accuracy: 0.82 - ETA: 0s - loss: 0.4199 - accuracy: 0.82 - ETA: 0s - loss: 0.4349 - accuracy: 0.83 - ETA: 0s - loss: 0.4321 - accuracy: 0.83 - ETA: 0s - loss: 0.4388 - accuracy: 0.83 - ETA: 0s - loss: 0.4360 - accuracy: 0.83 - ETA: 0s - loss: 0.4332 - accuracy: 0.83 - ETA: 0s - loss: 0.4264 - accuracy: 0.83 - ETA: 0s - loss: 0.4235 - accuracy: 0.83 - ETA: 0s - loss: 0.4216 - accuracy: 0.83 - ETA: 0s - loss: 0.4197 - accuracy: 0.83 - ETA: 0s - loss: 0.4205 - accuracy: 0.83 - ETA: 0s - loss: 0.4199 - accuracy: 0.83 - ETA: 0s - loss: 0.4150 - accuracy: 0.84 - ETA: 0s - loss: 0.4153 - accuracy: 0.84 - ETA: 0s - loss: 0.4150 - accuracy: 0.83 - ETA: 0s - loss: 0.4137 - accuracy: 0.83 - ETA: 0s - loss: 0.4141 - accuracy: 0.83 - ETA: 0s - loss: 0.4150 - accuracy: 0.83 - ETA: 0s - loss: 0.4172 - accuracy: 0.83 - 1s 6ms/step - loss: 0.4168 - accuracy: 0.8366 - val_loss: 0.3901 - val_accuracy: 0.8255\n",
      "Epoch 4/5\n",
      "250/250 [==============================] - ETA: 0s - loss: 0.4106 - accuracy: 0.78 - ETA: 1s - loss: 0.4290 - accuracy: 0.80 - ETA: 1s - loss: 0.4418 - accuracy: 0.80 - ETA: 1s - loss: 0.4435 - accuracy: 0.80 - ETA: 1s - loss: 0.4285 - accuracy: 0.81 - ETA: 1s - loss: 0.4198 - accuracy: 0.82 - ETA: 0s - loss: 0.4133 - accuracy: 0.82 - ETA: 0s - loss: 0.4179 - accuracy: 0.82 - ETA: 0s - loss: 0.4227 - accuracy: 0.82 - ETA: 0s - loss: 0.4238 - accuracy: 0.82 - ETA: 0s - loss: 0.4207 - accuracy: 0.82 - ETA: 0s - loss: 0.4250 - accuracy: 0.82 - ETA: 0s - loss: 0.4197 - accuracy: 0.82 - ETA: 0s - loss: 0.4188 - accuracy: 0.82 - ETA: 0s - loss: 0.4148 - accuracy: 0.82 - ETA: 0s - loss: 0.4138 - accuracy: 0.82 - ETA: 0s - loss: 0.4131 - accuracy: 0.82 - ETA: 0s - loss: 0.4108 - accuracy: 0.82 - ETA: 0s - loss: 0.4117 - accuracy: 0.82 - ETA: 0s - loss: 0.4104 - accuracy: 0.83 - ETA: 0s - loss: 0.4089 - accuracy: 0.83 - ETA: 0s - loss: 0.4066 - accuracy: 0.83 - ETA: 0s - loss: 0.4155 - accuracy: 0.83 - ETA: 0s - loss: 0.4166 - accuracy: 0.83 - ETA: 0s - loss: 0.4146 - accuracy: 0.83 - ETA: 0s - loss: 0.4146 - accuracy: 0.83 - ETA: 0s - loss: 0.4161 - accuracy: 0.82 - 1s 6ms/step - loss: 0.4166 - accuracy: 0.8294 - val_loss: 0.3716 - val_accuracy: 0.8360\n",
      "Epoch 5/5\n",
      "250/250 [==============================] - ETA: 0s - loss: 0.2673 - accuracy: 0.81 - ETA: 1s - loss: 0.3390 - accuracy: 0.85 - ETA: 1s - loss: 0.3880 - accuracy: 0.84 - ETA: 1s - loss: 0.3857 - accuracy: 0.84 - ETA: 1s - loss: 0.3788 - accuracy: 0.84 - ETA: 1s - loss: 0.3756 - accuracy: 0.84 - ETA: 1s - loss: 0.3799 - accuracy: 0.83 - ETA: 0s - loss: 0.3763 - accuracy: 0.84 - ETA: 0s - loss: 0.3823 - accuracy: 0.84 - ETA: 0s - loss: 0.3856 - accuracy: 0.83 - ETA: 0s - loss: 0.3867 - accuracy: 0.83 - ETA: 0s - loss: 0.3937 - accuracy: 0.83 - ETA: 0s - loss: 0.3917 - accuracy: 0.83 - ETA: 0s - loss: 0.3913 - accuracy: 0.83 - ETA: 0s - loss: 0.3867 - accuracy: 0.84 - ETA: 0s - loss: 0.3853 - accuracy: 0.84 - ETA: 0s - loss: 0.3853 - accuracy: 0.84 - ETA: 0s - loss: 0.3834 - accuracy: 0.84 - ETA: 0s - loss: 0.3827 - accuracy: 0.84 - ETA: 0s - loss: 0.3789 - accuracy: 0.84 - ETA: 0s - loss: 0.3779 - accuracy: 0.84 - ETA: 0s - loss: 0.3743 - accuracy: 0.84 - ETA: 0s - loss: 0.3756 - accuracy: 0.84 - ETA: 0s - loss: 0.3738 - accuracy: 0.84 - ETA: 0s - loss: 0.3747 - accuracy: 0.84 - ETA: 0s - loss: 0.3731 - accuracy: 0.84 - ETA: 0s - loss: 0.3725 - accuracy: 0.84 - 2s 6ms/step - loss: 0.3725 - accuracy: 0.8478 - val_loss: 0.3724 - val_accuracy: 0.8425\n",
      "Epoch 1/5\n",
      "250/250 [==============================] - ETA: 0s - loss: 0.6977 - accuracy: 0.15 - ETA: 1s - loss: 0.7751 - accuracy: 0.69 - ETA: 1s - loss: 0.6574 - accuracy: 0.73 - ETA: 1s - loss: 0.6079 - accuracy: 0.75 - ETA: 1s - loss: 0.5880 - accuracy: 0.75 - ETA: 1s - loss: 0.5716 - accuracy: 0.76 - ETA: 1s - loss: 0.5526 - accuracy: 0.77 - ETA: 1s - loss: 0.5412 - accuracy: 0.77 - ETA: 0s - loss: 0.5353 - accuracy: 0.77 - ETA: 0s - loss: 0.5226 - accuracy: 0.77 - ETA: 0s - loss: 0.5167 - accuracy: 0.78 - ETA: 0s - loss: 0.5117 - accuracy: 0.78 - ETA: 0s - loss: 0.5063 - accuracy: 0.78 - ETA: 0s - loss: 0.5031 - accuracy: 0.78 - ETA: 0s - loss: 0.4980 - accuracy: 0.78 - ETA: 0s - loss: 0.4945 - accuracy: 0.78 - ETA: 0s - loss: 0.4910 - accuracy: 0.78 - ETA: 0s - loss: 0.4919 - accuracy: 0.78 - ETA: 0s - loss: 0.4870 - accuracy: 0.78 - ETA: 0s - loss: 0.4906 - accuracy: 0.78 - ETA: 0s - loss: 0.4861 - accuracy: 0.79 - ETA: 0s - loss: 0.4818 - accuracy: 0.79 - ETA: 0s - loss: 0.4801 - accuracy: 0.79 - ETA: 0s - loss: 0.4776 - accuracy: 0.79 - ETA: 0s - loss: 0.4768 - accuracy: 0.79 - ETA: 0s - loss: 0.4761 - accuracy: 0.79 - ETA: 0s - loss: 0.4768 - accuracy: 0.79 - ETA: 0s - loss: 0.4754 - accuracy: 0.80 - 2s 7ms/step - loss: 0.4754 - accuracy: 0.8006 - val_loss: 0.3971 - val_accuracy: 0.8390\n",
      "Epoch 2/5\n",
      "250/250 [==============================] - ETA: 0s - loss: 0.4910 - accuracy: 0.78 - ETA: 1s - loss: 0.4255 - accuracy: 0.83 - ETA: 1s - loss: 0.4304 - accuracy: 0.82 - ETA: 1s - loss: 0.4392 - accuracy: 0.81 - ETA: 1s - loss: 0.4443 - accuracy: 0.81 - ETA: 1s - loss: 0.4371 - accuracy: 0.81 - ETA: 1s - loss: 0.4334 - accuracy: 0.81 - ETA: 0s - loss: 0.4182 - accuracy: 0.82 - ETA: 0s - loss: 0.4292 - accuracy: 0.82 - ETA: 0s - loss: 0.4301 - accuracy: 0.82 - ETA: 0s - loss: 0.4263 - accuracy: 0.82 - ETA: 0s - loss: 0.4183 - accuracy: 0.82 - ETA: 0s - loss: 0.4229 - accuracy: 0.82 - ETA: 0s - loss: 0.4268 - accuracy: 0.82 - ETA: 0s - loss: 0.4244 - accuracy: 0.82 - ETA: 0s - loss: 0.4183 - accuracy: 0.82 - ETA: 0s - loss: 0.4201 - accuracy: 0.82 - ETA: 0s - loss: 0.4170 - accuracy: 0.82 - ETA: 0s - loss: 0.4190 - accuracy: 0.82 - ETA: 0s - loss: 0.4202 - accuracy: 0.82 - ETA: 0s - loss: 0.4163 - accuracy: 0.82 - ETA: 0s - loss: 0.4151 - accuracy: 0.82 - ETA: 0s - loss: 0.4144 - accuracy: 0.82 - ETA: 0s - loss: 0.4118 - accuracy: 0.82 - ETA: 0s - loss: 0.4111 - accuracy: 0.82 - ETA: 0s - loss: 0.4123 - accuracy: 0.82 - ETA: 0s - loss: 0.4115 - accuracy: 0.82 - 2s 6ms/step - loss: 0.4103 - accuracy: 0.8294 - val_loss: 0.3745 - val_accuracy: 0.8405\n",
      "Epoch 3/5\n"
     ]
    },
    {
     "name": "stdout",
     "output_type": "stream",
     "text": [
      "250/250 [==============================] - ETA: 0s - loss: 0.2864 - accuracy: 0.87 - ETA: 1s - loss: 0.3975 - accuracy: 0.82 - ETA: 1s - loss: 0.4246 - accuracy: 0.80 - ETA: 1s - loss: 0.4385 - accuracy: 0.79 - ETA: 1s - loss: 0.4291 - accuracy: 0.79 - ETA: 1s - loss: 0.4240 - accuracy: 0.80 - ETA: 1s - loss: 0.4190 - accuracy: 0.81 - ETA: 1s - loss: 0.4093 - accuracy: 0.81 - ETA: 1s - loss: 0.4122 - accuracy: 0.82 - ETA: 0s - loss: 0.4182 - accuracy: 0.81 - ETA: 0s - loss: 0.4098 - accuracy: 0.82 - ETA: 0s - loss: 0.4107 - accuracy: 0.82 - ETA: 0s - loss: 0.4065 - accuracy: 0.83 - ETA: 0s - loss: 0.4079 - accuracy: 0.82 - ETA: 0s - loss: 0.4043 - accuracy: 0.82 - ETA: 0s - loss: 0.4046 - accuracy: 0.83 - ETA: 0s - loss: 0.4036 - accuracy: 0.83 - ETA: 0s - loss: 0.4002 - accuracy: 0.83 - ETA: 0s - loss: 0.3954 - accuracy: 0.83 - ETA: 0s - loss: 0.3965 - accuracy: 0.83 - ETA: 0s - loss: 0.3954 - accuracy: 0.83 - ETA: 0s - loss: 0.3944 - accuracy: 0.83 - ETA: 0s - loss: 0.3906 - accuracy: 0.83 - ETA: 0s - loss: 0.3897 - accuracy: 0.83 - ETA: 0s - loss: 0.3843 - accuracy: 0.84 - ETA: 0s - loss: 0.3853 - accuracy: 0.84 - ETA: 0s - loss: 0.3879 - accuracy: 0.83 - 2s 6ms/step - loss: 0.3876 - accuracy: 0.8396 - val_loss: 0.3655 - val_accuracy: 0.8345\n",
      "Epoch 4/5\n",
      "250/250 [==============================] - ETA: 0s - loss: 0.3672 - accuracy: 0.90 - ETA: 1s - loss: 0.3345 - accuracy: 0.85 - ETA: 1s - loss: 0.3304 - accuracy: 0.85 - ETA: 1s - loss: 0.3574 - accuracy: 0.84 - ETA: 1s - loss: 0.3666 - accuracy: 0.82 - ETA: 1s - loss: 0.3687 - accuracy: 0.82 - ETA: 1s - loss: 0.3792 - accuracy: 0.82 - ETA: 0s - loss: 0.3738 - accuracy: 0.83 - ETA: 0s - loss: 0.3626 - accuracy: 0.83 - ETA: 0s - loss: 0.3621 - accuracy: 0.83 - ETA: 0s - loss: 0.3745 - accuracy: 0.83 - ETA: 0s - loss: 0.3742 - accuracy: 0.83 - ETA: 0s - loss: 0.3757 - accuracy: 0.83 - ETA: 0s - loss: 0.3772 - accuracy: 0.83 - ETA: 0s - loss: 0.3770 - accuracy: 0.83 - ETA: 0s - loss: 0.3796 - accuracy: 0.83 - ETA: 0s - loss: 0.3781 - accuracy: 0.83 - ETA: 0s - loss: 0.3780 - accuracy: 0.83 - ETA: 0s - loss: 0.3756 - accuracy: 0.83 - ETA: 0s - loss: 0.3788 - accuracy: 0.83 - ETA: 0s - loss: 0.3772 - accuracy: 0.83 - ETA: 0s - loss: 0.3782 - accuracy: 0.83 - ETA: 0s - loss: 0.3787 - accuracy: 0.83 - ETA: 0s - loss: 0.3780 - accuracy: 0.83 - ETA: 0s - loss: 0.3785 - accuracy: 0.83 - ETA: 0s - loss: 0.3790 - accuracy: 0.83 - 2s 6ms/step - loss: 0.3805 - accuracy: 0.8378 - val_loss: 0.3733 - val_accuracy: 0.8545\n",
      "Epoch 5/5\n",
      "250/250 [==============================] - ETA: 0s - loss: 0.4240 - accuracy: 0.81 - ETA: 1s - loss: 0.4214 - accuracy: 0.80 - ETA: 1s - loss: 0.4124 - accuracy: 0.83 - ETA: 1s - loss: 0.3765 - accuracy: 0.84 - ETA: 1s - loss: 0.3665 - accuracy: 0.84 - ETA: 1s - loss: 0.3657 - accuracy: 0.84 - ETA: 1s - loss: 0.3594 - accuracy: 0.84 - ETA: 0s - loss: 0.3583 - accuracy: 0.84 - ETA: 0s - loss: 0.3665 - accuracy: 0.84 - ETA: 0s - loss: 0.3626 - accuracy: 0.84 - ETA: 0s - loss: 0.3606 - accuracy: 0.84 - ETA: 0s - loss: 0.3658 - accuracy: 0.84 - ETA: 0s - loss: 0.3652 - accuracy: 0.84 - ETA: 0s - loss: 0.3666 - accuracy: 0.84 - ETA: 0s - loss: 0.3640 - accuracy: 0.85 - ETA: 0s - loss: 0.3627 - accuracy: 0.85 - ETA: 0s - loss: 0.3628 - accuracy: 0.85 - ETA: 0s - loss: 0.3648 - accuracy: 0.85 - ETA: 0s - loss: 0.3644 - accuracy: 0.85 - ETA: 0s - loss: 0.3684 - accuracy: 0.84 - ETA: 0s - loss: 0.3694 - accuracy: 0.84 - ETA: 0s - loss: 0.3709 - accuracy: 0.84 - ETA: 0s - loss: 0.3722 - accuracy: 0.84 - ETA: 0s - loss: 0.3716 - accuracy: 0.84 - ETA: 0s - loss: 0.3702 - accuracy: 0.84 - ETA: 0s - loss: 0.3715 - accuracy: 0.84 - ETA: 0s - loss: 0.3721 - accuracy: 0.84 - 2s 6ms/step - loss: 0.3727 - accuracy: 0.8481 - val_loss: 0.3709 - val_accuracy: 0.8615\n"
     ]
    },
    {
     "data": {
      "text/html": [
       "<span style=\"color:#4527A0\"><h1 style=\"font-size:18px\">Trial complete</h1></span>"
      ],
      "text/plain": [
       "<IPython.core.display.HTML object>"
      ]
     },
     "metadata": {},
     "output_type": "display_data"
    },
    {
     "data": {
      "text/html": [
       "<span style=\"color:#4527A0\"><h1 style=\"font-size:18px\">Trial summary</h1></span>"
      ],
      "text/plain": [
       "<IPython.core.display.HTML object>"
      ]
     },
     "metadata": {},
     "output_type": "display_data"
    },
    {
     "data": {
      "text/html": [
       "<span style=\"color:cyan\"> |-Trial ID: 9f208cb2e4127c610da4a1ec96c7ee01</span>"
      ],
      "text/plain": [
       "<IPython.core.display.HTML object>"
      ]
     },
     "metadata": {},
     "output_type": "display_data"
    },
    {
     "data": {
      "text/html": [
       "<span style=\"color:cyan\"> |-Score: 0.8478333353996277</span>"
      ],
      "text/plain": [
       "<IPython.core.display.HTML object>"
      ]
     },
     "metadata": {},
     "output_type": "display_data"
    },
    {
     "data": {
      "text/html": [
       "<span style=\"color:cyan\"> |-Best step: 0</span>"
      ],
      "text/plain": [
       "<IPython.core.display.HTML object>"
      ]
     },
     "metadata": {},
     "output_type": "display_data"
    },
    {
     "data": {
      "text/html": [
       "<span style=\"color:#7E57C2\"><h2 style=\"font-size:16px\">Hyperparameters:</h2></span>"
      ],
      "text/plain": [
       "<IPython.core.display.HTML object>"
      ]
     },
     "metadata": {},
     "output_type": "display_data"
    },
    {
     "data": {
      "text/html": [
       "<span style=\"color:cyan\"> |-learning_rate: 0.01</span>"
      ],
      "text/plain": [
       "<IPython.core.display.HTML object>"
      ]
     },
     "metadata": {},
     "output_type": "display_data"
    },
    {
     "data": {
      "text/html": [
       "<span style=\"color:blue\"> |-num_layers: 9</span>"
      ],
      "text/plain": [
       "<IPython.core.display.HTML object>"
      ]
     },
     "metadata": {},
     "output_type": "display_data"
    },
    {
     "data": {
      "text/html": [
       "<span style=\"color:cyan\"> |-units_0: 32</span>"
      ],
      "text/plain": [
       "<IPython.core.display.HTML object>"
      ]
     },
     "metadata": {},
     "output_type": "display_data"
    },
    {
     "data": {
      "text/html": [
       "<span style=\"color:blue\"> |-units_1: 192</span>"
      ],
      "text/plain": [
       "<IPython.core.display.HTML object>"
      ]
     },
     "metadata": {},
     "output_type": "display_data"
    },
    {
     "data": {
      "text/html": [
       "<span style=\"color:cyan\"> |-units_10: 384</span>"
      ],
      "text/plain": [
       "<IPython.core.display.HTML object>"
      ]
     },
     "metadata": {},
     "output_type": "display_data"
    },
    {
     "data": {
      "text/html": [
       "<span style=\"color:blue\"> |-units_11: 512</span>"
      ],
      "text/plain": [
       "<IPython.core.display.HTML object>"
      ]
     },
     "metadata": {},
     "output_type": "display_data"
    },
    {
     "data": {
      "text/html": [
       "<span style=\"color:cyan\"> |-units_12: 256</span>"
      ],
      "text/plain": [
       "<IPython.core.display.HTML object>"
      ]
     },
     "metadata": {},
     "output_type": "display_data"
    },
    {
     "data": {
      "text/html": [
       "<span style=\"color:blue\"> |-units_13: 64</span>"
      ],
      "text/plain": [
       "<IPython.core.display.HTML object>"
      ]
     },
     "metadata": {},
     "output_type": "display_data"
    },
    {
     "data": {
      "text/html": [
       "<span style=\"color:cyan\"> |-units_14: 320</span>"
      ],
      "text/plain": [
       "<IPython.core.display.HTML object>"
      ]
     },
     "metadata": {},
     "output_type": "display_data"
    },
    {
     "data": {
      "text/html": [
       "<span style=\"color:blue\"> |-units_2: 352</span>"
      ],
      "text/plain": [
       "<IPython.core.display.HTML object>"
      ]
     },
     "metadata": {},
     "output_type": "display_data"
    },
    {
     "data": {
      "text/html": [
       "<span style=\"color:cyan\"> |-units_3: 480</span>"
      ],
      "text/plain": [
       "<IPython.core.display.HTML object>"
      ]
     },
     "metadata": {},
     "output_type": "display_data"
    },
    {
     "data": {
      "text/html": [
       "<span style=\"color:blue\"> |-units_4: 128</span>"
      ],
      "text/plain": [
       "<IPython.core.display.HTML object>"
      ]
     },
     "metadata": {},
     "output_type": "display_data"
    },
    {
     "data": {
      "text/html": [
       "<span style=\"color:cyan\"> |-units_5: 192</span>"
      ],
      "text/plain": [
       "<IPython.core.display.HTML object>"
      ]
     },
     "metadata": {},
     "output_type": "display_data"
    },
    {
     "data": {
      "text/html": [
       "<span style=\"color:blue\"> |-units_6: 512</span>"
      ],
      "text/plain": [
       "<IPython.core.display.HTML object>"
      ]
     },
     "metadata": {},
     "output_type": "display_data"
    },
    {
     "data": {
      "text/html": [
       "<span style=\"color:cyan\"> |-units_7: 256</span>"
      ],
      "text/plain": [
       "<IPython.core.display.HTML object>"
      ]
     },
     "metadata": {},
     "output_type": "display_data"
    },
    {
     "data": {
      "text/html": [
       "<span style=\"color:blue\"> |-units_8: 64</span>"
      ],
      "text/plain": [
       "<IPython.core.display.HTML object>"
      ]
     },
     "metadata": {},
     "output_type": "display_data"
    },
    {
     "data": {
      "text/html": [
       "<span style=\"color:cyan\"> |-units_9: 256</span>"
      ],
      "text/plain": [
       "<IPython.core.display.HTML object>"
      ]
     },
     "metadata": {},
     "output_type": "display_data"
    },
    {
     "name": "stdout",
     "output_type": "stream",
     "text": [
      "Epoch 1/5\n",
      "250/250 [==============================] - ETA: 0s - loss: 0.6823 - accuracy: 0.65 - ETA: 0s - loss: 0.6919 - accuracy: 0.76 - ETA: 0s - loss: 0.5875 - accuracy: 0.78 - ETA: 0s - loss: 0.5613 - accuracy: 0.77 - ETA: 0s - loss: 0.5200 - accuracy: 0.79 - ETA: 0s - loss: 0.5021 - accuracy: 0.80 - ETA: 0s - loss: 0.4819 - accuracy: 0.80 - ETA: 0s - loss: 0.4722 - accuracy: 0.81 - ETA: 0s - loss: 0.4661 - accuracy: 0.81 - ETA: 0s - loss: 0.4604 - accuracy: 0.81 - ETA: 0s - loss: 0.4572 - accuracy: 0.81 - ETA: 0s - loss: 0.4566 - accuracy: 0.81 - ETA: 0s - loss: 0.4529 - accuracy: 0.81 - ETA: 0s - loss: 0.4502 - accuracy: 0.81 - ETA: 0s - loss: 0.4440 - accuracy: 0.82 - ETA: 0s - loss: 0.4437 - accuracy: 0.81 - ETA: 0s - loss: 0.4433 - accuracy: 0.81 - 1s 5ms/step - loss: 0.4415 - accuracy: 0.8185 - val_loss: 0.3716 - val_accuracy: 0.8450\n",
      "Epoch 2/5\n",
      "250/250 [==============================] - ETA: 0s - loss: 0.3218 - accuracy: 0.93 - ETA: 0s - loss: 0.3953 - accuracy: 0.85 - ETA: 0s - loss: 0.3730 - accuracy: 0.86 - ETA: 0s - loss: 0.3550 - accuracy: 0.86 - ETA: 0s - loss: 0.3682 - accuracy: 0.85 - ETA: 0s - loss: 0.3683 - accuracy: 0.85 - ETA: 0s - loss: 0.3709 - accuracy: 0.85 - ETA: 0s - loss: 0.3654 - accuracy: 0.85 - ETA: 0s - loss: 0.3744 - accuracy: 0.85 - ETA: 0s - loss: 0.3858 - accuracy: 0.84 - ETA: 0s - loss: 0.3858 - accuracy: 0.84 - ETA: 0s - loss: 0.3889 - accuracy: 0.84 - ETA: 0s - loss: 0.3885 - accuracy: 0.84 - ETA: 0s - loss: 0.3879 - accuracy: 0.84 - ETA: 0s - loss: 0.3841 - accuracy: 0.84 - ETA: 0s - loss: 0.3848 - accuracy: 0.84 - ETA: 0s - loss: 0.3826 - accuracy: 0.84 - ETA: 0s - loss: 0.3830 - accuracy: 0.84 - 1s 4ms/step - loss: 0.3830 - accuracy: 0.8472 - val_loss: 0.3566 - val_accuracy: 0.8560\n",
      "Epoch 3/5\n",
      "250/250 [==============================] - ETA: 0s - loss: 0.4255 - accuracy: 0.81 - ETA: 0s - loss: 0.3693 - accuracy: 0.84 - ETA: 0s - loss: 0.3383 - accuracy: 0.85 - ETA: 0s - loss: 0.3371 - accuracy: 0.85 - ETA: 0s - loss: 0.3484 - accuracy: 0.85 - ETA: 0s - loss: 0.3439 - accuracy: 0.85 - ETA: 0s - loss: 0.3490 - accuracy: 0.85 - ETA: 0s - loss: 0.3583 - accuracy: 0.85 - ETA: 0s - loss: 0.3586 - accuracy: 0.85 - ETA: 0s - loss: 0.3553 - accuracy: 0.85 - ETA: 0s - loss: 0.3536 - accuracy: 0.85 - ETA: 0s - loss: 0.3556 - accuracy: 0.85 - ETA: 0s - loss: 0.3553 - accuracy: 0.85 - ETA: 0s - loss: 0.3587 - accuracy: 0.85 - ETA: 0s - loss: 0.3600 - accuracy: 0.85 - ETA: 0s - loss: 0.3617 - accuracy: 0.85 - ETA: 0s - loss: 0.3618 - accuracy: 0.85 - 1s 4ms/step - loss: 0.3604 - accuracy: 0.8522 - val_loss: 0.3531 - val_accuracy: 0.8540\n",
      "Epoch 4/5\n",
      "250/250 [==============================] - ETA: 0s - loss: 0.2954 - accuracy: 0.87 - ETA: 0s - loss: 0.3341 - accuracy: 0.88 - ETA: 0s - loss: 0.3662 - accuracy: 0.85 - ETA: 0s - loss: 0.3665 - accuracy: 0.84 - ETA: 0s - loss: 0.3618 - accuracy: 0.85 - ETA: 0s - loss: 0.3624 - accuracy: 0.85 - ETA: 0s - loss: 0.3558 - accuracy: 0.85 - ETA: 0s - loss: 0.3634 - accuracy: 0.85 - ETA: 0s - loss: 0.3642 - accuracy: 0.85 - ETA: 0s - loss: 0.3674 - accuracy: 0.85 - ETA: 0s - loss: 0.3693 - accuracy: 0.85 - ETA: 0s - loss: 0.3674 - accuracy: 0.85 - ETA: 0s - loss: 0.3682 - accuracy: 0.85 - ETA: 0s - loss: 0.3669 - accuracy: 0.85 - ETA: 0s - loss: 0.3649 - accuracy: 0.85 - ETA: 0s - loss: 0.3615 - accuracy: 0.85 - ETA: 0s - loss: 0.3605 - accuracy: 0.85 - 1s 4ms/step - loss: 0.3589 - accuracy: 0.8568 - val_loss: 0.3672 - val_accuracy: 0.8520\n",
      "Epoch 5/5\n",
      "250/250 [==============================] - ETA: 0s - loss: 0.4189 - accuracy: 0.81 - ETA: 0s - loss: 0.3379 - accuracy: 0.86 - ETA: 0s - loss: 0.3373 - accuracy: 0.86 - ETA: 0s - loss: 0.3557 - accuracy: 0.85 - ETA: 0s - loss: 0.3510 - accuracy: 0.85 - ETA: 0s - loss: 0.3472 - accuracy: 0.85 - ETA: 0s - loss: 0.3460 - accuracy: 0.85 - ETA: 0s - loss: 0.3432 - accuracy: 0.85 - ETA: 0s - loss: 0.3516 - accuracy: 0.85 - ETA: 0s - loss: 0.3516 - accuracy: 0.85 - ETA: 0s - loss: 0.3566 - accuracy: 0.85 - ETA: 0s - loss: 0.3548 - accuracy: 0.85 - ETA: 0s - loss: 0.3545 - accuracy: 0.85 - ETA: 0s - loss: 0.3564 - accuracy: 0.85 - ETA: 0s - loss: 0.3563 - accuracy: 0.85 - ETA: 0s - loss: 0.3578 - accuracy: 0.85 - ETA: 0s - loss: 0.3577 - accuracy: 0.85 - 1s 4ms/step - loss: 0.3578 - accuracy: 0.8526 - val_loss: 0.3508 - val_accuracy: 0.8485\n",
      "Epoch 1/5\n",
      "250/250 [==============================] - ETA: 0s - loss: 0.6886 - accuracy: 0.53 - ETA: 0s - loss: 0.5902 - accuracy: 0.76 - ETA: 0s - loss: 0.5118 - accuracy: 0.79 - ETA: 0s - loss: 0.4779 - accuracy: 0.80 - ETA: 0s - loss: 0.4683 - accuracy: 0.80 - ETA: 0s - loss: 0.4635 - accuracy: 0.81 - ETA: 0s - loss: 0.4564 - accuracy: 0.81 - ETA: 0s - loss: 0.4499 - accuracy: 0.81 - ETA: 0s - loss: 0.4465 - accuracy: 0.81 - ETA: 0s - loss: 0.4381 - accuracy: 0.82 - ETA: 0s - loss: 0.4387 - accuracy: 0.82 - ETA: 0s - loss: 0.4336 - accuracy: 0.82 - ETA: 0s - loss: 0.4359 - accuracy: 0.82 - ETA: 0s - loss: 0.4339 - accuracy: 0.82 - ETA: 0s - loss: 0.4321 - accuracy: 0.82 - ETA: 0s - loss: 0.4277 - accuracy: 0.82 - ETA: 0s - loss: 0.4222 - accuracy: 0.82 - 1s 5ms/step - loss: 0.4235 - accuracy: 0.8267 - val_loss: 0.3857 - val_accuracy: 0.8600\n",
      "Epoch 2/5\n",
      "250/250 [==============================] - ETA: 0s - loss: 0.4545 - accuracy: 0.81 - ETA: 0s - loss: 0.3605 - accuracy: 0.86 - ETA: 0s - loss: 0.3887 - accuracy: 0.84 - ETA: 0s - loss: 0.3710 - accuracy: 0.85 - ETA: 0s - loss: 0.3765 - accuracy: 0.85 - ETA: 0s - loss: 0.3766 - accuracy: 0.84 - ETA: 0s - loss: 0.3776 - accuracy: 0.84 - ETA: 0s - loss: 0.3769 - accuracy: 0.84 - ETA: 0s - loss: 0.3732 - accuracy: 0.84 - ETA: 0s - loss: 0.3739 - accuracy: 0.84 - ETA: 0s - loss: 0.3726 - accuracy: 0.85 - ETA: 0s - loss: 0.3757 - accuracy: 0.84 - ETA: 0s - loss: 0.3750 - accuracy: 0.84 - ETA: 0s - loss: 0.3721 - accuracy: 0.85 - ETA: 0s - loss: 0.3751 - accuracy: 0.84 - ETA: 0s - loss: 0.3734 - accuracy: 0.84 - ETA: 0s - loss: 0.3749 - accuracy: 0.84 - 1s 4ms/step - loss: 0.3751 - accuracy: 0.8499 - val_loss: 0.3604 - val_accuracy: 0.8515\n",
      "Epoch 3/5\n",
      "250/250 [==============================] - ETA: 0s - loss: 0.2282 - accuracy: 0.90 - ETA: 0s - loss: 0.4020 - accuracy: 0.81 - ETA: 0s - loss: 0.3503 - accuracy: 0.85 - ETA: 0s - loss: 0.3746 - accuracy: 0.85 - ETA: 0s - loss: 0.3753 - accuracy: 0.85 - ETA: 0s - loss: 0.3778 - accuracy: 0.85 - ETA: 0s - loss: 0.3808 - accuracy: 0.84 - ETA: 0s - loss: 0.3827 - accuracy: 0.84 - ETA: 0s - loss: 0.3842 - accuracy: 0.84 - ETA: 0s - loss: 0.3786 - accuracy: 0.84 - ETA: 0s - loss: 0.3752 - accuracy: 0.85 - ETA: 0s - loss: 0.3744 - accuracy: 0.85 - ETA: 0s - loss: 0.3745 - accuracy: 0.85 - ETA: 0s - loss: 0.3723 - accuracy: 0.85 - ETA: 0s - loss: 0.3739 - accuracy: 0.85 - ETA: 0s - loss: 0.3724 - accuracy: 0.85 - ETA: 0s - loss: 0.3715 - accuracy: 0.85 - 1s 4ms/step - loss: 0.3699 - accuracy: 0.8519 - val_loss: 0.3518 - val_accuracy: 0.8610\n",
      "Epoch 4/5\n",
      "250/250 [==============================] - ETA: 0s - loss: 0.2487 - accuracy: 0.93 - ETA: 0s - loss: 0.3984 - accuracy: 0.86 - ETA: 0s - loss: 0.3731 - accuracy: 0.86 - ETA: 0s - loss: 0.3557 - accuracy: 0.86 - ETA: 0s - loss: 0.3460 - accuracy: 0.87 - ETA: 0s - loss: 0.3555 - accuracy: 0.86 - ETA: 0s - loss: 0.3591 - accuracy: 0.86 - ETA: 0s - loss: 0.3638 - accuracy: 0.86 - ETA: 0s - loss: 0.3649 - accuracy: 0.85 - ETA: 0s - loss: 0.3631 - accuracy: 0.85 - ETA: 0s - loss: 0.3621 - accuracy: 0.85 - ETA: 0s - loss: 0.3645 - accuracy: 0.85 - ETA: 0s - loss: 0.3663 - accuracy: 0.85 - ETA: 0s - loss: 0.3674 - accuracy: 0.85 - ETA: 0s - loss: 0.3643 - accuracy: 0.85 - ETA: 0s - loss: 0.3642 - accuracy: 0.85 - ETA: 0s - loss: 0.3619 - accuracy: 0.85 - ETA: 0s - loss: 0.3631 - accuracy: 0.85 - 1s 4ms/step - loss: 0.3622 - accuracy: 0.8504 - val_loss: 0.3561 - val_accuracy: 0.8475\n",
      "Epoch 5/5\n"
     ]
    },
    {
     "name": "stdout",
     "output_type": "stream",
     "text": [
      "250/250 [==============================] - ETA: 0s - loss: 0.2298 - accuracy: 0.93 - ETA: 0s - loss: 0.3876 - accuracy: 0.84 - ETA: 0s - loss: 0.3773 - accuracy: 0.85 - ETA: 0s - loss: 0.3688 - accuracy: 0.84 - ETA: 0s - loss: 0.3683 - accuracy: 0.84 - ETA: 0s - loss: 0.3647 - accuracy: 0.85 - ETA: 0s - loss: 0.3617 - accuracy: 0.85 - ETA: 0s - loss: 0.3569 - accuracy: 0.85 - ETA: 0s - loss: 0.3556 - accuracy: 0.85 - ETA: 0s - loss: 0.3554 - accuracy: 0.85 - ETA: 0s - loss: 0.3579 - accuracy: 0.85 - ETA: 0s - loss: 0.3509 - accuracy: 0.85 - ETA: 0s - loss: 0.3529 - accuracy: 0.85 - ETA: 0s - loss: 0.3592 - accuracy: 0.85 - ETA: 0s - loss: 0.3620 - accuracy: 0.84 - ETA: 0s - loss: 0.3606 - accuracy: 0.85 - ETA: 0s - loss: 0.3624 - accuracy: 0.84 - 1s 4ms/step - loss: 0.3647 - accuracy: 0.8471 - val_loss: 0.3670 - val_accuracy: 0.8495\n",
      "Epoch 1/5\n",
      "250/250 [==============================] - ETA: 0s - loss: 0.7149 - accuracy: 0.18 - ETA: 0s - loss: 0.6380 - accuracy: 0.75 - ETA: 0s - loss: 0.5522 - accuracy: 0.76 - ETA: 0s - loss: 0.5055 - accuracy: 0.78 - ETA: 0s - loss: 0.4895 - accuracy: 0.80 - ETA: 0s - loss: 0.4745 - accuracy: 0.80 - ETA: 0s - loss: 0.4562 - accuracy: 0.81 - ETA: 0s - loss: 0.4532 - accuracy: 0.81 - ETA: 0s - loss: 0.4461 - accuracy: 0.82 - ETA: 0s - loss: 0.4456 - accuracy: 0.82 - ETA: 0s - loss: 0.4444 - accuracy: 0.82 - ETA: 0s - loss: 0.4398 - accuracy: 0.81 - ETA: 0s - loss: 0.4375 - accuracy: 0.82 - ETA: 0s - loss: 0.4307 - accuracy: 0.82 - ETA: 0s - loss: 0.4299 - accuracy: 0.82 - ETA: 0s - loss: 0.4256 - accuracy: 0.82 - ETA: 0s - loss: 0.4248 - accuracy: 0.82 - 1s 5ms/step - loss: 0.4248 - accuracy: 0.8285 - val_loss: 0.3990 - val_accuracy: 0.8320\n",
      "Epoch 2/5\n",
      "250/250 [==============================] - ETA: 0s - loss: 0.2984 - accuracy: 0.93 - ETA: 0s - loss: 0.3757 - accuracy: 0.86 - ETA: 0s - loss: 0.3826 - accuracy: 0.85 - ETA: 0s - loss: 0.3821 - accuracy: 0.85 - ETA: 0s - loss: 0.3789 - accuracy: 0.85 - ETA: 0s - loss: 0.3742 - accuracy: 0.85 - ETA: 0s - loss: 0.3804 - accuracy: 0.85 - ETA: 0s - loss: 0.3719 - accuracy: 0.85 - ETA: 0s - loss: 0.3725 - accuracy: 0.85 - ETA: 0s - loss: 0.3699 - accuracy: 0.85 - ETA: 0s - loss: 0.3729 - accuracy: 0.85 - ETA: 0s - loss: 0.3727 - accuracy: 0.85 - ETA: 0s - loss: 0.3725 - accuracy: 0.85 - ETA: 0s - loss: 0.3724 - accuracy: 0.85 - ETA: 0s - loss: 0.3697 - accuracy: 0.85 - ETA: 0s - loss: 0.3744 - accuracy: 0.85 - ETA: 0s - loss: 0.3724 - accuracy: 0.85 - 1s 4ms/step - loss: 0.3716 - accuracy: 0.8522 - val_loss: 0.3619 - val_accuracy: 0.8525\n",
      "Epoch 3/5\n",
      "250/250 [==============================] - ETA: 0s - loss: 0.4450 - accuracy: 0.75 - ETA: 0s - loss: 0.3188 - accuracy: 0.86 - ETA: 0s - loss: 0.3451 - accuracy: 0.86 - ETA: 0s - loss: 0.3595 - accuracy: 0.85 - ETA: 0s - loss: 0.3596 - accuracy: 0.85 - ETA: 0s - loss: 0.3714 - accuracy: 0.84 - ETA: 0s - loss: 0.3695 - accuracy: 0.84 - ETA: 0s - loss: 0.3657 - accuracy: 0.84 - ETA: 0s - loss: 0.3618 - accuracy: 0.85 - ETA: 0s - loss: 0.3651 - accuracy: 0.84 - ETA: 0s - loss: 0.3629 - accuracy: 0.84 - ETA: 0s - loss: 0.3662 - accuracy: 0.84 - ETA: 0s - loss: 0.3639 - accuracy: 0.85 - ETA: 0s - loss: 0.3607 - accuracy: 0.85 - ETA: 0s - loss: 0.3611 - accuracy: 0.85 - ETA: 0s - loss: 0.3621 - accuracy: 0.85 - 1s 4ms/step - loss: 0.3642 - accuracy: 0.8512 - val_loss: 0.3445 - val_accuracy: 0.8575\n",
      "Epoch 4/5\n",
      "250/250 [==============================] - ETA: 0s - loss: 0.4654 - accuracy: 0.81 - ETA: 0s - loss: 0.3733 - accuracy: 0.84 - ETA: 0s - loss: 0.3581 - accuracy: 0.85 - ETA: 0s - loss: 0.3319 - accuracy: 0.86 - ETA: 0s - loss: 0.3297 - accuracy: 0.86 - ETA: 0s - loss: 0.3326 - accuracy: 0.86 - ETA: 0s - loss: 0.3407 - accuracy: 0.86 - ETA: 0s - loss: 0.3357 - accuracy: 0.86 - ETA: 0s - loss: 0.3358 - accuracy: 0.86 - ETA: 0s - loss: 0.3392 - accuracy: 0.86 - ETA: 0s - loss: 0.3395 - accuracy: 0.86 - ETA: 0s - loss: 0.3422 - accuracy: 0.86 - ETA: 0s - loss: 0.3456 - accuracy: 0.86 - ETA: 0s - loss: 0.3477 - accuracy: 0.85 - ETA: 0s - loss: 0.3469 - accuracy: 0.86 - ETA: 0s - loss: 0.3468 - accuracy: 0.85 - ETA: 0s - loss: 0.3451 - accuracy: 0.86 - ETA: 0s - loss: 0.3479 - accuracy: 0.85 - 1s 4ms/step - loss: 0.3482 - accuracy: 0.8585 - val_loss: 0.3662 - val_accuracy: 0.8610\n",
      "Epoch 5/5\n",
      "250/250 [==============================] - ETA: 0s - loss: 0.4055 - accuracy: 0.87 - ETA: 0s - loss: 0.3206 - accuracy: 0.88 - ETA: 0s - loss: 0.3470 - accuracy: 0.87 - ETA: 0s - loss: 0.3582 - accuracy: 0.86 - ETA: 0s - loss: 0.3600 - accuracy: 0.86 - ETA: 0s - loss: 0.3565 - accuracy: 0.86 - ETA: 0s - loss: 0.3619 - accuracy: 0.85 - ETA: 0s - loss: 0.3611 - accuracy: 0.85 - ETA: 0s - loss: 0.3638 - accuracy: 0.85 - ETA: 0s - loss: 0.3604 - accuracy: 0.85 - ETA: 0s - loss: 0.3597 - accuracy: 0.85 - ETA: 0s - loss: 0.3564 - accuracy: 0.85 - ETA: 0s - loss: 0.3589 - accuracy: 0.85 - ETA: 0s - loss: 0.3588 - accuracy: 0.85 - ETA: 0s - loss: 0.3622 - accuracy: 0.85 - ETA: 0s - loss: 0.3597 - accuracy: 0.85 - ETA: 0s - loss: 0.3593 - accuracy: 0.85 - 1s 4ms/step - loss: 0.3608 - accuracy: 0.8575 - val_loss: 0.3501 - val_accuracy: 0.8535\n"
     ]
    },
    {
     "data": {
      "text/html": [
       "<span style=\"color:#4527A0\"><h1 style=\"font-size:18px\">Trial complete</h1></span>"
      ],
      "text/plain": [
       "<IPython.core.display.HTML object>"
      ]
     },
     "metadata": {},
     "output_type": "display_data"
    },
    {
     "data": {
      "text/html": [
       "<span style=\"color:#4527A0\"><h1 style=\"font-size:18px\">Trial summary</h1></span>"
      ],
      "text/plain": [
       "<IPython.core.display.HTML object>"
      ]
     },
     "metadata": {},
     "output_type": "display_data"
    },
    {
     "data": {
      "text/html": [
       "<span style=\"color:cyan\"> |-Trial ID: 376724979027365108f4785208d98661</span>"
      ],
      "text/plain": [
       "<IPython.core.display.HTML object>"
      ]
     },
     "metadata": {},
     "output_type": "display_data"
    },
    {
     "data": {
      "text/html": [
       "<span style=\"color:cyan\"> |-Score: 0.859333336353302</span>"
      ],
      "text/plain": [
       "<IPython.core.display.HTML object>"
      ]
     },
     "metadata": {},
     "output_type": "display_data"
    },
    {
     "data": {
      "text/html": [
       "<span style=\"color:cyan\"> |-Best step: 0</span>"
      ],
      "text/plain": [
       "<IPython.core.display.HTML object>"
      ]
     },
     "metadata": {},
     "output_type": "display_data"
    },
    {
     "data": {
      "text/html": [
       "<span style=\"color:#7E57C2\"><h2 style=\"font-size:16px\">Hyperparameters:</h2></span>"
      ],
      "text/plain": [
       "<IPython.core.display.HTML object>"
      ]
     },
     "metadata": {},
     "output_type": "display_data"
    },
    {
     "data": {
      "text/html": [
       "<span style=\"color:cyan\"> |-learning_rate: 0.01</span>"
      ],
      "text/plain": [
       "<IPython.core.display.HTML object>"
      ]
     },
     "metadata": {},
     "output_type": "display_data"
    },
    {
     "data": {
      "text/html": [
       "<span style=\"color:blue\"> |-num_layers: 4</span>"
      ],
      "text/plain": [
       "<IPython.core.display.HTML object>"
      ]
     },
     "metadata": {},
     "output_type": "display_data"
    },
    {
     "data": {
      "text/html": [
       "<span style=\"color:cyan\"> |-units_0: 288</span>"
      ],
      "text/plain": [
       "<IPython.core.display.HTML object>"
      ]
     },
     "metadata": {},
     "output_type": "display_data"
    },
    {
     "data": {
      "text/html": [
       "<span style=\"color:blue\"> |-units_1: 480</span>"
      ],
      "text/plain": [
       "<IPython.core.display.HTML object>"
      ]
     },
     "metadata": {},
     "output_type": "display_data"
    },
    {
     "data": {
      "text/html": [
       "<span style=\"color:cyan\"> |-units_10: 448</span>"
      ],
      "text/plain": [
       "<IPython.core.display.HTML object>"
      ]
     },
     "metadata": {},
     "output_type": "display_data"
    },
    {
     "data": {
      "text/html": [
       "<span style=\"color:blue\"> |-units_11: 384</span>"
      ],
      "text/plain": [
       "<IPython.core.display.HTML object>"
      ]
     },
     "metadata": {},
     "output_type": "display_data"
    },
    {
     "data": {
      "text/html": [
       "<span style=\"color:cyan\"> |-units_12: 384</span>"
      ],
      "text/plain": [
       "<IPython.core.display.HTML object>"
      ]
     },
     "metadata": {},
     "output_type": "display_data"
    },
    {
     "data": {
      "text/html": [
       "<span style=\"color:blue\"> |-units_13: 192</span>"
      ],
      "text/plain": [
       "<IPython.core.display.HTML object>"
      ]
     },
     "metadata": {},
     "output_type": "display_data"
    },
    {
     "data": {
      "text/html": [
       "<span style=\"color:cyan\"> |-units_14: 416</span>"
      ],
      "text/plain": [
       "<IPython.core.display.HTML object>"
      ]
     },
     "metadata": {},
     "output_type": "display_data"
    },
    {
     "data": {
      "text/html": [
       "<span style=\"color:blue\"> |-units_2: 160</span>"
      ],
      "text/plain": [
       "<IPython.core.display.HTML object>"
      ]
     },
     "metadata": {},
     "output_type": "display_data"
    },
    {
     "data": {
      "text/html": [
       "<span style=\"color:cyan\"> |-units_3: 416</span>"
      ],
      "text/plain": [
       "<IPython.core.display.HTML object>"
      ]
     },
     "metadata": {},
     "output_type": "display_data"
    },
    {
     "data": {
      "text/html": [
       "<span style=\"color:blue\"> |-units_4: 224</span>"
      ],
      "text/plain": [
       "<IPython.core.display.HTML object>"
      ]
     },
     "metadata": {},
     "output_type": "display_data"
    },
    {
     "data": {
      "text/html": [
       "<span style=\"color:cyan\"> |-units_5: 64</span>"
      ],
      "text/plain": [
       "<IPython.core.display.HTML object>"
      ]
     },
     "metadata": {},
     "output_type": "display_data"
    },
    {
     "data": {
      "text/html": [
       "<span style=\"color:blue\"> |-units_6: 288</span>"
      ],
      "text/plain": [
       "<IPython.core.display.HTML object>"
      ]
     },
     "metadata": {},
     "output_type": "display_data"
    },
    {
     "data": {
      "text/html": [
       "<span style=\"color:cyan\"> |-units_7: 32</span>"
      ],
      "text/plain": [
       "<IPython.core.display.HTML object>"
      ]
     },
     "metadata": {},
     "output_type": "display_data"
    },
    {
     "data": {
      "text/html": [
       "<span style=\"color:blue\"> |-units_8: 64</span>"
      ],
      "text/plain": [
       "<IPython.core.display.HTML object>"
      ]
     },
     "metadata": {},
     "output_type": "display_data"
    },
    {
     "data": {
      "text/html": [
       "<span style=\"color:cyan\"> |-units_9: 160</span>"
      ],
      "text/plain": [
       "<IPython.core.display.HTML object>"
      ]
     },
     "metadata": {},
     "output_type": "display_data"
    },
    {
     "name": "stdout",
     "output_type": "stream",
     "text": [
      "Epoch 1/5\n",
      "250/250 [==============================] - ETA: 0s - loss: 0.6822 - accuracy: 0.71 - ETA: 0s - loss: 0.5239 - accuracy: 0.80 - ETA: 0s - loss: 0.4963 - accuracy: 0.79 - ETA: 0s - loss: 0.4732 - accuracy: 0.80 - ETA: 0s - loss: 0.4593 - accuracy: 0.81 - ETA: 0s - loss: 0.4681 - accuracy: 0.81 - ETA: 0s - loss: 0.4516 - accuracy: 0.82 - ETA: 0s - loss: 0.4386 - accuracy: 0.82 - ETA: 0s - loss: 0.4347 - accuracy: 0.82 - ETA: 0s - loss: 0.4336 - accuracy: 0.82 - ETA: 0s - loss: 0.4303 - accuracy: 0.82 - ETA: 0s - loss: 0.4297 - accuracy: 0.82 - ETA: 0s - loss: 0.4279 - accuracy: 0.82 - ETA: 0s - loss: 0.4238 - accuracy: 0.83 - ETA: 0s - loss: 0.4168 - accuracy: 0.83 - 1s 4ms/step - loss: 0.4132 - accuracy: 0.8350 - val_loss: 0.3851 - val_accuracy: 0.8485\n",
      "Epoch 2/5\n",
      "250/250 [==============================] - ETA: 0s - loss: 0.5426 - accuracy: 0.78 - ETA: 0s - loss: 0.3925 - accuracy: 0.84 - ETA: 0s - loss: 0.3895 - accuracy: 0.83 - ETA: 0s - loss: 0.3929 - accuracy: 0.83 - ETA: 0s - loss: 0.3800 - accuracy: 0.84 - ETA: 0s - loss: 0.3748 - accuracy: 0.84 - ETA: 0s - loss: 0.3653 - accuracy: 0.84 - ETA: 0s - loss: 0.3687 - accuracy: 0.84 - ETA: 0s - loss: 0.3649 - accuracy: 0.84 - ETA: 0s - loss: 0.3656 - accuracy: 0.85 - ETA: 0s - loss: 0.3667 - accuracy: 0.84 - ETA: 0s - loss: 0.3679 - accuracy: 0.84 - ETA: 0s - loss: 0.3727 - accuracy: 0.84 - ETA: 0s - loss: 0.3716 - accuracy: 0.84 - ETA: 0s - loss: 0.3730 - accuracy: 0.84 - 1s 4ms/step - loss: 0.3732 - accuracy: 0.8468 - val_loss: 0.3509 - val_accuracy: 0.8570\n",
      "Epoch 3/5\n",
      "250/250 [==============================] - ETA: 0s - loss: 0.3310 - accuracy: 0.90 - ETA: 0s - loss: 0.3559 - accuracy: 0.85 - ETA: 0s - loss: 0.3653 - accuracy: 0.86 - ETA: 0s - loss: 0.3695 - accuracy: 0.86 - ETA: 0s - loss: 0.3800 - accuracy: 0.85 - ETA: 0s - loss: 0.3741 - accuracy: 0.85 - ETA: 0s - loss: 0.3734 - accuracy: 0.85 - ETA: 0s - loss: 0.3732 - accuracy: 0.85 - ETA: 0s - loss: 0.3696 - accuracy: 0.85 - ETA: 0s - loss: 0.3679 - accuracy: 0.85 - ETA: 0s - loss: 0.3633 - accuracy: 0.85 - ETA: 0s - loss: 0.3623 - accuracy: 0.85 - ETA: 0s - loss: 0.3672 - accuracy: 0.85 - ETA: 0s - loss: 0.3647 - accuracy: 0.85 - ETA: 0s - loss: 0.3605 - accuracy: 0.85 - 1s 3ms/step - loss: 0.3616 - accuracy: 0.8535 - val_loss: 0.3630 - val_accuracy: 0.8500\n",
      "Epoch 4/5\n",
      "250/250 [==============================] - ETA: 0s - loss: 0.3850 - accuracy: 0.81 - ETA: 0s - loss: 0.3784 - accuracy: 0.84 - ETA: 0s - loss: 0.3773 - accuracy: 0.84 - ETA: 0s - loss: 0.3717 - accuracy: 0.84 - ETA: 0s - loss: 0.3640 - accuracy: 0.85 - ETA: 0s - loss: 0.3566 - accuracy: 0.85 - ETA: 0s - loss: 0.3513 - accuracy: 0.85 - ETA: 0s - loss: 0.3483 - accuracy: 0.85 - ETA: 0s - loss: 0.3489 - accuracy: 0.85 - ETA: 0s - loss: 0.3536 - accuracy: 0.85 - ETA: 0s - loss: 0.3533 - accuracy: 0.85 - ETA: 0s - loss: 0.3548 - accuracy: 0.85 - ETA: 0s - loss: 0.3536 - accuracy: 0.85 - ETA: 0s - loss: 0.3525 - accuracy: 0.85 - ETA: 0s - loss: 0.3532 - accuracy: 0.85 - 1s 4ms/step - loss: 0.3519 - accuracy: 0.8561 - val_loss: 0.3881 - val_accuracy: 0.8640\n",
      "Epoch 5/5\n",
      "250/250 [==============================] - ETA: 0s - loss: 0.4084 - accuracy: 0.84 - ETA: 0s - loss: 0.3772 - accuracy: 0.84 - ETA: 0s - loss: 0.3586 - accuracy: 0.87 - ETA: 0s - loss: 0.3716 - accuracy: 0.85 - ETA: 0s - loss: 0.3653 - accuracy: 0.86 - ETA: 0s - loss: 0.3692 - accuracy: 0.85 - ETA: 0s - loss: 0.3621 - accuracy: 0.86 - ETA: 0s - loss: 0.3630 - accuracy: 0.85 - ETA: 0s - loss: 0.3620 - accuracy: 0.85 - ETA: 0s - loss: 0.3559 - accuracy: 0.86 - ETA: 0s - loss: 0.3556 - accuracy: 0.86 - ETA: 0s - loss: 0.3537 - accuracy: 0.86 - ETA: 0s - loss: 0.3571 - accuracy: 0.85 - ETA: 0s - loss: 0.3570 - accuracy: 0.85 - ETA: 0s - loss: 0.3568 - accuracy: 0.85 - 1s 3ms/step - loss: 0.3559 - accuracy: 0.8579 - val_loss: 0.3469 - val_accuracy: 0.8555\n",
      "Epoch 1/5\n",
      "250/250 [==============================] - ETA: 0s - loss: 0.7287 - accuracy: 0.15 - ETA: 0s - loss: 0.5533 - accuracy: 0.74 - ETA: 0s - loss: 0.5311 - accuracy: 0.76 - ETA: 0s - loss: 0.5145 - accuracy: 0.77 - ETA: 0s - loss: 0.4950 - accuracy: 0.78 - ETA: 0s - loss: 0.4854 - accuracy: 0.78 - ETA: 0s - loss: 0.4757 - accuracy: 0.78 - ETA: 0s - loss: 0.4659 - accuracy: 0.79 - ETA: 0s - loss: 0.4568 - accuracy: 0.80 - ETA: 0s - loss: 0.4421 - accuracy: 0.80 - ETA: 0s - loss: 0.4396 - accuracy: 0.80 - ETA: 0s - loss: 0.4346 - accuracy: 0.80 - ETA: 0s - loss: 0.4311 - accuracy: 0.81 - ETA: 0s - loss: 0.4296 - accuracy: 0.81 - ETA: 0s - loss: 0.4265 - accuracy: 0.81 - ETA: 0s - loss: 0.4216 - accuracy: 0.82 - 1s 4ms/step - loss: 0.4216 - accuracy: 0.8204 - val_loss: 0.3515 - val_accuracy: 0.8515\n",
      "Epoch 2/5\n",
      "250/250 [==============================] - ETA: 0s - loss: 0.1933 - accuracy: 0.93 - ETA: 0s - loss: 0.3914 - accuracy: 0.83 - ETA: 0s - loss: 0.3789 - accuracy: 0.84 - ETA: 0s - loss: 0.3757 - accuracy: 0.84 - ETA: 0s - loss: 0.3658 - accuracy: 0.85 - ETA: 0s - loss: 0.3637 - accuracy: 0.85 - ETA: 0s - loss: 0.3606 - accuracy: 0.85 - ETA: 0s - loss: 0.3627 - accuracy: 0.85 - ETA: 0s - loss: 0.3613 - accuracy: 0.85 - ETA: 0s - loss: 0.3638 - accuracy: 0.85 - ETA: 0s - loss: 0.3664 - accuracy: 0.85 - ETA: 0s - loss: 0.3649 - accuracy: 0.85 - ETA: 0s - loss: 0.3711 - accuracy: 0.84 - ETA: 0s - loss: 0.3694 - accuracy: 0.84 - ETA: 0s - loss: 0.3699 - accuracy: 0.84 - 1s 3ms/step - loss: 0.3699 - accuracy: 0.8485 - val_loss: 0.3710 - val_accuracy: 0.8490\n",
      "Epoch 3/5\n",
      "250/250 [==============================] - ETA: 0s - loss: 0.2586 - accuracy: 0.87 - ETA: 0s - loss: 0.3544 - accuracy: 0.85 - ETA: 0s - loss: 0.3524 - accuracy: 0.85 - ETA: 0s - loss: 0.3558 - accuracy: 0.85 - ETA: 0s - loss: 0.3534 - accuracy: 0.85 - ETA: 0s - loss: 0.3619 - accuracy: 0.85 - ETA: 0s - loss: 0.3631 - accuracy: 0.85 - ETA: 0s - loss: 0.3623 - accuracy: 0.86 - ETA: 0s - loss: 0.3639 - accuracy: 0.85 - ETA: 0s - loss: 0.3576 - accuracy: 0.86 - ETA: 0s - loss: 0.3557 - accuracy: 0.86 - ETA: 0s - loss: 0.3568 - accuracy: 0.85 - ETA: 0s - loss: 0.3627 - accuracy: 0.85 - ETA: 0s - loss: 0.3684 - accuracy: 0.85 - ETA: 0s - loss: 0.3692 - accuracy: 0.85 - 1s 3ms/step - loss: 0.3686 - accuracy: 0.8516 - val_loss: 0.4847 - val_accuracy: 0.8395\n",
      "Epoch 4/5\n",
      "250/250 [==============================] - ETA: 0s - loss: 0.2817 - accuracy: 0.93 - ETA: 0s - loss: 0.3961 - accuracy: 0.83 - ETA: 0s - loss: 0.3882 - accuracy: 0.82 - ETA: 0s - loss: 0.3963 - accuracy: 0.83 - ETA: 0s - loss: 0.3979 - accuracy: 0.83 - ETA: 0s - loss: 0.3962 - accuracy: 0.83 - ETA: 0s - loss: 0.3898 - accuracy: 0.83 - ETA: 0s - loss: 0.3872 - accuracy: 0.84 - ETA: 0s - loss: 0.3920 - accuracy: 0.84 - ETA: 0s - loss: 0.3916 - accuracy: 0.83 - ETA: 0s - loss: 0.3869 - accuracy: 0.84 - ETA: 0s - loss: 0.3835 - accuracy: 0.84 - ETA: 0s - loss: 0.3827 - accuracy: 0.84 - ETA: 0s - loss: 0.3845 - accuracy: 0.84 - ETA: 0s - loss: 0.3807 - accuracy: 0.84 - 1s 3ms/step - loss: 0.3785 - accuracy: 0.8469 - val_loss: 0.3489 - val_accuracy: 0.8550\n",
      "Epoch 5/5\n",
      "250/250 [==============================] - ETA: 0s - loss: 0.2595 - accuracy: 0.93 - ETA: 0s - loss: 0.3506 - accuracy: 0.85 - ETA: 0s - loss: 0.3900 - accuracy: 0.84 - ETA: 0s - loss: 0.3647 - accuracy: 0.86 - ETA: 0s - loss: 0.3666 - accuracy: 0.85 - ETA: 0s - loss: 0.3562 - accuracy: 0.86 - ETA: 0s - loss: 0.3563 - accuracy: 0.86 - ETA: 0s - loss: 0.3605 - accuracy: 0.85 - ETA: 0s - loss: 0.3547 - accuracy: 0.86 - ETA: 0s - loss: 0.3608 - accuracy: 0.85 - ETA: 0s - loss: 0.3651 - accuracy: 0.85 - ETA: 0s - loss: 0.3647 - accuracy: 0.85 - ETA: 0s - loss: 0.3667 - accuracy: 0.85 - ETA: 0s - loss: 0.3655 - accuracy: 0.85 - ETA: 0s - loss: 0.3658 - accuracy: 0.85 - 1s 3ms/step - loss: 0.3667 - accuracy: 0.8516 - val_loss: 0.3536 - val_accuracy: 0.8560\n",
      "Epoch 1/5\n"
     ]
    },
    {
     "name": "stdout",
     "output_type": "stream",
     "text": [
      "250/250 [==============================] - ETA: 0s - loss: 0.6405 - accuracy: 0.78 - ETA: 0s - loss: 0.6410 - accuracy: 0.77 - ETA: 0s - loss: 0.5779 - accuracy: 0.77 - ETA: 0s - loss: 0.5312 - accuracy: 0.78 - ETA: 0s - loss: 0.5153 - accuracy: 0.78 - ETA: 0s - loss: 0.4953 - accuracy: 0.79 - ETA: 0s - loss: 0.4806 - accuracy: 0.80 - ETA: 0s - loss: 0.4728 - accuracy: 0.80 - ETA: 0s - loss: 0.4645 - accuracy: 0.81 - ETA: 0s - loss: 0.4555 - accuracy: 0.81 - ETA: 0s - loss: 0.4479 - accuracy: 0.82 - ETA: 0s - loss: 0.4405 - accuracy: 0.82 - ETA: 0s - loss: 0.4400 - accuracy: 0.82 - ETA: 0s - loss: 0.4360 - accuracy: 0.82 - ETA: 0s - loss: 0.4294 - accuracy: 0.82 - ETA: 0s - loss: 0.4233 - accuracy: 0.83 - 1s 4ms/step - loss: 0.4222 - accuracy: 0.8319 - val_loss: 0.3831 - val_accuracy: 0.8495\n",
      "Epoch 2/5\n",
      "250/250 [==============================] - ETA: 0s - loss: 0.1929 - accuracy: 0.93 - ETA: 0s - loss: 0.3862 - accuracy: 0.83 - ETA: 0s - loss: 0.4006 - accuracy: 0.83 - ETA: 0s - loss: 0.4005 - accuracy: 0.82 - ETA: 0s - loss: 0.4019 - accuracy: 0.83 - ETA: 0s - loss: 0.3951 - accuracy: 0.83 - ETA: 0s - loss: 0.3858 - accuracy: 0.83 - ETA: 0s - loss: 0.3858 - accuracy: 0.84 - ETA: 0s - loss: 0.3819 - accuracy: 0.84 - ETA: 0s - loss: 0.3814 - accuracy: 0.84 - ETA: 0s - loss: 0.3761 - accuracy: 0.84 - ETA: 0s - loss: 0.3776 - accuracy: 0.84 - ETA: 0s - loss: 0.3787 - accuracy: 0.84 - ETA: 0s - loss: 0.3771 - accuracy: 0.84 - ETA: 0s - loss: 0.3735 - accuracy: 0.84 - 1s 3ms/step - loss: 0.3715 - accuracy: 0.8481 - val_loss: 0.3704 - val_accuracy: 0.8500\n",
      "Epoch 3/5\n",
      "250/250 [==============================] - ETA: 0s - loss: 0.1521 - accuracy: 0.90 - ETA: 0s - loss: 0.3636 - accuracy: 0.85 - ETA: 0s - loss: 0.3631 - accuracy: 0.86 - ETA: 0s - loss: 0.3584 - accuracy: 0.85 - ETA: 0s - loss: 0.3444 - accuracy: 0.86 - ETA: 0s - loss: 0.3438 - accuracy: 0.86 - ETA: 0s - loss: 0.3517 - accuracy: 0.86 - ETA: 0s - loss: 0.3507 - accuracy: 0.86 - ETA: 0s - loss: 0.3554 - accuracy: 0.85 - ETA: 0s - loss: 0.3558 - accuracy: 0.85 - ETA: 0s - loss: 0.3587 - accuracy: 0.85 - ETA: 0s - loss: 0.3590 - accuracy: 0.85 - ETA: 0s - loss: 0.3546 - accuracy: 0.85 - ETA: 0s - loss: 0.3557 - accuracy: 0.85 - ETA: 0s - loss: 0.3597 - accuracy: 0.85 - 1s 3ms/step - loss: 0.3608 - accuracy: 0.8544 - val_loss: 0.3727 - val_accuracy: 0.8545\n",
      "Epoch 4/5\n",
      "250/250 [==============================] - ETA: 0s - loss: 0.3615 - accuracy: 0.87 - ETA: 0s - loss: 0.3516 - accuracy: 0.85 - ETA: 0s - loss: 0.3504 - accuracy: 0.85 - ETA: 0s - loss: 0.3750 - accuracy: 0.84 - ETA: 0s - loss: 0.3706 - accuracy: 0.84 - ETA: 0s - loss: 0.3687 - accuracy: 0.84 - ETA: 0s - loss: 0.3625 - accuracy: 0.84 - ETA: 0s - loss: 0.3561 - accuracy: 0.85 - ETA: 0s - loss: 0.3611 - accuracy: 0.85 - ETA: 0s - loss: 0.3619 - accuracy: 0.84 - ETA: 0s - loss: 0.3603 - accuracy: 0.85 - ETA: 0s - loss: 0.3626 - accuracy: 0.84 - ETA: 0s - loss: 0.3610 - accuracy: 0.85 - ETA: 0s - loss: 0.3644 - accuracy: 0.84 - ETA: 0s - loss: 0.3601 - accuracy: 0.85 - 1s 3ms/step - loss: 0.3602 - accuracy: 0.8518 - val_loss: 0.3475 - val_accuracy: 0.8615\n",
      "Epoch 5/5\n",
      "250/250 [==============================] - ETA: 0s - loss: 0.4035 - accuracy: 0.84 - ETA: 0s - loss: 0.3452 - accuracy: 0.85 - ETA: 0s - loss: 0.3660 - accuracy: 0.85 - ETA: 0s - loss: 0.3595 - accuracy: 0.85 - ETA: 0s - loss: 0.3597 - accuracy: 0.85 - ETA: 0s - loss: 0.3667 - accuracy: 0.84 - ETA: 0s - loss: 0.3699 - accuracy: 0.84 - ETA: 0s - loss: 0.3696 - accuracy: 0.84 - ETA: 0s - loss: 0.3642 - accuracy: 0.84 - ETA: 0s - loss: 0.3595 - accuracy: 0.85 - ETA: 0s - loss: 0.3683 - accuracy: 0.84 - ETA: 0s - loss: 0.3645 - accuracy: 0.84 - ETA: 0s - loss: 0.3624 - accuracy: 0.84 - ETA: 0s - loss: 0.3631 - accuracy: 0.85 - ETA: 0s - loss: 0.3607 - accuracy: 0.85 - 1s 3ms/step - loss: 0.3598 - accuracy: 0.8521 - val_loss: 0.3687 - val_accuracy: 0.8485\n"
     ]
    },
    {
     "data": {
      "text/html": [
       "<span style=\"color:#4527A0\"><h1 style=\"font-size:18px\">Trial complete</h1></span>"
      ],
      "text/plain": [
       "<IPython.core.display.HTML object>"
      ]
     },
     "metadata": {},
     "output_type": "display_data"
    },
    {
     "data": {
      "text/html": [
       "<span style=\"color:#4527A0\"><h1 style=\"font-size:18px\">Trial summary</h1></span>"
      ],
      "text/plain": [
       "<IPython.core.display.HTML object>"
      ]
     },
     "metadata": {},
     "output_type": "display_data"
    },
    {
     "data": {
      "text/html": [
       "<span style=\"color:cyan\"> |-Trial ID: 5757874be5f188a19bb5b54e8a72be90</span>"
      ],
      "text/plain": [
       "<IPython.core.display.HTML object>"
      ]
     },
     "metadata": {},
     "output_type": "display_data"
    },
    {
     "data": {
      "text/html": [
       "<span style=\"color:cyan\"> |-Score: 0.8605000178019205</span>"
      ],
      "text/plain": [
       "<IPython.core.display.HTML object>"
      ]
     },
     "metadata": {},
     "output_type": "display_data"
    },
    {
     "data": {
      "text/html": [
       "<span style=\"color:cyan\"> |-Best step: 0</span>"
      ],
      "text/plain": [
       "<IPython.core.display.HTML object>"
      ]
     },
     "metadata": {},
     "output_type": "display_data"
    },
    {
     "data": {
      "text/html": [
       "<span style=\"color:#7E57C2\"><h2 style=\"font-size:16px\">Hyperparameters:</h2></span>"
      ],
      "text/plain": [
       "<IPython.core.display.HTML object>"
      ]
     },
     "metadata": {},
     "output_type": "display_data"
    },
    {
     "data": {
      "text/html": [
       "<span style=\"color:cyan\"> |-learning_rate: 0.01</span>"
      ],
      "text/plain": [
       "<IPython.core.display.HTML object>"
      ]
     },
     "metadata": {},
     "output_type": "display_data"
    },
    {
     "data": {
      "text/html": [
       "<span style=\"color:blue\"> |-num_layers: 5</span>"
      ],
      "text/plain": [
       "<IPython.core.display.HTML object>"
      ]
     },
     "metadata": {},
     "output_type": "display_data"
    },
    {
     "data": {
      "text/html": [
       "<span style=\"color:cyan\"> |-units_0: 96</span>"
      ],
      "text/plain": [
       "<IPython.core.display.HTML object>"
      ]
     },
     "metadata": {},
     "output_type": "display_data"
    },
    {
     "data": {
      "text/html": [
       "<span style=\"color:blue\"> |-units_1: 224</span>"
      ],
      "text/plain": [
       "<IPython.core.display.HTML object>"
      ]
     },
     "metadata": {},
     "output_type": "display_data"
    },
    {
     "data": {
      "text/html": [
       "<span style=\"color:cyan\"> |-units_10: 320</span>"
      ],
      "text/plain": [
       "<IPython.core.display.HTML object>"
      ]
     },
     "metadata": {},
     "output_type": "display_data"
    },
    {
     "data": {
      "text/html": [
       "<span style=\"color:blue\"> |-units_11: 128</span>"
      ],
      "text/plain": [
       "<IPython.core.display.HTML object>"
      ]
     },
     "metadata": {},
     "output_type": "display_data"
    },
    {
     "data": {
      "text/html": [
       "<span style=\"color:cyan\"> |-units_12: 224</span>"
      ],
      "text/plain": [
       "<IPython.core.display.HTML object>"
      ]
     },
     "metadata": {},
     "output_type": "display_data"
    },
    {
     "data": {
      "text/html": [
       "<span style=\"color:blue\"> |-units_13: 128</span>"
      ],
      "text/plain": [
       "<IPython.core.display.HTML object>"
      ]
     },
     "metadata": {},
     "output_type": "display_data"
    },
    {
     "data": {
      "text/html": [
       "<span style=\"color:cyan\"> |-units_14: 480</span>"
      ],
      "text/plain": [
       "<IPython.core.display.HTML object>"
      ]
     },
     "metadata": {},
     "output_type": "display_data"
    },
    {
     "data": {
      "text/html": [
       "<span style=\"color:blue\"> |-units_2: 416</span>"
      ],
      "text/plain": [
       "<IPython.core.display.HTML object>"
      ]
     },
     "metadata": {},
     "output_type": "display_data"
    },
    {
     "data": {
      "text/html": [
       "<span style=\"color:cyan\"> |-units_3: 224</span>"
      ],
      "text/plain": [
       "<IPython.core.display.HTML object>"
      ]
     },
     "metadata": {},
     "output_type": "display_data"
    },
    {
     "data": {
      "text/html": [
       "<span style=\"color:blue\"> |-units_4: 96</span>"
      ],
      "text/plain": [
       "<IPython.core.display.HTML object>"
      ]
     },
     "metadata": {},
     "output_type": "display_data"
    },
    {
     "data": {
      "text/html": [
       "<span style=\"color:cyan\"> |-units_5: 192</span>"
      ],
      "text/plain": [
       "<IPython.core.display.HTML object>"
      ]
     },
     "metadata": {},
     "output_type": "display_data"
    },
    {
     "data": {
      "text/html": [
       "<span style=\"color:blue\"> |-units_6: 64</span>"
      ],
      "text/plain": [
       "<IPython.core.display.HTML object>"
      ]
     },
     "metadata": {},
     "output_type": "display_data"
    },
    {
     "data": {
      "text/html": [
       "<span style=\"color:cyan\"> |-units_7: 32</span>"
      ],
      "text/plain": [
       "<IPython.core.display.HTML object>"
      ]
     },
     "metadata": {},
     "output_type": "display_data"
    },
    {
     "data": {
      "text/html": [
       "<span style=\"color:blue\"> |-units_8: 512</span>"
      ],
      "text/plain": [
       "<IPython.core.display.HTML object>"
      ]
     },
     "metadata": {},
     "output_type": "display_data"
    },
    {
     "data": {
      "text/html": [
       "<span style=\"color:cyan\"> |-units_9: 192</span>"
      ],
      "text/plain": [
       "<IPython.core.display.HTML object>"
      ]
     },
     "metadata": {},
     "output_type": "display_data"
    },
    {
     "name": "stdout",
     "output_type": "stream",
     "text": [
      "Epoch 1/5\n",
      "250/250 [==============================] - ETA: 0s - loss: 0.6931 - accuracy: 0.78 - ETA: 1s - loss: 1.7856 - accuracy: 0.80 - ETA: 1s - loss: 1.1501 - accuracy: 0.79 - ETA: 1s - loss: 0.9232 - accuracy: 0.81 - ETA: 1s - loss: 0.8218 - accuracy: 0.80 - ETA: 1s - loss: 0.7587 - accuracy: 0.80 - ETA: 1s - loss: 0.7120 - accuracy: 0.80 - ETA: 1s - loss: 0.6819 - accuracy: 0.80 - ETA: 1s - loss: 0.6588 - accuracy: 0.80 - ETA: 1s - loss: 0.6376 - accuracy: 0.80 - ETA: 0s - loss: 0.6298 - accuracy: 0.80 - ETA: 0s - loss: 0.6193 - accuracy: 0.80 - ETA: 0s - loss: 0.6078 - accuracy: 0.80 - ETA: 0s - loss: 0.6045 - accuracy: 0.80 - ETA: 0s - loss: 0.6017 - accuracy: 0.79 - ETA: 0s - loss: 0.5954 - accuracy: 0.79 - ETA: 0s - loss: 0.5906 - accuracy: 0.79 - ETA: 0s - loss: 0.5840 - accuracy: 0.79 - ETA: 0s - loss: 0.5799 - accuracy: 0.79 - ETA: 0s - loss: 0.5767 - accuracy: 0.79 - ETA: 0s - loss: 0.5748 - accuracy: 0.79 - ETA: 0s - loss: 0.5701 - accuracy: 0.79 - ETA: 0s - loss: 0.5704 - accuracy: 0.79 - ETA: 0s - loss: 0.5673 - accuracy: 0.79 - ETA: 0s - loss: 0.5649 - accuracy: 0.79 - ETA: 0s - loss: 0.5642 - accuracy: 0.79 - ETA: 0s - loss: 0.5621 - accuracy: 0.79 - ETA: 0s - loss: 0.5579 - accuracy: 0.79 - ETA: 0s - loss: 0.5587 - accuracy: 0.79 - 2s 8ms/step - loss: 0.5587 - accuracy: 0.7941 - val_loss: 0.4956 - val_accuracy: 0.8035\n",
      "Epoch 2/5\n",
      "250/250 [==============================] - ETA: 0s - loss: 0.4832 - accuracy: 0.81 - ETA: 1s - loss: 0.5532 - accuracy: 0.76 - ETA: 1s - loss: 0.5213 - accuracy: 0.78 - ETA: 1s - loss: 0.5164 - accuracy: 0.78 - ETA: 1s - loss: 0.5204 - accuracy: 0.78 - ETA: 1s - loss: 0.5142 - accuracy: 0.79 - ETA: 1s - loss: 0.5113 - accuracy: 0.79 - ETA: 1s - loss: 0.5112 - accuracy: 0.79 - ETA: 1s - loss: 0.5113 - accuracy: 0.79 - ETA: 1s - loss: 0.5098 - accuracy: 0.79 - ETA: 0s - loss: 0.5096 - accuracy: 0.79 - ETA: 0s - loss: 0.5099 - accuracy: 0.79 - ETA: 0s - loss: 0.5106 - accuracy: 0.79 - ETA: 0s - loss: 0.5103 - accuracy: 0.79 - ETA: 0s - loss: 0.5060 - accuracy: 0.79 - ETA: 0s - loss: 0.5065 - accuracy: 0.79 - ETA: 0s - loss: 0.5052 - accuracy: 0.79 - ETA: 0s - loss: 0.5061 - accuracy: 0.79 - ETA: 0s - loss: 0.5057 - accuracy: 0.79 - ETA: 0s - loss: 0.5069 - accuracy: 0.79 - ETA: 0s - loss: 0.5085 - accuracy: 0.79 - ETA: 0s - loss: 0.5096 - accuracy: 0.79 - ETA: 0s - loss: 0.5105 - accuracy: 0.79 - ETA: 0s - loss: 0.5090 - accuracy: 0.79 - ETA: 0s - loss: 0.5079 - accuracy: 0.79 - ETA: 0s - loss: 0.5070 - accuracy: 0.79 - ETA: 0s - loss: 0.5062 - accuracy: 0.79 - ETA: 0s - loss: 0.5079 - accuracy: 0.79 - ETA: 0s - loss: 0.5084 - accuracy: 0.79 - 2s 7ms/step - loss: 0.5086 - accuracy: 0.7945 - val_loss: 0.4987 - val_accuracy: 0.8035\n",
      "Epoch 3/5\n",
      "250/250 [==============================] - ETA: 0s - loss: 0.3743 - accuracy: 0.90 - ETA: 1s - loss: 0.4820 - accuracy: 0.81 - ETA: 1s - loss: 0.5188 - accuracy: 0.78 - ETA: 1s - loss: 0.4944 - accuracy: 0.80 - ETA: 1s - loss: 0.5058 - accuracy: 0.79 - ETA: 1s - loss: 0.5100 - accuracy: 0.79 - ETA: 1s - loss: 0.5134 - accuracy: 0.79 - ETA: 1s - loss: 0.5218 - accuracy: 0.78 - ETA: 1s - loss: 0.5230 - accuracy: 0.78 - ETA: 0s - loss: 0.5240 - accuracy: 0.78 - ETA: 0s - loss: 0.5210 - accuracy: 0.78 - ETA: 0s - loss: 0.5210 - accuracy: 0.78 - ETA: 0s - loss: 0.5154 - accuracy: 0.78 - ETA: 0s - loss: 0.5154 - accuracy: 0.78 - ETA: 0s - loss: 0.5116 - accuracy: 0.79 - ETA: 0s - loss: 0.5117 - accuracy: 0.79 - ETA: 0s - loss: 0.5119 - accuracy: 0.79 - ETA: 0s - loss: 0.5139 - accuracy: 0.79 - ETA: 0s - loss: 0.5141 - accuracy: 0.79 - ETA: 0s - loss: 0.5137 - accuracy: 0.79 - ETA: 0s - loss: 0.5109 - accuracy: 0.79 - ETA: 0s - loss: 0.5117 - accuracy: 0.79 - ETA: 0s - loss: 0.5102 - accuracy: 0.79 - ETA: 0s - loss: 0.5112 - accuracy: 0.79 - ETA: 0s - loss: 0.5094 - accuracy: 0.79 - ETA: 0s - loss: 0.5076 - accuracy: 0.79 - ETA: 0s - loss: 0.5097 - accuracy: 0.79 - ETA: 0s - loss: 0.5106 - accuracy: 0.79 - ETA: 0s - loss: 0.5087 - accuracy: 0.79 - 2s 6ms/step - loss: 0.5092 - accuracy: 0.7945 - val_loss: 0.4966 - val_accuracy: 0.8035\n",
      "Epoch 4/5\n",
      "250/250 [==============================] - ETA: 0s - loss: 0.4849 - accuracy: 0.81 - ETA: 1s - loss: 0.5083 - accuracy: 0.79 - ETA: 1s - loss: 0.5218 - accuracy: 0.78 - ETA: 1s - loss: 0.4892 - accuracy: 0.80 - ETA: 1s - loss: 0.4902 - accuracy: 0.80 - ETA: 1s - loss: 0.4845 - accuracy: 0.81 - ETA: 1s - loss: 0.4926 - accuracy: 0.80 - ETA: 1s - loss: 0.4876 - accuracy: 0.80 - ETA: 1s - loss: 0.4953 - accuracy: 0.80 - ETA: 1s - loss: 0.4953 - accuracy: 0.80 - ETA: 1s - loss: 0.5022 - accuracy: 0.79 - ETA: 0s - loss: 0.5064 - accuracy: 0.79 - ETA: 0s - loss: 0.5050 - accuracy: 0.79 - ETA: 0s - loss: 0.5084 - accuracy: 0.79 - ETA: 0s - loss: 0.5076 - accuracy: 0.79 - ETA: 0s - loss: 0.5046 - accuracy: 0.79 - ETA: 0s - loss: 0.5062 - accuracy: 0.79 - ETA: 0s - loss: 0.5093 - accuracy: 0.79 - ETA: 0s - loss: 0.5076 - accuracy: 0.79 - ETA: 0s - loss: 0.5095 - accuracy: 0.79 - ETA: 0s - loss: 0.5079 - accuracy: 0.79 - ETA: 0s - loss: 0.5063 - accuracy: 0.79 - ETA: 0s - loss: 0.5044 - accuracy: 0.79 - ETA: 0s - loss: 0.5069 - accuracy: 0.79 - ETA: 0s - loss: 0.5058 - accuracy: 0.79 - ETA: 0s - loss: 0.5081 - accuracy: 0.79 - ETA: 0s - loss: 0.5088 - accuracy: 0.79 - ETA: 0s - loss: 0.5093 - accuracy: 0.79 - ETA: 0s - loss: 0.5081 - accuracy: 0.79 - 2s 7ms/step - loss: 0.5089 - accuracy: 0.7945 - val_loss: 0.4955 - val_accuracy: 0.8035\n",
      "Epoch 5/5\n",
      "250/250 [==============================] - ETA: 0s - loss: 0.6139 - accuracy: 0.71 - ETA: 1s - loss: 0.4965 - accuracy: 0.80 - ETA: 1s - loss: 0.5043 - accuracy: 0.79 - ETA: 1s - loss: 0.4929 - accuracy: 0.80 - ETA: 1s - loss: 0.5038 - accuracy: 0.79 - ETA: 1s - loss: 0.5090 - accuracy: 0.79 - ETA: 1s - loss: 0.5073 - accuracy: 0.79 - ETA: 1s - loss: 0.5055 - accuracy: 0.79 - ETA: 1s - loss: 0.5060 - accuracy: 0.79 - ETA: 1s - loss: 0.5080 - accuracy: 0.79 - ETA: 0s - loss: 0.5106 - accuracy: 0.79 - ETA: 0s - loss: 0.5085 - accuracy: 0.79 - ETA: 0s - loss: 0.5074 - accuracy: 0.79 - ETA: 0s - loss: 0.5102 - accuracy: 0.79 - ETA: 0s - loss: 0.5131 - accuracy: 0.79 - ETA: 0s - loss: 0.5109 - accuracy: 0.79 - ETA: 0s - loss: 0.5067 - accuracy: 0.79 - ETA: 0s - loss: 0.5072 - accuracy: 0.79 - ETA: 0s - loss: 0.5047 - accuracy: 0.79 - ETA: 0s - loss: 0.5055 - accuracy: 0.79 - ETA: 0s - loss: 0.5074 - accuracy: 0.79 - ETA: 0s - loss: 0.5092 - accuracy: 0.79 - ETA: 0s - loss: 0.5086 - accuracy: 0.79 - ETA: 0s - loss: 0.5083 - accuracy: 0.79 - ETA: 0s - loss: 0.5091 - accuracy: 0.79 - ETA: 0s - loss: 0.5098 - accuracy: 0.79 - ETA: 0s - loss: 0.5099 - accuracy: 0.79 - ETA: 0s - loss: 0.5085 - accuracy: 0.79 - ETA: 0s - loss: 0.5083 - accuracy: 0.79 - 2s 7ms/step - loss: 0.5089 - accuracy: 0.7945 - val_loss: 0.4955 - val_accuracy: 0.8035\n",
      "Epoch 1/5\n",
      "250/250 [==============================] - ETA: 0s - loss: 0.6936 - accuracy: 0.21 - ETA: 1s - loss: 1.0436 - accuracy: 0.75 - ETA: 1s - loss: 0.7829 - accuracy: 0.77 - ETA: 1s - loss: 0.6918 - accuracy: 0.78 - ETA: 1s - loss: 0.6365 - accuracy: 0.79 - ETA: 1s - loss: 0.6015 - accuracy: 0.79 - ETA: 1s - loss: 0.5903 - accuracy: 0.79 - ETA: 1s - loss: 0.5788 - accuracy: 0.79 - ETA: 1s - loss: 0.5730 - accuracy: 0.79 - ETA: 1s - loss: 0.5628 - accuracy: 0.79 - ETA: 0s - loss: 0.5584 - accuracy: 0.79 - ETA: 0s - loss: 0.5578 - accuracy: 0.78 - ETA: 0s - loss: 0.5526 - accuracy: 0.79 - ETA: 0s - loss: 0.5468 - accuracy: 0.79 - ETA: 0s - loss: 0.5422 - accuracy: 0.79 - ETA: 0s - loss: 0.5422 - accuracy: 0.79 - ETA: 0s - loss: 0.5388 - accuracy: 0.79 - ETA: 0s - loss: 0.5346 - accuracy: 0.79 - ETA: 0s - loss: 0.5614 - accuracy: 0.78 - ETA: 0s - loss: 0.5603 - accuracy: 0.78 - ETA: 0s - loss: 0.5554 - accuracy: 0.79 - ETA: 0s - loss: 0.5506 - accuracy: 0.79 - ETA: 0s - loss: 0.5507 - accuracy: 0.79 - ETA: 0s - loss: 0.5490 - accuracy: 0.79 - ETA: 0s - loss: 0.5491 - accuracy: 0.79 - ETA: 0s - loss: 0.5493 - accuracy: 0.78 - ETA: 0s - loss: 0.5478 - accuracy: 0.78 - ETA: 0s - loss: 0.5469 - accuracy: 0.78 - ETA: 0s - loss: 0.5464 - accuracy: 0.78 - ETA: 0s - loss: 0.5445 - accuracy: 0.78 - 2s 8ms/step - loss: 0.5453 - accuracy: 0.7890 - val_loss: 0.4961 - val_accuracy: 0.8035\n"
     ]
    },
    {
     "name": "stdout",
     "output_type": "stream",
     "text": [
      "Epoch 2/5\n",
      "250/250 [==============================] - ETA: 0s - loss: 0.4429 - accuracy: 0.84 - ETA: 1s - loss: 0.4849 - accuracy: 0.81 - ETA: 1s - loss: 0.5018 - accuracy: 0.79 - ETA: 1s - loss: 0.4989 - accuracy: 0.80 - ETA: 1s - loss: 0.5128 - accuracy: 0.79 - ETA: 1s - loss: 0.5123 - accuracy: 0.79 - ETA: 1s - loss: 0.5122 - accuracy: 0.79 - ETA: 1s - loss: 0.5105 - accuracy: 0.79 - ETA: 1s - loss: 0.5045 - accuracy: 0.79 - ETA: 0s - loss: 0.5068 - accuracy: 0.79 - ETA: 0s - loss: 0.5031 - accuracy: 0.79 - ETA: 0s - loss: 0.5056 - accuracy: 0.79 - ETA: 0s - loss: 0.5002 - accuracy: 0.80 - ETA: 0s - loss: 0.4986 - accuracy: 0.80 - ETA: 0s - loss: 0.4984 - accuracy: 0.80 - ETA: 0s - loss: 0.4985 - accuracy: 0.80 - ETA: 0s - loss: 0.4997 - accuracy: 0.80 - ETA: 0s - loss: 0.5031 - accuracy: 0.79 - ETA: 0s - loss: 0.5049 - accuracy: 0.79 - ETA: 0s - loss: 0.5065 - accuracy: 0.79 - ETA: 0s - loss: 0.5062 - accuracy: 0.79 - ETA: 0s - loss: 0.5057 - accuracy: 0.79 - ETA: 0s - loss: 0.5045 - accuracy: 0.79 - ETA: 0s - loss: 0.5040 - accuracy: 0.79 - ETA: 0s - loss: 0.5059 - accuracy: 0.79 - ETA: 0s - loss: 0.5086 - accuracy: 0.79 - ETA: 0s - loss: 0.5091 - accuracy: 0.79 - ETA: 0s - loss: 0.5084 - accuracy: 0.79 - ETA: 0s - loss: 0.5089 - accuracy: 0.79 - 2s 6ms/step - loss: 0.5090 - accuracy: 0.7945 - val_loss: 0.4955 - val_accuracy: 0.8035\n",
      "Epoch 3/5\n",
      "250/250 [==============================] - ETA: 0s - loss: 0.4397 - accuracy: 0.84 - ETA: 1s - loss: 0.4687 - accuracy: 0.82 - ETA: 1s - loss: 0.4934 - accuracy: 0.80 - ETA: 1s - loss: 0.5179 - accuracy: 0.78 - ETA: 1s - loss: 0.5232 - accuracy: 0.78 - ETA: 1s - loss: 0.5142 - accuracy: 0.79 - ETA: 1s - loss: 0.5129 - accuracy: 0.79 - ETA: 1s - loss: 0.5063 - accuracy: 0.79 - ETA: 1s - loss: 0.5075 - accuracy: 0.79 - ETA: 0s - loss: 0.5001 - accuracy: 0.80 - ETA: 0s - loss: 0.5086 - accuracy: 0.79 - ETA: 0s - loss: 0.5087 - accuracy: 0.79 - ETA: 0s - loss: 0.5083 - accuracy: 0.79 - ETA: 0s - loss: 0.5109 - accuracy: 0.79 - ETA: 0s - loss: 0.5081 - accuracy: 0.79 - ETA: 0s - loss: 0.5071 - accuracy: 0.79 - ETA: 0s - loss: 0.5068 - accuracy: 0.79 - ETA: 0s - loss: 0.5057 - accuracy: 0.79 - ETA: 0s - loss: 0.5077 - accuracy: 0.79 - ETA: 0s - loss: 0.5077 - accuracy: 0.79 - ETA: 0s - loss: 0.5079 - accuracy: 0.79 - ETA: 0s - loss: 0.5066 - accuracy: 0.79 - ETA: 0s - loss: 0.5081 - accuracy: 0.79 - ETA: 0s - loss: 0.5069 - accuracy: 0.79 - ETA: 0s - loss: 0.5085 - accuracy: 0.79 - ETA: 0s - loss: 0.5086 - accuracy: 0.79 - ETA: 0s - loss: 0.5077 - accuracy: 0.79 - ETA: 0s - loss: 0.5082 - accuracy: 0.79 - ETA: 0s - loss: 0.5095 - accuracy: 0.79 - 2s 6ms/step - loss: 0.5090 - accuracy: 0.7945 - val_loss: 0.4969 - val_accuracy: 0.8035\n",
      "Epoch 4/5\n",
      "250/250 [==============================] - ETA: 0s - loss: 0.8449 - accuracy: 0.53 - ETA: 1s - loss: 0.4956 - accuracy: 0.80 - ETA: 1s - loss: 0.5179 - accuracy: 0.78 - ETA: 1s - loss: 0.5197 - accuracy: 0.78 - ETA: 1s - loss: 0.5166 - accuracy: 0.78 - ETA: 1s - loss: 0.5099 - accuracy: 0.79 - ETA: 1s - loss: 0.5070 - accuracy: 0.79 - ETA: 1s - loss: 0.5152 - accuracy: 0.79 - ETA: 1s - loss: 0.5181 - accuracy: 0.78 - ETA: 1s - loss: 0.5152 - accuracy: 0.79 - ETA: 0s - loss: 0.5113 - accuracy: 0.79 - ETA: 0s - loss: 0.5156 - accuracy: 0.79 - ETA: 0s - loss: 0.5125 - accuracy: 0.79 - ETA: 0s - loss: 0.5117 - accuracy: 0.79 - ETA: 0s - loss: 0.5111 - accuracy: 0.79 - ETA: 0s - loss: 0.5142 - accuracy: 0.79 - ETA: 0s - loss: 0.5122 - accuracy: 0.79 - ETA: 0s - loss: 0.5114 - accuracy: 0.79 - ETA: 0s - loss: 0.5081 - accuracy: 0.79 - ETA: 0s - loss: 0.5083 - accuracy: 0.79 - ETA: 0s - loss: 0.5098 - accuracy: 0.79 - ETA: 0s - loss: 0.5107 - accuracy: 0.79 - ETA: 0s - loss: 0.5103 - accuracy: 0.79 - ETA: 0s - loss: 0.5107 - accuracy: 0.79 - ETA: 0s - loss: 0.5091 - accuracy: 0.79 - ETA: 0s - loss: 0.5116 - accuracy: 0.79 - ETA: 0s - loss: 0.5105 - accuracy: 0.79 - ETA: 0s - loss: 0.5102 - accuracy: 0.79 - ETA: 0s - loss: 0.5095 - accuracy: 0.79 - 2s 6ms/step - loss: 0.5092 - accuracy: 0.7945 - val_loss: 0.4956 - val_accuracy: 0.8035\n",
      "Epoch 5/5\n",
      "250/250 [==============================] - ETA: 0s - loss: 0.5732 - accuracy: 0.75 - ETA: 1s - loss: 0.4775 - accuracy: 0.81 - ETA: 1s - loss: 0.4749 - accuracy: 0.81 - ETA: 1s - loss: 0.4867 - accuracy: 0.81 - ETA: 1s - loss: 0.5052 - accuracy: 0.79 - ETA: 1s - loss: 0.5110 - accuracy: 0.79 - ETA: 1s - loss: 0.4986 - accuracy: 0.80 - ETA: 1s - loss: 0.5022 - accuracy: 0.80 - ETA: 1s - loss: 0.5085 - accuracy: 0.79 - ETA: 0s - loss: 0.5091 - accuracy: 0.79 - ETA: 0s - loss: 0.5096 - accuracy: 0.79 - ETA: 0s - loss: 0.5095 - accuracy: 0.79 - ETA: 0s - loss: 0.5082 - accuracy: 0.79 - ETA: 0s - loss: 0.5045 - accuracy: 0.79 - ETA: 0s - loss: 0.5044 - accuracy: 0.79 - ETA: 0s - loss: 0.5016 - accuracy: 0.80 - ETA: 0s - loss: 0.4991 - accuracy: 0.80 - ETA: 0s - loss: 0.5006 - accuracy: 0.80 - ETA: 0s - loss: 0.5006 - accuracy: 0.80 - ETA: 0s - loss: 0.4985 - accuracy: 0.80 - ETA: 0s - loss: 0.4997 - accuracy: 0.80 - ETA: 0s - loss: 0.5010 - accuracy: 0.80 - ETA: 0s - loss: 0.5000 - accuracy: 0.80 - ETA: 0s - loss: 0.5042 - accuracy: 0.79 - ETA: 0s - loss: 0.5070 - accuracy: 0.79 - ETA: 0s - loss: 0.5079 - accuracy: 0.79 - ETA: 0s - loss: 0.5080 - accuracy: 0.79 - ETA: 0s - loss: 0.5095 - accuracy: 0.79 - ETA: 0s - loss: 0.5091 - accuracy: 0.79 - 2s 6ms/step - loss: 0.5091 - accuracy: 0.7945 - val_loss: 0.4956 - val_accuracy: 0.8035\n",
      "Epoch 1/5\n",
      "250/250 [==============================] - ETA: 0s - loss: 0.6931 - accuracy: 0.62 - ETA: 1s - loss: 0.7766 - accuracy: 0.73 - ETA: 1s - loss: 0.6844 - accuracy: 0.76 - ETA: 1s - loss: 0.6235 - accuracy: 0.78 - ETA: 1s - loss: 0.5980 - accuracy: 0.78 - ETA: 1s - loss: 0.5845 - accuracy: 0.78 - ETA: 1s - loss: 0.5740 - accuracy: 0.78 - ETA: 1s - loss: 0.5681 - accuracy: 0.78 - ETA: 1s - loss: 0.5570 - accuracy: 0.78 - ETA: 1s - loss: 0.5526 - accuracy: 0.78 - ETA: 1s - loss: 0.5460 - accuracy: 0.79 - ETA: 0s - loss: 0.5442 - accuracy: 0.79 - ETA: 0s - loss: 0.5458 - accuracy: 0.78 - ETA: 0s - loss: 0.5447 - accuracy: 0.78 - ETA: 0s - loss: 0.5457 - accuracy: 0.78 - ETA: 0s - loss: 0.5408 - accuracy: 0.78 - ETA: 0s - loss: 0.5361 - accuracy: 0.78 - ETA: 0s - loss: 0.5349 - accuracy: 0.78 - ETA: 0s - loss: 0.5335 - accuracy: 0.78 - ETA: 0s - loss: 0.5296 - accuracy: 0.79 - ETA: 0s - loss: 0.5259 - accuracy: 0.79 - ETA: 0s - loss: 0.5263 - accuracy: 0.79 - ETA: 0s - loss: 0.5282 - accuracy: 0.79 - ETA: 0s - loss: 0.5275 - accuracy: 0.79 - ETA: 0s - loss: 0.5244 - accuracy: 0.79 - ETA: 0s - loss: 0.5235 - accuracy: 0.79 - ETA: 0s - loss: 0.5247 - accuracy: 0.79 - ETA: 0s - loss: 0.5245 - accuracy: 0.79 - ETA: 0s - loss: 0.5235 - accuracy: 0.79 - ETA: 0s - loss: 0.5230 - accuracy: 0.79 - 2s 8ms/step - loss: 0.5227 - accuracy: 0.7931 - val_loss: 0.4957 - val_accuracy: 0.8035\n",
      "Epoch 2/5\n",
      "250/250 [==============================] - ETA: 0s - loss: 0.7814 - accuracy: 0.59 - ETA: 1s - loss: 0.5439 - accuracy: 0.76 - ETA: 1s - loss: 0.5290 - accuracy: 0.77 - ETA: 1s - loss: 0.5354 - accuracy: 0.77 - ETA: 1s - loss: 0.5144 - accuracy: 0.79 - ETA: 1s - loss: 0.5204 - accuracy: 0.78 - ETA: 1s - loss: 0.5162 - accuracy: 0.78 - ETA: 1s - loss: 0.5150 - accuracy: 0.79 - ETA: 1s - loss: 0.5161 - accuracy: 0.78 - ETA: 1s - loss: 0.5187 - accuracy: 0.78 - ETA: 0s - loss: 0.5178 - accuracy: 0.78 - ETA: 0s - loss: 0.5114 - accuracy: 0.79 - ETA: 0s - loss: 0.5140 - accuracy: 0.79 - ETA: 0s - loss: 0.5163 - accuracy: 0.78 - ETA: 0s - loss: 0.5165 - accuracy: 0.78 - ETA: 0s - loss: 0.5121 - accuracy: 0.79 - ETA: 0s - loss: 0.5152 - accuracy: 0.79 - ETA: 0s - loss: 0.5159 - accuracy: 0.78 - ETA: 0s - loss: 0.5156 - accuracy: 0.79 - ETA: 0s - loss: 0.5125 - accuracy: 0.79 - ETA: 0s - loss: 0.5131 - accuracy: 0.79 - ETA: 0s - loss: 0.5103 - accuracy: 0.79 - ETA: 0s - loss: 0.5113 - accuracy: 0.79 - ETA: 0s - loss: 0.5098 - accuracy: 0.79 - ETA: 0s - loss: 0.5085 - accuracy: 0.79 - ETA: 0s - loss: 0.5103 - accuracy: 0.79 - ETA: 0s - loss: 0.5114 - accuracy: 0.79 - ETA: 0s - loss: 0.5104 - accuracy: 0.79 - ETA: 0s - loss: 0.5106 - accuracy: 0.79 - ETA: 0s - loss: 0.5117 - accuracy: 0.79 - 2s 7ms/step - loss: 0.5115 - accuracy: 0.7928 - val_loss: 0.4962 - val_accuracy: 0.8035\n"
     ]
    },
    {
     "name": "stdout",
     "output_type": "stream",
     "text": [
      "Epoch 3/5\n",
      "250/250 [==============================] - ETA: 0s - loss: 0.3608 - accuracy: 0.90 - ETA: 1s - loss: 0.4700 - accuracy: 0.82 - ETA: 1s - loss: 0.4964 - accuracy: 0.80 - ETA: 1s - loss: 0.4926 - accuracy: 0.80 - ETA: 1s - loss: 0.4954 - accuracy: 0.80 - ETA: 1s - loss: 0.4899 - accuracy: 0.80 - ETA: 1s - loss: 0.5047 - accuracy: 0.79 - ETA: 1s - loss: 0.5021 - accuracy: 0.80 - ETA: 1s - loss: 0.5061 - accuracy: 0.79 - ETA: 1s - loss: 0.5087 - accuracy: 0.79 - ETA: 1s - loss: 0.5063 - accuracy: 0.79 - ETA: 1s - loss: 0.5057 - accuracy: 0.79 - ETA: 0s - loss: 0.5063 - accuracy: 0.79 - ETA: 0s - loss: 0.5069 - accuracy: 0.79 - ETA: 0s - loss: 0.5086 - accuracy: 0.79 - ETA: 0s - loss: 0.5101 - accuracy: 0.79 - ETA: 0s - loss: 0.5105 - accuracy: 0.79 - ETA: 0s - loss: 0.5091 - accuracy: 0.79 - ETA: 0s - loss: 0.5090 - accuracy: 0.79 - ETA: 0s - loss: 0.5083 - accuracy: 0.79 - ETA: 0s - loss: 0.5116 - accuracy: 0.79 - ETA: 0s - loss: 0.5116 - accuracy: 0.79 - ETA: 0s - loss: 0.5137 - accuracy: 0.79 - ETA: 0s - loss: 0.5130 - accuracy: 0.79 - ETA: 0s - loss: 0.5121 - accuracy: 0.79 - ETA: 0s - loss: 0.5127 - accuracy: 0.79 - ETA: 0s - loss: 0.5127 - accuracy: 0.79 - ETA: 0s - loss: 0.5121 - accuracy: 0.79 - ETA: 0s - loss: 0.5115 - accuracy: 0.79 - ETA: 0s - loss: 0.5102 - accuracy: 0.79 - ETA: 0s - loss: 0.5089 - accuracy: 0.79 - 2s 7ms/step - loss: 0.5089 - accuracy: 0.7945 - val_loss: 0.4959 - val_accuracy: 0.8035\n",
      "Epoch 4/5\n",
      "250/250 [==============================] - ETA: 0s - loss: 0.7141 - accuracy: 0.65 - ETA: 1s - loss: 0.4540 - accuracy: 0.83 - ETA: 1s - loss: 0.5002 - accuracy: 0.80 - ETA: 1s - loss: 0.5069 - accuracy: 0.79 - ETA: 1s - loss: 0.5083 - accuracy: 0.79 - ETA: 1s - loss: 0.5085 - accuracy: 0.79 - ETA: 1s - loss: 0.5079 - accuracy: 0.79 - ETA: 1s - loss: 0.5085 - accuracy: 0.79 - ETA: 1s - loss: 0.5154 - accuracy: 0.79 - ETA: 1s - loss: 0.5106 - accuracy: 0.79 - ETA: 0s - loss: 0.5115 - accuracy: 0.79 - ETA: 0s - loss: 0.5107 - accuracy: 0.79 - ETA: 0s - loss: 0.5063 - accuracy: 0.79 - ETA: 0s - loss: 0.5089 - accuracy: 0.79 - ETA: 0s - loss: 0.5129 - accuracy: 0.79 - ETA: 0s - loss: 0.5115 - accuracy: 0.79 - ETA: 0s - loss: 0.5110 - accuracy: 0.79 - ETA: 0s - loss: 0.5096 - accuracy: 0.79 - ETA: 0s - loss: 0.5103 - accuracy: 0.79 - ETA: 0s - loss: 0.5108 - accuracy: 0.79 - ETA: 0s - loss: 0.5111 - accuracy: 0.79 - ETA: 0s - loss: 0.5116 - accuracy: 0.79 - ETA: 0s - loss: 0.5095 - accuracy: 0.79 - ETA: 0s - loss: 0.5101 - accuracy: 0.79 - ETA: 0s - loss: 0.5104 - accuracy: 0.79 - ETA: 0s - loss: 0.5098 - accuracy: 0.79 - ETA: 0s - loss: 0.5108 - accuracy: 0.79 - ETA: 0s - loss: 0.5091 - accuracy: 0.79 - ETA: 0s - loss: 0.5088 - accuracy: 0.79 - 2s 6ms/step - loss: 0.5094 - accuracy: 0.7945 - val_loss: 0.4956 - val_accuracy: 0.8035\n",
      "Epoch 5/5\n",
      "250/250 [==============================] - ETA: 0s - loss: 0.3476 - accuracy: 0.90 - ETA: 1s - loss: 0.5142 - accuracy: 0.79 - ETA: 1s - loss: 0.4889 - accuracy: 0.80 - ETA: 1s - loss: 0.4902 - accuracy: 0.80 - ETA: 1s - loss: 0.5029 - accuracy: 0.79 - ETA: 1s - loss: 0.4953 - accuracy: 0.80 - ETA: 1s - loss: 0.4922 - accuracy: 0.80 - ETA: 1s - loss: 0.4897 - accuracy: 0.80 - ETA: 1s - loss: 0.4910 - accuracy: 0.80 - ETA: 1s - loss: 0.4885 - accuracy: 0.80 - ETA: 0s - loss: 0.4896 - accuracy: 0.80 - ETA: 0s - loss: 0.4947 - accuracy: 0.80 - ETA: 0s - loss: 0.4951 - accuracy: 0.80 - ETA: 0s - loss: 0.4966 - accuracy: 0.80 - ETA: 0s - loss: 0.4984 - accuracy: 0.80 - ETA: 0s - loss: 0.5001 - accuracy: 0.80 - ETA: 0s - loss: 0.5026 - accuracy: 0.79 - ETA: 0s - loss: 0.5012 - accuracy: 0.80 - ETA: 0s - loss: 0.4999 - accuracy: 0.80 - ETA: 0s - loss: 0.5006 - accuracy: 0.80 - ETA: 0s - loss: 0.5017 - accuracy: 0.79 - ETA: 0s - loss: 0.5027 - accuracy: 0.79 - ETA: 0s - loss: 0.5025 - accuracy: 0.79 - ETA: 0s - loss: 0.5042 - accuracy: 0.79 - ETA: 0s - loss: 0.5056 - accuracy: 0.79 - ETA: 0s - loss: 0.5064 - accuracy: 0.79 - ETA: 0s - loss: 0.5063 - accuracy: 0.79 - ETA: 0s - loss: 0.5081 - accuracy: 0.79 - ETA: 0s - loss: 0.5087 - accuracy: 0.79 - 2s 7ms/step - loss: 0.5087 - accuracy: 0.7945 - val_loss: 0.4973 - val_accuracy: 0.8035\n"
     ]
    },
    {
     "data": {
      "text/html": [
       "<span style=\"color:#4527A0\"><h1 style=\"font-size:18px\">Trial complete</h1></span>"
      ],
      "text/plain": [
       "<IPython.core.display.HTML object>"
      ]
     },
     "metadata": {},
     "output_type": "display_data"
    },
    {
     "data": {
      "text/html": [
       "<span style=\"color:#4527A0\"><h1 style=\"font-size:18px\">Trial summary</h1></span>"
      ],
      "text/plain": [
       "<IPython.core.display.HTML object>"
      ]
     },
     "metadata": {},
     "output_type": "display_data"
    },
    {
     "data": {
      "text/html": [
       "<span style=\"color:cyan\"> |-Trial ID: 0728d7280ca560492501c0d923539cae</span>"
      ],
      "text/plain": [
       "<IPython.core.display.HTML object>"
      ]
     },
     "metadata": {},
     "output_type": "display_data"
    },
    {
     "data": {
      "text/html": [
       "<span style=\"color:cyan\"> |-Score: 0.8034999966621399</span>"
      ],
      "text/plain": [
       "<IPython.core.display.HTML object>"
      ]
     },
     "metadata": {},
     "output_type": "display_data"
    },
    {
     "data": {
      "text/html": [
       "<span style=\"color:cyan\"> |-Best step: 0</span>"
      ],
      "text/plain": [
       "<IPython.core.display.HTML object>"
      ]
     },
     "metadata": {},
     "output_type": "display_data"
    },
    {
     "data": {
      "text/html": [
       "<span style=\"color:#7E57C2\"><h2 style=\"font-size:16px\">Hyperparameters:</h2></span>"
      ],
      "text/plain": [
       "<IPython.core.display.HTML object>"
      ]
     },
     "metadata": {},
     "output_type": "display_data"
    },
    {
     "data": {
      "text/html": [
       "<span style=\"color:cyan\"> |-learning_rate: 0.01</span>"
      ],
      "text/plain": [
       "<IPython.core.display.HTML object>"
      ]
     },
     "metadata": {},
     "output_type": "display_data"
    },
    {
     "data": {
      "text/html": [
       "<span style=\"color:blue\"> |-num_layers: 18</span>"
      ],
      "text/plain": [
       "<IPython.core.display.HTML object>"
      ]
     },
     "metadata": {},
     "output_type": "display_data"
    },
    {
     "data": {
      "text/html": [
       "<span style=\"color:cyan\"> |-units_0: 224</span>"
      ],
      "text/plain": [
       "<IPython.core.display.HTML object>"
      ]
     },
     "metadata": {},
     "output_type": "display_data"
    },
    {
     "data": {
      "text/html": [
       "<span style=\"color:blue\"> |-units_1: 384</span>"
      ],
      "text/plain": [
       "<IPython.core.display.HTML object>"
      ]
     },
     "metadata": {},
     "output_type": "display_data"
    },
    {
     "data": {
      "text/html": [
       "<span style=\"color:cyan\"> |-units_10: 64</span>"
      ],
      "text/plain": [
       "<IPython.core.display.HTML object>"
      ]
     },
     "metadata": {},
     "output_type": "display_data"
    },
    {
     "data": {
      "text/html": [
       "<span style=\"color:blue\"> |-units_11: 256</span>"
      ],
      "text/plain": [
       "<IPython.core.display.HTML object>"
      ]
     },
     "metadata": {},
     "output_type": "display_data"
    },
    {
     "data": {
      "text/html": [
       "<span style=\"color:cyan\"> |-units_12: 320</span>"
      ],
      "text/plain": [
       "<IPython.core.display.HTML object>"
      ]
     },
     "metadata": {},
     "output_type": "display_data"
    },
    {
     "data": {
      "text/html": [
       "<span style=\"color:blue\"> |-units_13: 128</span>"
      ],
      "text/plain": [
       "<IPython.core.display.HTML object>"
      ]
     },
     "metadata": {},
     "output_type": "display_data"
    },
    {
     "data": {
      "text/html": [
       "<span style=\"color:cyan\"> |-units_14: 320</span>"
      ],
      "text/plain": [
       "<IPython.core.display.HTML object>"
      ]
     },
     "metadata": {},
     "output_type": "display_data"
    },
    {
     "data": {
      "text/html": [
       "<span style=\"color:blue\"> |-units_15: 32</span>"
      ],
      "text/plain": [
       "<IPython.core.display.HTML object>"
      ]
     },
     "metadata": {},
     "output_type": "display_data"
    },
    {
     "data": {
      "text/html": [
       "<span style=\"color:cyan\"> |-units_16: 32</span>"
      ],
      "text/plain": [
       "<IPython.core.display.HTML object>"
      ]
     },
     "metadata": {},
     "output_type": "display_data"
    },
    {
     "data": {
      "text/html": [
       "<span style=\"color:blue\"> |-units_17: 32</span>"
      ],
      "text/plain": [
       "<IPython.core.display.HTML object>"
      ]
     },
     "metadata": {},
     "output_type": "display_data"
    },
    {
     "data": {
      "text/html": [
       "<span style=\"color:cyan\"> |-units_2: 192</span>"
      ],
      "text/plain": [
       "<IPython.core.display.HTML object>"
      ]
     },
     "metadata": {},
     "output_type": "display_data"
    },
    {
     "data": {
      "text/html": [
       "<span style=\"color:blue\"> |-units_3: 160</span>"
      ],
      "text/plain": [
       "<IPython.core.display.HTML object>"
      ]
     },
     "metadata": {},
     "output_type": "display_data"
    },
    {
     "data": {
      "text/html": [
       "<span style=\"color:cyan\"> |-units_4: 96</span>"
      ],
      "text/plain": [
       "<IPython.core.display.HTML object>"
      ]
     },
     "metadata": {},
     "output_type": "display_data"
    },
    {
     "data": {
      "text/html": [
       "<span style=\"color:blue\"> |-units_5: 96</span>"
      ],
      "text/plain": [
       "<IPython.core.display.HTML object>"
      ]
     },
     "metadata": {},
     "output_type": "display_data"
    },
    {
     "data": {
      "text/html": [
       "<span style=\"color:cyan\"> |-units_6: 96</span>"
      ],
      "text/plain": [
       "<IPython.core.display.HTML object>"
      ]
     },
     "metadata": {},
     "output_type": "display_data"
    },
    {
     "data": {
      "text/html": [
       "<span style=\"color:blue\"> |-units_7: 128</span>"
      ],
      "text/plain": [
       "<IPython.core.display.HTML object>"
      ]
     },
     "metadata": {},
     "output_type": "display_data"
    },
    {
     "data": {
      "text/html": [
       "<span style=\"color:cyan\"> |-units_8: 320</span>"
      ],
      "text/plain": [
       "<IPython.core.display.HTML object>"
      ]
     },
     "metadata": {},
     "output_type": "display_data"
    },
    {
     "data": {
      "text/html": [
       "<span style=\"color:blue\"> |-units_9: 256</span>"
      ],
      "text/plain": [
       "<IPython.core.display.HTML object>"
      ]
     },
     "metadata": {},
     "output_type": "display_data"
    },
    {
     "name": "stdout",
     "output_type": "stream",
     "text": [
      "INFO:tensorflow:Oracle triggered exit\n"
     ]
    }
   ],
   "source": [
    "tuner.search(X_train, y_train,\n",
    "             epochs=5,\n",
    "             validation_data=(X_test, y_test))"
   ]
  },
  {
   "cell_type": "code",
   "execution_count": null,
   "metadata": {},
   "outputs": [],
   "source": []
  }
 ],
 "metadata": {
  "kernelspec": {
   "display_name": "Python 3",
   "language": "python",
   "name": "python3"
  },
  "language_info": {
   "codemirror_mode": {
    "name": "ipython",
    "version": 3
   },
   "file_extension": ".py",
   "mimetype": "text/x-python",
   "name": "python",
   "nbconvert_exporter": "python",
   "pygments_lexer": "ipython3",
   "version": "3.8.3"
  }
 },
 "nbformat": 4,
 "nbformat_minor": 4
}
